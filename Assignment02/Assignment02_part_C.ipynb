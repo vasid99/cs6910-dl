{
  "nbformat": 4,
  "nbformat_minor": 0,
  "metadata": {
    "colab": {
      "name": "Assignment02_part_C.ipynb",
      "provenance": [],
      "collapsed_sections": [],
      "authorship_tag": "ABX9TyN+94WLbGnhh/LvfG69MW8P",
      "include_colab_link": true
    },
    "kernelspec": {
      "name": "python3",
      "display_name": "Python 3"
    },
    "language_info": {
      "name": "python"
    },
    "accelerator": "GPU"
  },
  "cells": [
    {
      "cell_type": "markdown",
      "metadata": {
        "id": "view-in-github",
        "colab_type": "text"
      },
      "source": [
        "<a href=\"https://colab.research.google.com/github/vasid99/cs6910-dl/blob/main/Assignment02/Assignment02_part_C.ipynb\" target=\"_parent\"><img src=\"https://colab.research.google.com/assets/colab-badge.svg\" alt=\"Open In Colab\"/></a>"
      ]
    },
    {
      "cell_type": "markdown",
      "metadata": {
        "id": "bXoxAThnHcoy"
      },
      "source": [
        "# [Video of model in action](https://youtu.be/pnCPKJ0zHeo)"
      ]
    },
    {
      "cell_type": "markdown",
      "metadata": {
        "id": "Vfi_ptXpHl_J"
      },
      "source": [
        "# Code"
      ]
    },
    {
      "cell_type": "markdown",
      "metadata": {
        "id": "qWND9m7xHpIO"
      },
      "source": [
        "## Part 1: Preparation"
      ]
    },
    {
      "cell_type": "markdown",
      "metadata": {
        "id": "NzYVKQzQffAb"
      },
      "source": [
        "## Preliminary checks"
      ]
    },
    {
      "cell_type": "markdown",
      "metadata": {
        "id": "QY3S4peAm1Ar"
      },
      "source": [
        "Make sure GPUs are enabled in Edit > Notebook Settings"
      ]
    },
    {
      "cell_type": "code",
      "metadata": {
        "id": "-rYWcy3jfhff"
      },
      "source": [
        "import cv2\n",
        "print(\"OpenCV version\",cv2.__version__,\"\\n\")\n",
        "print(\"NVIDIA drivers:\")\n",
        "!nvidia-smi"
      ],
      "execution_count": null,
      "outputs": []
    },
    {
      "cell_type": "markdown",
      "metadata": {
        "id": "Tj_ed39RRuAi"
      },
      "source": [
        "### Mount Google Drive for accessing dataset"
      ]
    },
    {
      "cell_type": "code",
      "metadata": {
        "id": "07fPR2wtQ0QX"
      },
      "source": [
        "DRIVE_PATH=\"/content/drive\"\n",
        "\n",
        "from google.colab import drive\n",
        "drive.mount(DRIVE_PATH)\n",
        "\n",
        "fullDrivePath = lambda s:DRIVE_PATH+\"/MyDrive/\"+s"
      ],
      "execution_count": null,
      "outputs": []
    },
    {
      "cell_type": "markdown",
      "metadata": {
        "id": "0cC_k07bHtJ7"
      },
      "source": [
        "### A) Darknet"
      ]
    },
    {
      "cell_type": "code",
      "metadata": {
        "id": "JeHlqb2DHXLu"
      },
      "source": [
        "%cd /content\n",
        "!git clone https://github.com/AlexeyAB/darknet"
      ],
      "execution_count": null,
      "outputs": []
    },
    {
      "cell_type": "code",
      "metadata": {
        "id": "9_v-pIOWH9Y7"
      },
      "source": [
        "%cd /content/darknet\n",
        "!sed -i \"s/GPU=0/GPU=1/\" Makefile\n",
        "!sed -i \"s/CUDNN=0/CUDNN=1/\" Makefile\n",
        "!sed -i \"s/CUDNN_HALF=0/CUDNN_HALF=1/\" Makefile\n",
        "!sed -i \"s/OPENCV=0/OPENCV=1/\" Makefile\n",
        "!make"
      ],
      "execution_count": null,
      "outputs": []
    },
    {
      "cell_type": "markdown",
      "metadata": {
        "id": "sALFyY4PIRUD"
      },
      "source": [
        "### B) Mask Dataset + Darknet files specific to it"
      ]
    },
    {
      "cell_type": "markdown",
      "metadata": {
        "id": "m4c06FTUPoDw"
      },
      "source": [
        "First add a shortcut to [this folder](https://drive.google.com/drive/folders/1GTPvtwCJF0Cfx4uw5_TAExfaTTnGjhJU?usp=sharing) to your Google Drive (click -> Add Shortcut To Drive).<br><br>\n",
        "Once done, run cells below, putting path to the shortcut folder into the `DS_PATH` variable below"
      ]
    },
    {
      "cell_type": "code",
      "metadata": {
        "id": "MbBY1C7qMLyB"
      },
      "source": [
        "DS_FULL_PATH=fullDrivePath(\"CS6910/A2/yolo-mask/yolo-mask-dataset\")\n",
        "\n",
        "!ln -s $DS_FULL_PATH/images /content/darknet/data/images\n",
        "\n",
        "!cp $DS_FULL_PATH/train.txt  /content/darknet/data/train.txt\n",
        "!cp $DS_FULL_PATH/valid.txt  /content/darknet/data/valid.txt\n",
        "!cp $DS_FULL_PATH/test.txt   /content/darknet/data/test.txt \n",
        "\n",
        "!cp $DS_FULL_PATH/custom.data  /content/darknet/data/custom.data \n",
        "!cp $DS_FULL_PATH/custom.names /content/darknet/data/custom.names\n",
        "\n",
        "!cp $DS_FULL_PATH/yolov4-custom-mask.cfg /content/darknet/cfg/yolov4-custom-mask.cfg\n",
        "!cp $DS_FULL_PATH/yolov4-tiny-custom-mask.cfg /content/darknet/cfg/yolov4-tiny-custom-mask.cfg"
      ],
      "execution_count": 5,
      "outputs": []
    },
    {
      "cell_type": "markdown",
      "metadata": {
        "id": "a_-iwICCIoyu"
      },
      "source": [
        "### C) Pretrained weights for fresh training of mask dataset"
      ]
    },
    {
      "cell_type": "code",
      "metadata": {
        "id": "MklmoXkIJVwH"
      },
      "source": [
        "%cd /content/darknet\n",
        "!wget https://github.com/AlexeyAB/darknet/releases/download/darknet_yolo_v3_optimal/yolov4.conv.137"
      ],
      "execution_count": null,
      "outputs": []
    },
    {
      "cell_type": "markdown",
      "metadata": {
        "id": "IVSbGGYUM1n6"
      },
      "source": [
        "### D) Pretrained weights for finetuning/testing of mask dataset"
      ]
    },
    {
      "cell_type": "markdown",
      "metadata": {
        "id": "JfoMXv7-S5iM"
      },
      "source": [
        "Training for mask dataset has been done for `yolov4-tiny` for ~23000 iterations, with weights saved [here](https://drive.google.com/drive/folders/1-0Zt08WmQVeOLz7-bHJxf47CGj2aO8H_?usp=sharing).<br><br>\n",
        "Download and copy them to the current runtime into `/content/darknet/backup`"
      ]
    },
    {
      "cell_type": "markdown",
      "metadata": {
        "id": "qmboA3FrYIUJ"
      },
      "source": [
        "### E) DOS to Unix file encoding"
      ]
    },
    {
      "cell_type": "code",
      "metadata": {
        "id": "upVHzcFFYOGB"
      },
      "source": [
        "!sudo apt install dos2unix"
      ],
      "execution_count": null,
      "outputs": []
    },
    {
      "cell_type": "code",
      "metadata": {
        "id": "greA_GEtYQfI"
      },
      "source": [
        "!dos2unix /content/darknet/data/train.txt\n",
        "!dos2unix /content/darknet/data/valid.txt\n",
        "!dos2unix /content/darknet/data/test.txt\n",
        "\n",
        "!dos2unix /content/darknet/data/custom.data\n",
        "!dos2unix /content/darknet/data/custom.names\n",
        "\n",
        "!dos2unix /content/darknet/cfg/yolov4-custom-mask.cfg\n",
        "!dos2unix /content/darknet/cfg/yolov4-tiny-custom-mask.cfg"
      ],
      "execution_count": null,
      "outputs": []
    },
    {
      "cell_type": "markdown",
      "metadata": {
        "id": "7uPBLfGmJYyb"
      },
      "source": [
        "## Part 2: Training"
      ]
    },
    {
      "cell_type": "markdown",
      "metadata": {
        "id": "M2dmdC4UXnfH"
      },
      "source": [
        "### Train mask detector from scratch"
      ]
    },
    {
      "cell_type": "code",
      "metadata": {
        "id": "jY_Y5OjpXm_a"
      },
      "source": [
        "!/content/darknet/darknet detector train /content/darknet/data/custom.data /content/darknet/cfg/yolov4-tiny-custom-mask.cfg /content/darknet/yolov4.conv.137 -dont_show -map"
      ],
      "execution_count": null,
      "outputs": []
    },
    {
      "cell_type": "markdown",
      "metadata": {
        "id": "0a35bHUWY0ss"
      },
      "source": [
        "### Train mask detector from pretrained mask dataset weights"
      ]
    },
    {
      "cell_type": "markdown",
      "metadata": {
        "id": "-bSnWQiF6s_m"
      },
      "source": [
        "Run to retrieve previous backups from Drive. If there are no backups in Drive, refer to Part 1(D)"
      ]
    },
    {
      "cell_type": "code",
      "metadata": {
        "id": "LzM7EmyZ2RPf"
      },
      "source": [
        "BACKUP_BASE_PATH=fullDrivePath(\"CS6910/A2/yolo-mask/yolo-mask-weights-backup\") # ensure that the directory exists (create if not so)"
      ],
      "execution_count": null,
      "outputs": []
    },
    {
      "cell_type": "code",
      "metadata": {
        "id": "qLaxXneb2LVg"
      },
      "source": [
        "!cp $BACKUP_BASE_PATH/trained-weights/* /content/darknet/backup"
      ],
      "execution_count": null,
      "outputs": []
    },
    {
      "cell_type": "markdown",
      "metadata": {
        "id": "xWoAVQja6y9F"
      },
      "source": [
        "Finetune retrieved weights"
      ]
    },
    {
      "cell_type": "code",
      "metadata": {
        "id": "QyZmVMgvY0-5"
      },
      "source": [
        "!/content/darknet/darknet detector train /content/darknet/data/custom.data /content/darknet/cfg/yolov4-tiny-custom-mask.cfg /content/darknet/backup/yolov4-tiny-custom-mask_last.weights -dont_show -map"
      ],
      "execution_count": null,
      "outputs": []
    },
    {
      "cell_type": "markdown",
      "metadata": {
        "id": "FZ_M42xyZIXy"
      },
      "source": [
        "### Check mean average precision of trained model"
      ]
    },
    {
      "cell_type": "code",
      "metadata": {
        "id": "RcSF4uH2ZIsa"
      },
      "source": [
        "!/content/darknet/darknet detector map   /content/darknet/data/custom.data /content/darknet/cfg/yolov4-tiny-custom-mask.cfg /content/darknet/backup/yolov4-tiny-custom-mask_best.weights"
      ],
      "execution_count": null,
      "outputs": []
    },
    {
      "cell_type": "markdown",
      "metadata": {
        "id": "k-UR5aMDZ1Hh"
      },
      "source": [
        "### Back up weights trained so far"
      ]
    },
    {
      "cell_type": "code",
      "metadata": {
        "id": "2SX3PDcYZ0ew"
      },
      "source": [
        "!cp -r /content/darknet/backup $BACKUP_BASE_PATH/$(date +%Y%m%d_%H%M%S)"
      ],
      "execution_count": 20,
      "outputs": []
    },
    {
      "cell_type": "markdown",
      "metadata": {
        "id": "ApL9195KJbcV"
      },
      "source": [
        "## Part 3: Testing"
      ]
    },
    {
      "cell_type": "markdown",
      "metadata": {
        "id": "z-GmvL1xbfAi"
      },
      "source": [
        "### Test on sample image"
      ]
    },
    {
      "cell_type": "markdown",
      "metadata": {
        "id": "tpg6WHBbbkQI"
      },
      "source": [
        "Output is sent to `/content/darknet/predictions.jpg`"
      ]
    },
    {
      "cell_type": "code",
      "metadata": {
        "id": "NUTjmo3ZbYMS"
      },
      "source": [
        "!/content/darknet/darknet detector test /content/darknet/data/custom.data /content/darknet/cfg/yolov4-tiny-custom-mask.cfg backup/yolov4-tiny-custom-mask_last.weights -dont_show $DS_FULL_PATH/images/test/Persone.jpg"
      ],
      "execution_count": null,
      "outputs": []
    },
    {
      "cell_type": "markdown",
      "metadata": {
        "id": "M0vcJzyAboGC"
      },
      "source": [
        "### Test on sample video"
      ]
    },
    {
      "cell_type": "markdown",
      "metadata": {
        "id": "ZoLzr0jobsap"
      },
      "source": [
        "Output is sent to `-out_filename` argument (`/content/darknet/results.avi` by default)"
      ]
    },
    {
      "cell_type": "code",
      "metadata": {
        "id": "RhixSCXjbtEx"
      },
      "source": [
        "!/content/darknet/darknet detector demo /content/darknet/data/custom.data /content/darknet/cfg/yolov4-tiny-custom-mask.cfg backup/yolov4-tiny-custom-mask_last.weights -dont_show $DS_FULL_PATH/video/maskvideo1.mp4 -i 0 -out_filename results.avi"
      ],
      "execution_count": null,
      "outputs": []
    }
  ]
}