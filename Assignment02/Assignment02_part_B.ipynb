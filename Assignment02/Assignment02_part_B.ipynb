{
  "nbformat": 4,
  "nbformat_minor": 5,
  "metadata": {
    "kernelspec": {
      "display_name": "Python 3",
      "language": "python",
      "name": "python3"
    },
    "language_info": {
      "codemirror_mode": {
        "name": "ipython",
        "version": 3
      },
      "file_extension": ".py",
      "mimetype": "text/x-python",
      "name": "python",
      "nbconvert_exporter": "python",
      "pygments_lexer": "ipython3",
      "version": "3.8.8"
    },
    "colab": {
      "name": "Assignment02_part_B.ipynb",
      "provenance": [],
      "include_colab_link": true
    },
    "accelerator": "GPU"
  },
  "cells": [
    {
      "cell_type": "markdown",
      "metadata": {
        "id": "view-in-github",
        "colab_type": "text"
      },
      "source": [
        "<a href=\"https://colab.research.google.com/github/vasid99/cs6910-dl/blob/main/Assignment02/Assignment02_part_B.ipynb\" target=\"_parent\"><img src=\"https://colab.research.google.com/assets/colab-badge.svg\" alt=\"Open In Colab\"/></a>"
      ]
    },
    {
      "cell_type": "markdown",
      "metadata": {
        "id": "065bdf49"
      },
      "source": [
        "# Imports and Definitions"
      ],
      "id": "065bdf49"
    },
    {
      "cell_type": "code",
      "metadata": {
        "colab": {
          "base_uri": "https://localhost:8080/"
        },
        "id": "9rU7COUvY7tV",
        "outputId": "2b31893a-5483-4ed0-8992-d2fd23c25dd9"
      },
      "source": [
        "!pip install -q wandb"
      ],
      "id": "9rU7COUvY7tV",
      "execution_count": 2,
      "outputs": [
        {
          "output_type": "stream",
          "text": [
            "\u001b[K     |████████████████████████████████| 2.1MB 8.2MB/s \n",
            "\u001b[K     |████████████████████████████████| 133kB 53.4MB/s \n",
            "\u001b[K     |████████████████████████████████| 102kB 12.4MB/s \n",
            "\u001b[K     |████████████████████████████████| 163kB 36.6MB/s \n",
            "\u001b[K     |████████████████████████████████| 71kB 9.8MB/s \n",
            "\u001b[?25h  Building wheel for subprocess32 (setup.py) ... \u001b[?25l\u001b[?25hdone\n",
            "  Building wheel for pathtools (setup.py) ... \u001b[?25l\u001b[?25hdone\n"
          ],
          "name": "stdout"
        }
      ]
    },
    {
      "cell_type": "code",
      "metadata": {
        "id": "193ec69f"
      },
      "source": [
        "import numpy as np\n",
        "import json\n",
        "import glob\n",
        "\n",
        "import tensorflow as tf\n",
        "ks = tf.keras\n",
        "\n",
        "import wandb\n",
        "from wandb.keras import WandbCallback as WandbCallback"
      ],
      "id": "193ec69f",
      "execution_count": 3,
      "outputs": []
    },
    {
      "cell_type": "code",
      "metadata": {
        "colab": {
          "base_uri": "https://localhost:8080/"
        },
        "id": "xDTQml27Y9Ps",
        "outputId": "e2f5b79f-be9c-45d2-9e74-751946e8a91e"
      },
      "source": [
        "from google.colab import drive\n",
        "drive.mount('/content/drive')"
      ],
      "id": "xDTQml27Y9Ps",
      "execution_count": 4,
      "outputs": [
        {
          "output_type": "stream",
          "text": [
            "Mounted at /content/drive\n"
          ],
          "name": "stdout"
        }
      ]
    },
    {
      "cell_type": "markdown",
      "metadata": {
        "id": "9d770958"
      },
      "source": [
        "# Specifying the architecture"
      ],
      "id": "9d770958"
    },
    {
      "cell_type": "code",
      "metadata": {
        "id": "42ed1cc0"
      },
      "source": [
        "ks_app_CNN = ks.applications.InceptionV3\n",
        "ks_app_cnn = ks.applications.inception_v3"
      ],
      "id": "42ed1cc0",
      "execution_count": 5,
      "outputs": []
    },
    {
      "cell_type": "markdown",
      "metadata": {
        "id": "68c39d58"
      },
      "source": [
        "# Reading iNaturalist Data"
      ],
      "id": "68c39d58"
    },
    {
      "cell_type": "code",
      "metadata": {
        "colab": {
          "base_uri": "https://localhost:8080/"
        },
        "id": "b4493e86",
        "outputId": "57e8340d-63ef-4147-d8f1-665ffe340d30"
      },
      "source": [
        "path_train = \"/content/drive/MyDrive/Sem 8/DL/inaturalist_12K/train\"\n",
        "path_test  = \"/content/drive/MyDrive/Sem 8/DL/inaturalist_12K/val\"\n",
        "\n",
        "batch_size = 32\n",
        "img_size = (800, 800)\n",
        "img_shape = img_size + (3,)\n",
        "\n",
        "train_ds = ks.preprocessing.image_dataset_from_directory(path_train,\n",
        "                                                         label_mode='categorical',\n",
        "                                                         validation_split = 0.1,\n",
        "                                                         subset=\"training\",\n",
        "                                                         seed=123,\n",
        "                                                         image_size=img_size,\n",
        "                                                         batch_size=batch_size)\n",
        "\n",
        "val_ds = ks.preprocessing.image_dataset_from_directory(path_train,\n",
        "                                                       label_mode='categorical',\n",
        "                                                       validation_split = 0.1,\n",
        "                                                       subset=\"validation\",\n",
        "                                                       seed=123,\n",
        "                                                       image_size=img_size,\n",
        "                                                       batch_size=batch_size)\n",
        "\n",
        "test_ds = ks.preprocessing.image_dataset_from_directory(path_test,\n",
        "                                                        label_mode='categorical',\n",
        "                                                        image_size=img_size,\n",
        "                                                        batch_size=batch_size)\n",
        "\n",
        "class_names = train_ds.class_names\n",
        "num_classes = len(class_names)\n",
        "\n",
        "\n",
        "AUTOTUNE = tf.data.AUTOTUNE\n",
        "train_ds = train_ds.prefetch(buffer_size=AUTOTUNE)\n",
        "val_ds = val_ds.prefetch(buffer_size=AUTOTUNE)\n",
        "test_ds = test_ds.prefetch(buffer_size=AUTOTUNE)\n"
      ],
      "id": "b4493e86",
      "execution_count": 7,
      "outputs": [
        {
          "output_type": "stream",
          "text": [
            "Found 10026 files belonging to 10 classes.\n",
            "Using 9024 files for training.\n",
            "Found 10026 files belonging to 10 classes.\n",
            "Using 1002 files for validation.\n",
            "Found 2000 files belonging to 10 classes.\n"
          ],
          "name": "stdout"
        }
      ]
    },
    {
      "cell_type": "markdown",
      "metadata": {
        "id": "024d6ba6"
      },
      "source": [
        "# Creating the model"
      ],
      "id": "024d6ba6"
    },
    {
      "cell_type": "code",
      "metadata": {
        "colab": {
          "base_uri": "https://localhost:8080/"
        },
        "id": "32c59230",
        "outputId": "8d703d87-ed3c-434a-f251-a57cf4078d9b"
      },
      "source": [
        "# Defining data_augmentation function\n",
        "\n",
        "'''\n",
        "data_aug = ks.Sequential([\n",
        "    ks.layers.experimental.preprocessing.RandomFlip('horizontal'),\n",
        "    ks.layers.experimental.preprocessing.RandomRotation(0.2)\n",
        "])\n",
        "\n",
        "# Creating the cnn\n",
        "cnn_model = ks_app_CNN(input_shape=img_shape,\n",
        "                      include_top=False,\n",
        "                      weights='imagenet',\n",
        "                      pooling='max')\n",
        "\n",
        "'''\n",
        "data_aug = ks.Sequential([\n",
        "    ks.layers.experimental.preprocessing.RandomFlip('horizontal'),\n",
        "    ks.layers.experimental.preprocessing.RandomRotation(0.2),\n",
        "    ks.layers.experimental.preprocessing.Resizing(299, 299, interpolation='gaussian')\n",
        "])\n",
        "\n",
        "# Creating the cnn\n",
        "cnn_model = ks_app_CNN(include_top=True,\n",
        "                      weights='imagenet')\n",
        "\n",
        "\n",
        "cnn_model.trainable = False\n",
        "\n",
        "# Creating the model\n",
        "inputs = ks.Input(shape=img_shape)\n",
        "outputs = data_aug(inputs)\n",
        "outputs = ks_app_cnn.preprocess_input(outputs)\n",
        "outputs = cnn_model(outputs, training=False)\n",
        "#outputs = tf.keras.layers.Dropout(0.2)(outputs)\n",
        "outputs = ks.layers.Dense(num_classes, activation='softmax')(outputs)\n",
        "\n",
        "model = ks.Model(inputs, outputs)\n",
        "model.compile(optimizer=ks.optimizers.Adam(lr=1e-4),\n",
        "              loss=ks.losses.categorical_crossentropy,\n",
        "              metrics=['accuracy'])"
      ],
      "id": "32c59230",
      "execution_count": 12,
      "outputs": [
        {
          "output_type": "stream",
          "text": [
            "Downloading data from https://storage.googleapis.com/tensorflow/keras-applications/inception_v3/inception_v3_weights_tf_dim_ordering_tf_kernels.h5\n",
            "96116736/96112376 [==============================] - 1s 0us/step\n"
          ],
          "name": "stdout"
        }
      ]
    },
    {
      "cell_type": "code",
      "metadata": {
        "colab": {
          "base_uri": "https://localhost:8080/"
        },
        "id": "358ffe5d",
        "outputId": "6c6d2566-b2db-436f-e5cb-ef7331e03f71"
      },
      "source": [
        "model.summary()"
      ],
      "id": "358ffe5d",
      "execution_count": 10,
      "outputs": [
        {
          "output_type": "stream",
          "text": [
            "Model: \"model\"\n",
            "_________________________________________________________________\n",
            "Layer (type)                 Output Shape              Param #   \n",
            "=================================================================\n",
            "input_2 (InputLayer)         [(None, 800, 800, 3)]     0         \n",
            "_________________________________________________________________\n",
            "sequential_1 (Sequential)    (None, 800, 800, 3)       0         \n",
            "_________________________________________________________________\n",
            "tf.math.truediv (TFOpLambda) (None, 800, 800, 3)       0         \n",
            "_________________________________________________________________\n",
            "tf.math.subtract (TFOpLambda (None, 800, 800, 3)       0         \n",
            "_________________________________________________________________\n",
            "inception_v3 (Functional)    (None, 2048)              21802784  \n",
            "_________________________________________________________________\n",
            "dense (Dense)                (None, 10)                20490     \n",
            "=================================================================\n",
            "Total params: 21,823,274\n",
            "Trainable params: 20,490\n",
            "Non-trainable params: 21,802,784\n",
            "_________________________________________________________________\n"
          ],
          "name": "stdout"
        }
      ]
    },
    {
      "cell_type": "code",
      "metadata": {
        "colab": {
          "base_uri": "https://localhost:8080/"
        },
        "id": "a1b21c87",
        "outputId": "0e3bc5dd-df61-44b3-c458-23001b130438"
      },
      "source": [
        "epochs = 10\n",
        "history = model.fit(train_ds,\n",
        "                   epochs=epochs,\n",
        "                   validation_data=val_ds)"
      ],
      "id": "a1b21c87",
      "execution_count": 13,
      "outputs": [
        {
          "output_type": "stream",
          "text": [
            "Epoch 1/10\n",
            "282/282 [==============================] - 3183s 11s/step - loss: 2.3011 - accuracy: 0.1020 - val_loss: 2.2906 - val_accuracy: 0.2255\n",
            "Epoch 2/10\n",
            "282/282 [==============================] - 202s 702ms/step - loss: 2.2879 - accuracy: 0.2829 - val_loss: 2.2772 - val_accuracy: 0.4002\n",
            "Epoch 3/10\n",
            "282/282 [==============================] - 201s 701ms/step - loss: 2.2754 - accuracy: 0.4190 - val_loss: 2.2639 - val_accuracy: 0.4850\n",
            "Epoch 4/10\n",
            "282/282 [==============================] - 201s 702ms/step - loss: 2.2628 - accuracy: 0.5111 - val_loss: 2.2506 - val_accuracy: 0.5599\n",
            "Epoch 5/10\n",
            "282/282 [==============================] - 202s 702ms/step - loss: 2.2504 - accuracy: 0.5851 - val_loss: 2.2374 - val_accuracy: 0.6447\n",
            "Epoch 6/10\n",
            "282/282 [==============================] - 202s 704ms/step - loss: 2.2377 - accuracy: 0.6332 - val_loss: 2.2243 - val_accuracy: 0.6786\n",
            "Epoch 7/10\n",
            "282/282 [==============================] - 202s 703ms/step - loss: 2.2259 - accuracy: 0.6656 - val_loss: 2.2113 - val_accuracy: 0.6996\n",
            "Epoch 8/10\n",
            "282/282 [==============================] - 202s 703ms/step - loss: 2.2128 - accuracy: 0.6867 - val_loss: 2.1982 - val_accuracy: 0.7246\n",
            "Epoch 9/10\n",
            "282/282 [==============================] - 203s 708ms/step - loss: 2.2005 - accuracy: 0.7084 - val_loss: 2.1852 - val_accuracy: 0.7385\n",
            "Epoch 10/10\n",
            "282/282 [==============================] - 204s 711ms/step - loss: 2.1891 - accuracy: 0.7090 - val_loss: 2.1723 - val_accuracy: 0.7455\n"
          ],
          "name": "stdout"
        }
      ]
    },
    {
      "cell_type": "code",
      "metadata": {
        "colab": {
          "base_uri": "https://localhost:8080/",
          "height": 162
        },
        "id": "TjJt3yhGL4y3",
        "outputId": "84279525-31c6-4425-e9de-1325c221113f"
      },
      "source": [
        "model.summary()"
      ],
      "id": "TjJt3yhGL4y3",
      "execution_count": 1,
      "outputs": [
        {
          "output_type": "error",
          "ename": "NameError",
          "evalue": "ignored",
          "traceback": [
            "\u001b[0;31m---------------------------------------------------------------------------\u001b[0m",
            "\u001b[0;31mNameError\u001b[0m                                 Traceback (most recent call last)",
            "\u001b[0;32m<ipython-input-1-5f15418b3570>\u001b[0m in \u001b[0;36m<module>\u001b[0;34m()\u001b[0m\n\u001b[0;32m----> 1\u001b[0;31m \u001b[0mmodel\u001b[0m\u001b[0;34m.\u001b[0m\u001b[0msummary\u001b[0m\u001b[0;34m(\u001b[0m\u001b[0;34m)\u001b[0m\u001b[0;34m\u001b[0m\u001b[0;34m\u001b[0m\u001b[0m\n\u001b[0m",
            "\u001b[0;31mNameError\u001b[0m: name 'model' is not defined"
          ]
        }
      ]
    }
  ]
}