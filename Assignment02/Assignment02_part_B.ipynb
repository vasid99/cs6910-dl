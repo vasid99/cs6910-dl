{
  "nbformat": 4,
  "nbformat_minor": 5,
  "metadata": {
    "accelerator": "GPU",
    "colab": {
      "name": "Assignment02_part_B (1).ipynb",
      "provenance": [],
      "collapsed_sections": []
    },
    "kernelspec": {
      "display_name": "Python 3",
      "language": "python",
      "name": "python3"
    },
    "language_info": {
      "codemirror_mode": {
        "name": "ipython",
        "version": 3
      },
      "file_extension": ".py",
      "mimetype": "text/x-python",
      "name": "python",
      "nbconvert_exporter": "python",
      "pygments_lexer": "ipython3",
      "version": "3.8.8"
    }
  },
  "cells": [
    {
      "cell_type": "markdown",
      "metadata": {
        "id": "a45b59db"
      },
      "source": [
        "# Imports and Definitions"
      ],
      "id": "a45b59db"
    },
    {
      "cell_type": "code",
      "metadata": {
        "id": "NohCuaUT8Oxk"
      },
      "source": [
        "pip install -q wandb"
      ],
      "id": "NohCuaUT8Oxk",
      "execution_count": null,
      "outputs": []
    },
    {
      "cell_type": "code",
      "metadata": {
        "id": "d5359e9b"
      },
      "source": [
        "import numpy as np\n",
        "import json\n",
        "import glob\n",
        "\n",
        "import tensorflow as tf\n",
        "ks = tf.keras\n",
        "\n",
        "import wandb\n",
        "from wandb.keras import WandbCallback as WandbCallback"
      ],
      "id": "d5359e9b",
      "execution_count": null,
      "outputs": []
    },
    {
      "cell_type": "code",
      "metadata": {
        "id": "Uq_7RsEiDVXk"
      },
      "source": [
        "from google.colab import drive\n",
        "drive.mount('/content/drive')"
      ],
      "id": "Uq_7RsEiDVXk",
      "execution_count": null,
      "outputs": []
    },
    {
      "cell_type": "markdown",
      "metadata": {
        "id": "95690829"
      },
      "source": [
        "# Reading iNaturalist Data"
      ],
      "id": "95690829"
    },
    {
      "cell_type": "code",
      "metadata": {
        "id": "47caa1e2"
      },
      "source": [
        "path_train = \"/content/drive/MyDrive/Sem 8/DL/inaturalist_12K/train\"\n",
        "path_test  = \"/content/drive/MyDrive/Sem 8/DL/inaturalist_12K/val\"\n",
        "\n",
        "batch_size = 32\n",
        "img_size = (800, 800)\n",
        "img_shape = img_size + (3,)\n",
        "\n",
        "train_ds = ks.preprocessing.image_dataset_from_directory(path_train,\n",
        "                                                         label_mode='categorical',\n",
        "                                                         validation_split = 0.1,\n",
        "                                                         subset=\"training\",\n",
        "                                                         seed=123,\n",
        "                                                         image_size=img_size,\n",
        "                                                         batch_size=batch_size)\n",
        "\n",
        "val_ds = ks.preprocessing.image_dataset_from_directory(path_train,\n",
        "                                                       label_mode='categorical',\n",
        "                                                       validation_split = 0.1,\n",
        "                                                       subset=\"validation\",\n",
        "                                                       seed=123,\n",
        "                                                       image_size=img_size,\n",
        "                                                       batch_size=batch_size)\n",
        "\n",
        "test_ds = ks.preprocessing.image_dataset_from_directory(path_test,\n",
        "                                                        label_mode='categorical',\n",
        "                                                        image_size=img_size,\n",
        "                                                        batch_size=batch_size)\n",
        "\n",
        "class_names = train_ds.class_names\n",
        "num_classes = len(class_names)\n",
        "\n",
        "AUTOTUNE = tf.data.AUTOTUNE\n",
        "train_ds = train_ds.prefetch(buffer_size = tf.data.AUTOTUNE)\n",
        "val_ds   = val_ds.prefetch(buffer_size = tf.data.AUTOTUNE)\n",
        "test_ds  = test_ds.prefetch(buffer_size = tf.data.AUTOTUNE)"
      ],
      "id": "47caa1e2",
      "execution_count": null,
      "outputs": []
    },
    {
      "cell_type": "markdown",
      "metadata": {
        "id": "6a108c39"
      },
      "source": [
        "# Functions"
      ],
      "id": "6a108c39"
    },
    {
      "cell_type": "code",
      "metadata": {
        "id": "1a38c782"
      },
      "source": [
        "def finetune_model(hyp):\n",
        "    \n",
        "    # 1.\n",
        "    model_to_use = hyp[\"model\"]\n",
        "    \n",
        "    # 1.1. The function to get the model\n",
        "    exec(\"ks_app_CNN_exec = ks.applications.\" + model_to_use[0])\n",
        "    ks_app_CNN = locals()[\"ks_app_CNN_exec\"]\n",
        "    \n",
        "    # 1.2. Supporting class for the model\n",
        "    exec(\"ks_app_cnn_exec = ks.applications.\" + model_to_use[1])\n",
        "    ks_app_cnn = locals()[\"ks_app_cnn_exec\"]\n",
        "    \n",
        "    # 2.\n",
        "    eta = hyp[\"eta\"]\n",
        "    epochs = hyp[\"epochs\"]\n",
        "    dropout = hyp[\"dropout\"]\n",
        "    num_unfrozen = hyp[\"num_unfrozen\"]\n",
        "    \n",
        "    # 3.\n",
        "    if hyp[\"include_top\"]:\n",
        "        # Creating the cnn\n",
        "        cnn_model = ks_app_CNN(include_top=True,\n",
        "                               weights='imagenet')\n",
        "        img_width = cnn_model.layers[0].input_shape[0][1]\n",
        "        \n",
        "        # Defining data_augmentation function\n",
        "        data_aug = ks.Sequential([\n",
        "            ks.layers.experimental.preprocessing.RandomFlip('horizontal'),\n",
        "            ks.layers.experimental.preprocessing.RandomRotation(0.2),\n",
        "            ks.layers.experimental.preprocessing.Resizing(img_width, img_width, interpolation='bilinear')\n",
        "        ])\n",
        "    else:\n",
        "        # Defining data_augmentation function\n",
        "        data_aug = ks.Sequential([\n",
        "            ks.layers.experimental.preprocessing.RandomFlip('horizontal'),\n",
        "            ks.layers.experimental.preprocessing.RandomRotation(0.2)\n",
        "        ])\n",
        "        \n",
        "        # Creating the cnn\n",
        "        cnn_model = ks_app_CNN(input_shape=img_shape,\n",
        "                               include_top=False,\n",
        "                               weights='imagenet',\n",
        "                               pooling='avg')\n",
        "    \n",
        "    # 4. Creating model with all layers in cnn frozen and fitting train data\n",
        "    cnn_model.trainable = False\n",
        "\n",
        "    # 4.1. Creating the model\n",
        "    inputs = ks.Input(shape=img_shape)\n",
        "    outputs = data_aug(inputs)\n",
        "    outputs = ks_app_cnn.preprocess_input(outputs)\n",
        "    outputs = cnn_model(outputs, training=False)\n",
        "    outputs = tf.keras.layers.Dropout(dropout)(outputs)\n",
        "    outputs = ks.layers.Dense(num_classes, activation='softmax')(outputs)\n",
        "\n",
        "    model = ks.Model(inputs, outputs)\n",
        "    model.compile(optimizer=ks.optimizers.Adam(lr=eta),\n",
        "                  loss=ks.losses.categorical_crossentropy,\n",
        "                  metrics=['accuracy'])\n",
        "    \n",
        "    # 4.2. Fitting\n",
        "    if num_unfrozen == 0:\n",
        "        model.fit(train_ds,\n",
        "                  epochs = epochs,\n",
        "                  validation_data = val_ds, \n",
        "                  callbacks = [WandbCallback()])\n",
        "    else:\n",
        "        model.fit(train_ds,\n",
        "                  epochs=epochs//2,\n",
        "                  validation_data=val_ds,\n",
        "                  callbacks = [WandbCallback()])\n",
        "        \n",
        "        # 5. Unfreezing num_unfrozen layers in cnn and fitting\n",
        "        cnn_model.trainable = True\n",
        "        for layer in cnn_model.layers[:-num_unfrozen]:\n",
        "            layer.trainable = False\n",
        "\n",
        "        model.compile(optimizer=ks.optimizers.Adam(lr=eta/10),\n",
        "                      loss=ks.losses.categorical_crossentropy,\n",
        "                      metrics=['accuracy'])\n",
        "        \n",
        "        model.fit(train_ds,\n",
        "                  epochs=epochs,\n",
        "                  validation_data=val_ds,\n",
        "                  initial_epoch=epochs//2,\n",
        "                  callbacks = [WandbCallback()])\n",
        "        \n",
        "\n",
        "\n",
        "def runSweep():\n",
        "    wandb.init()\n",
        "    \n",
        "    #set the hyperparameters\n",
        "    hyp = {}\n",
        "    hyp[\"eta\"] = wandb.config.eta\n",
        "    hyp[\"epochs\"] = wandb.config.epochs\n",
        "    hyp[\"dropout\"] = wandb.config.dropout\n",
        "    hyp[\"model\"] = wandb.config.model\n",
        "    hyp[\"include_top\"] = wandb.config.include_top\n",
        "    hyp[\"num_unfrozen\"] = wandb.config.num_unfrozen\n",
        "    \n",
        "    # Finetuning run\n",
        "    finetune_model(hyp)"
      ],
      "id": "1a38c782",
      "execution_count": null,
      "outputs": []
    },
    {
      "cell_type": "markdown",
      "metadata": {
        "id": "6ad7996f"
      },
      "source": [
        "# Sweep"
      ],
      "id": "6ad7996f"
    },
    {
      "cell_type": "code",
      "metadata": {
        "id": "72ce96a6"
      },
      "source": [
        "sweepCfg = {\n",
        "    \"name\":\"Fine Tuning Pretrained Sweep 7\", \n",
        "    \"method\": \"grid\", \n",
        "    \"parameters\":{\n",
        "        \"include_top\":{\n",
        "            \"values\":[0, 1]\n",
        "        },\n",
        "        \"num_unfrozen\":{\n",
        "            \"values\":[0, 5]\n",
        "        },\n",
        "        \"model\":{\n",
        "            \"values\":[('Xception', 'xception'),\n",
        "                    ('InceptionResNetV2', 'inception_resnet_v2'),\n",
        "                    ('ResNet50', 'resnet50'),\n",
        "                    ('InceptionV3', 'inception_v3')\n",
        "                    ]\n",
        "        },\n",
        "        \"eta\":{\n",
        "            \"values\":[1e-3]\n",
        "        },\n",
        "        \"epochs\":{\n",
        "            \"values\":[10]\n",
        "        },\n",
        "        \"dropout\":{\n",
        "            \"values\":[0.2]\n",
        "        }\n",
        "    }\n",
        "}\n",
        "\n",
        "sweepId = wandb.sweep(sweepCfg)\n",
        "wandb.agent('srijan_gupta/uncategorized/u5j52d5c', function = runSweep)"
      ],
      "id": "72ce96a6",
      "execution_count": null,
      "outputs": []
    }
  ]
}