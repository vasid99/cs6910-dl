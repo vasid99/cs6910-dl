{
  "nbformat": 4,
  "nbformat_minor": 5,
  "metadata": {
    "accelerator": "GPU",
    "colab": {
      "name": "Assignment02_part_B (1).ipynb",
      "provenance": [],
      "collapsed_sections": []
    },
    "kernelspec": {
      "display_name": "Python 3",
      "language": "python",
      "name": "python3"
    },
    "language_info": {
      "codemirror_mode": {
        "name": "ipython",
        "version": 3
      },
      "file_extension": ".py",
      "mimetype": "text/x-python",
      "name": "python",
      "nbconvert_exporter": "python",
      "pygments_lexer": "ipython3",
      "version": "3.8.8"
    },
    "widgets": {
      "application/vnd.jupyter.widget-state+json": {
        "21965dae9ac94355a76dab98aba9042c": {
          "model_module": "@jupyter-widgets/controls",
          "model_name": "VBoxModel",
          "state": {
            "_view_name": "VBoxView",
            "_dom_classes": [],
            "_model_name": "VBoxModel",
            "_view_module": "@jupyter-widgets/controls",
            "_model_module_version": "1.5.0",
            "_view_count": null,
            "_view_module_version": "1.5.0",
            "box_style": "",
            "layout": "IPY_MODEL_4a948b2b5fcf42eda710c2f5df769d66",
            "_model_module": "@jupyter-widgets/controls",
            "children": [
              "IPY_MODEL_d8170c0249f24e45bb1bc5c3716de800",
              "IPY_MODEL_b42f80f41253482e9687ead0dd9a84c4"
            ]
          }
        },
        "4a948b2b5fcf42eda710c2f5df769d66": {
          "model_module": "@jupyter-widgets/base",
          "model_name": "LayoutModel",
          "state": {
            "_view_name": "LayoutView",
            "grid_template_rows": null,
            "right": null,
            "justify_content": null,
            "_view_module": "@jupyter-widgets/base",
            "overflow": null,
            "_model_module_version": "1.2.0",
            "_view_count": null,
            "flex_flow": null,
            "width": null,
            "min_width": null,
            "border": null,
            "align_items": null,
            "bottom": null,
            "_model_module": "@jupyter-widgets/base",
            "top": null,
            "grid_column": null,
            "overflow_y": null,
            "overflow_x": null,
            "grid_auto_flow": null,
            "grid_area": null,
            "grid_template_columns": null,
            "flex": null,
            "_model_name": "LayoutModel",
            "justify_items": null,
            "grid_row": null,
            "max_height": null,
            "align_content": null,
            "visibility": null,
            "align_self": null,
            "height": null,
            "min_height": null,
            "padding": null,
            "grid_auto_rows": null,
            "grid_gap": null,
            "max_width": null,
            "order": null,
            "_view_module_version": "1.2.0",
            "grid_template_areas": null,
            "object_position": null,
            "object_fit": null,
            "grid_auto_columns": null,
            "margin": null,
            "display": null,
            "left": null
          }
        },
        "d8170c0249f24e45bb1bc5c3716de800": {
          "model_module": "@jupyter-widgets/controls",
          "model_name": "LabelModel",
          "state": {
            "_view_name": "LabelView",
            "style": "IPY_MODEL_dcde4a53b9874a73b1ca76bc37c55ebe",
            "_dom_classes": [],
            "description": "",
            "_model_name": "LabelModel",
            "placeholder": "​",
            "_view_module": "@jupyter-widgets/controls",
            "_model_module_version": "1.5.0",
            "value": " 98.59MB of 98.59MB uploaded (0.00MB deduped)\r",
            "_view_count": null,
            "_view_module_version": "1.5.0",
            "description_tooltip": null,
            "_model_module": "@jupyter-widgets/controls",
            "layout": "IPY_MODEL_7946d91425ae4ea390f8fc58b360b17e"
          }
        },
        "b42f80f41253482e9687ead0dd9a84c4": {
          "model_module": "@jupyter-widgets/controls",
          "model_name": "FloatProgressModel",
          "state": {
            "_view_name": "ProgressView",
            "style": "IPY_MODEL_aa0014cd437b46019279f8f277f82c39",
            "_dom_classes": [],
            "description": "",
            "_model_name": "FloatProgressModel",
            "bar_style": "",
            "max": 1,
            "_view_module": "@jupyter-widgets/controls",
            "_model_module_version": "1.5.0",
            "value": 1,
            "_view_count": null,
            "_view_module_version": "1.5.0",
            "orientation": "horizontal",
            "min": 0,
            "description_tooltip": null,
            "_model_module": "@jupyter-widgets/controls",
            "layout": "IPY_MODEL_62197eb646694b2a87ae38c285503945"
          }
        },
        "dcde4a53b9874a73b1ca76bc37c55ebe": {
          "model_module": "@jupyter-widgets/controls",
          "model_name": "DescriptionStyleModel",
          "state": {
            "_view_name": "StyleView",
            "_model_name": "DescriptionStyleModel",
            "description_width": "",
            "_view_module": "@jupyter-widgets/base",
            "_model_module_version": "1.5.0",
            "_view_count": null,
            "_view_module_version": "1.2.0",
            "_model_module": "@jupyter-widgets/controls"
          }
        },
        "7946d91425ae4ea390f8fc58b360b17e": {
          "model_module": "@jupyter-widgets/base",
          "model_name": "LayoutModel",
          "state": {
            "_view_name": "LayoutView",
            "grid_template_rows": null,
            "right": null,
            "justify_content": null,
            "_view_module": "@jupyter-widgets/base",
            "overflow": null,
            "_model_module_version": "1.2.0",
            "_view_count": null,
            "flex_flow": null,
            "width": null,
            "min_width": null,
            "border": null,
            "align_items": null,
            "bottom": null,
            "_model_module": "@jupyter-widgets/base",
            "top": null,
            "grid_column": null,
            "overflow_y": null,
            "overflow_x": null,
            "grid_auto_flow": null,
            "grid_area": null,
            "grid_template_columns": null,
            "flex": null,
            "_model_name": "LayoutModel",
            "justify_items": null,
            "grid_row": null,
            "max_height": null,
            "align_content": null,
            "visibility": null,
            "align_self": null,
            "height": null,
            "min_height": null,
            "padding": null,
            "grid_auto_rows": null,
            "grid_gap": null,
            "max_width": null,
            "order": null,
            "_view_module_version": "1.2.0",
            "grid_template_areas": null,
            "object_position": null,
            "object_fit": null,
            "grid_auto_columns": null,
            "margin": null,
            "display": null,
            "left": null
          }
        },
        "aa0014cd437b46019279f8f277f82c39": {
          "model_module": "@jupyter-widgets/controls",
          "model_name": "ProgressStyleModel",
          "state": {
            "_view_name": "StyleView",
            "_model_name": "ProgressStyleModel",
            "description_width": "",
            "_view_module": "@jupyter-widgets/base",
            "_model_module_version": "1.5.0",
            "_view_count": null,
            "_view_module_version": "1.2.0",
            "bar_color": null,
            "_model_module": "@jupyter-widgets/controls"
          }
        },
        "62197eb646694b2a87ae38c285503945": {
          "model_module": "@jupyter-widgets/base",
          "model_name": "LayoutModel",
          "state": {
            "_view_name": "LayoutView",
            "grid_template_rows": null,
            "right": null,
            "justify_content": null,
            "_view_module": "@jupyter-widgets/base",
            "overflow": null,
            "_model_module_version": "1.2.0",
            "_view_count": null,
            "flex_flow": null,
            "width": null,
            "min_width": null,
            "border": null,
            "align_items": null,
            "bottom": null,
            "_model_module": "@jupyter-widgets/base",
            "top": null,
            "grid_column": null,
            "overflow_y": null,
            "overflow_x": null,
            "grid_auto_flow": null,
            "grid_area": null,
            "grid_template_columns": null,
            "flex": null,
            "_model_name": "LayoutModel",
            "justify_items": null,
            "grid_row": null,
            "max_height": null,
            "align_content": null,
            "visibility": null,
            "align_self": null,
            "height": null,
            "min_height": null,
            "padding": null,
            "grid_auto_rows": null,
            "grid_gap": null,
            "max_width": null,
            "order": null,
            "_view_module_version": "1.2.0",
            "grid_template_areas": null,
            "object_position": null,
            "object_fit": null,
            "grid_auto_columns": null,
            "margin": null,
            "display": null,
            "left": null
          }
        },
        "4ad6ddec530344b48aab696e5ef743ac": {
          "model_module": "@jupyter-widgets/controls",
          "model_name": "VBoxModel",
          "state": {
            "_view_name": "VBoxView",
            "_dom_classes": [],
            "_model_name": "VBoxModel",
            "_view_module": "@jupyter-widgets/controls",
            "_model_module_version": "1.5.0",
            "_view_count": null,
            "_view_module_version": "1.5.0",
            "box_style": "",
            "layout": "IPY_MODEL_ad7374f7403949e3a9b3836d010463a1",
            "_model_module": "@jupyter-widgets/controls",
            "children": [
              "IPY_MODEL_b6d1be64759946089e7098573d51750d",
              "IPY_MODEL_a6ea782f318e4da7a9438895f721557c"
            ]
          }
        },
        "ad7374f7403949e3a9b3836d010463a1": {
          "model_module": "@jupyter-widgets/base",
          "model_name": "LayoutModel",
          "state": {
            "_view_name": "LayoutView",
            "grid_template_rows": null,
            "right": null,
            "justify_content": null,
            "_view_module": "@jupyter-widgets/base",
            "overflow": null,
            "_model_module_version": "1.2.0",
            "_view_count": null,
            "flex_flow": null,
            "width": null,
            "min_width": null,
            "border": null,
            "align_items": null,
            "bottom": null,
            "_model_module": "@jupyter-widgets/base",
            "top": null,
            "grid_column": null,
            "overflow_y": null,
            "overflow_x": null,
            "grid_auto_flow": null,
            "grid_area": null,
            "grid_template_columns": null,
            "flex": null,
            "_model_name": "LayoutModel",
            "justify_items": null,
            "grid_row": null,
            "max_height": null,
            "align_content": null,
            "visibility": null,
            "align_self": null,
            "height": null,
            "min_height": null,
            "padding": null,
            "grid_auto_rows": null,
            "grid_gap": null,
            "max_width": null,
            "order": null,
            "_view_module_version": "1.2.0",
            "grid_template_areas": null,
            "object_position": null,
            "object_fit": null,
            "grid_auto_columns": null,
            "margin": null,
            "display": null,
            "left": null
          }
        },
        "b6d1be64759946089e7098573d51750d": {
          "model_module": "@jupyter-widgets/controls",
          "model_name": "LabelModel",
          "state": {
            "_view_name": "LabelView",
            "style": "IPY_MODEL_b73cf3d706c241f785dcbf5facd76957",
            "_dom_classes": [],
            "description": "",
            "_model_name": "LabelModel",
            "placeholder": "​",
            "_view_module": "@jupyter-widgets/controls",
            "_model_module_version": "1.5.0",
            "value": " 83.90MB of 83.90MB uploaded (0.00MB deduped)\r",
            "_view_count": null,
            "_view_module_version": "1.5.0",
            "description_tooltip": null,
            "_model_module": "@jupyter-widgets/controls",
            "layout": "IPY_MODEL_d4db27bdb9994266919bf02092f3288c"
          }
        },
        "a6ea782f318e4da7a9438895f721557c": {
          "model_module": "@jupyter-widgets/controls",
          "model_name": "FloatProgressModel",
          "state": {
            "_view_name": "ProgressView",
            "style": "IPY_MODEL_9d421d034a4646c2b5c831a332cd83e2",
            "_dom_classes": [],
            "description": "",
            "_model_name": "FloatProgressModel",
            "bar_style": "",
            "max": 1,
            "_view_module": "@jupyter-widgets/controls",
            "_model_module_version": "1.5.0",
            "value": 1,
            "_view_count": null,
            "_view_module_version": "1.5.0",
            "orientation": "horizontal",
            "min": 0,
            "description_tooltip": null,
            "_model_module": "@jupyter-widgets/controls",
            "layout": "IPY_MODEL_8008f699cc7b427a9e1dfb31b482c848"
          }
        },
        "b73cf3d706c241f785dcbf5facd76957": {
          "model_module": "@jupyter-widgets/controls",
          "model_name": "DescriptionStyleModel",
          "state": {
            "_view_name": "StyleView",
            "_model_name": "DescriptionStyleModel",
            "description_width": "",
            "_view_module": "@jupyter-widgets/base",
            "_model_module_version": "1.5.0",
            "_view_count": null,
            "_view_module_version": "1.2.0",
            "_model_module": "@jupyter-widgets/controls"
          }
        },
        "d4db27bdb9994266919bf02092f3288c": {
          "model_module": "@jupyter-widgets/base",
          "model_name": "LayoutModel",
          "state": {
            "_view_name": "LayoutView",
            "grid_template_rows": null,
            "right": null,
            "justify_content": null,
            "_view_module": "@jupyter-widgets/base",
            "overflow": null,
            "_model_module_version": "1.2.0",
            "_view_count": null,
            "flex_flow": null,
            "width": null,
            "min_width": null,
            "border": null,
            "align_items": null,
            "bottom": null,
            "_model_module": "@jupyter-widgets/base",
            "top": null,
            "grid_column": null,
            "overflow_y": null,
            "overflow_x": null,
            "grid_auto_flow": null,
            "grid_area": null,
            "grid_template_columns": null,
            "flex": null,
            "_model_name": "LayoutModel",
            "justify_items": null,
            "grid_row": null,
            "max_height": null,
            "align_content": null,
            "visibility": null,
            "align_self": null,
            "height": null,
            "min_height": null,
            "padding": null,
            "grid_auto_rows": null,
            "grid_gap": null,
            "max_width": null,
            "order": null,
            "_view_module_version": "1.2.0",
            "grid_template_areas": null,
            "object_position": null,
            "object_fit": null,
            "grid_auto_columns": null,
            "margin": null,
            "display": null,
            "left": null
          }
        },
        "9d421d034a4646c2b5c831a332cd83e2": {
          "model_module": "@jupyter-widgets/controls",
          "model_name": "ProgressStyleModel",
          "state": {
            "_view_name": "StyleView",
            "_model_name": "ProgressStyleModel",
            "description_width": "",
            "_view_module": "@jupyter-widgets/base",
            "_model_module_version": "1.5.0",
            "_view_count": null,
            "_view_module_version": "1.2.0",
            "bar_color": null,
            "_model_module": "@jupyter-widgets/controls"
          }
        },
        "8008f699cc7b427a9e1dfb31b482c848": {
          "model_module": "@jupyter-widgets/base",
          "model_name": "LayoutModel",
          "state": {
            "_view_name": "LayoutView",
            "grid_template_rows": null,
            "right": null,
            "justify_content": null,
            "_view_module": "@jupyter-widgets/base",
            "overflow": null,
            "_model_module_version": "1.2.0",
            "_view_count": null,
            "flex_flow": null,
            "width": null,
            "min_width": null,
            "border": null,
            "align_items": null,
            "bottom": null,
            "_model_module": "@jupyter-widgets/base",
            "top": null,
            "grid_column": null,
            "overflow_y": null,
            "overflow_x": null,
            "grid_auto_flow": null,
            "grid_area": null,
            "grid_template_columns": null,
            "flex": null,
            "_model_name": "LayoutModel",
            "justify_items": null,
            "grid_row": null,
            "max_height": null,
            "align_content": null,
            "visibility": null,
            "align_self": null,
            "height": null,
            "min_height": null,
            "padding": null,
            "grid_auto_rows": null,
            "grid_gap": null,
            "max_width": null,
            "order": null,
            "_view_module_version": "1.2.0",
            "grid_template_areas": null,
            "object_position": null,
            "object_fit": null,
            "grid_auto_columns": null,
            "margin": null,
            "display": null,
            "left": null
          }
        },
        "d5d6156ca9e2451ca8effb83d2ec8594": {
          "model_module": "@jupyter-widgets/controls",
          "model_name": "VBoxModel",
          "state": {
            "_view_name": "VBoxView",
            "_dom_classes": [],
            "_model_name": "VBoxModel",
            "_view_module": "@jupyter-widgets/controls",
            "_model_module_version": "1.5.0",
            "_view_count": null,
            "_view_module_version": "1.5.0",
            "box_style": "",
            "layout": "IPY_MODEL_fc8b007512074dee90d43433531f4059",
            "_model_module": "@jupyter-widgets/controls",
            "children": [
              "IPY_MODEL_ac8e7d2ae3b54f4494dc2e048afd9692",
              "IPY_MODEL_89ee1aa10a294a84acba05bc60d52fff"
            ]
          }
        },
        "fc8b007512074dee90d43433531f4059": {
          "model_module": "@jupyter-widgets/base",
          "model_name": "LayoutModel",
          "state": {
            "_view_name": "LayoutView",
            "grid_template_rows": null,
            "right": null,
            "justify_content": null,
            "_view_module": "@jupyter-widgets/base",
            "overflow": null,
            "_model_module_version": "1.2.0",
            "_view_count": null,
            "flex_flow": null,
            "width": null,
            "min_width": null,
            "border": null,
            "align_items": null,
            "bottom": null,
            "_model_module": "@jupyter-widgets/base",
            "top": null,
            "grid_column": null,
            "overflow_y": null,
            "overflow_x": null,
            "grid_auto_flow": null,
            "grid_area": null,
            "grid_template_columns": null,
            "flex": null,
            "_model_name": "LayoutModel",
            "justify_items": null,
            "grid_row": null,
            "max_height": null,
            "align_content": null,
            "visibility": null,
            "align_self": null,
            "height": null,
            "min_height": null,
            "padding": null,
            "grid_auto_rows": null,
            "grid_gap": null,
            "max_width": null,
            "order": null,
            "_view_module_version": "1.2.0",
            "grid_template_areas": null,
            "object_position": null,
            "object_fit": null,
            "grid_auto_columns": null,
            "margin": null,
            "display": null,
            "left": null
          }
        },
        "ac8e7d2ae3b54f4494dc2e048afd9692": {
          "model_module": "@jupyter-widgets/controls",
          "model_name": "LabelModel",
          "state": {
            "_view_name": "LabelView",
            "style": "IPY_MODEL_8ce587c899c149efa2c1459b6a05366d",
            "_dom_classes": [],
            "description": "",
            "_model_name": "LabelModel",
            "placeholder": "​",
            "_view_module": "@jupyter-widgets/controls",
            "_model_module_version": "1.5.0",
            "value": " 83.90MB of 83.90MB uploaded (0.00MB deduped)\r",
            "_view_count": null,
            "_view_module_version": "1.5.0",
            "description_tooltip": null,
            "_model_module": "@jupyter-widgets/controls",
            "layout": "IPY_MODEL_8a421f7554554da49b4cfcd5510a61e6"
          }
        },
        "89ee1aa10a294a84acba05bc60d52fff": {
          "model_module": "@jupyter-widgets/controls",
          "model_name": "FloatProgressModel",
          "state": {
            "_view_name": "ProgressView",
            "style": "IPY_MODEL_d67e5a12f530427b9d8c22d84a64639e",
            "_dom_classes": [],
            "description": "",
            "_model_name": "FloatProgressModel",
            "bar_style": "",
            "max": 1,
            "_view_module": "@jupyter-widgets/controls",
            "_model_module_version": "1.5.0",
            "value": 1,
            "_view_count": null,
            "_view_module_version": "1.5.0",
            "orientation": "horizontal",
            "min": 0,
            "description_tooltip": null,
            "_model_module": "@jupyter-widgets/controls",
            "layout": "IPY_MODEL_345b51e49cc24e7bb76ad81492358278"
          }
        },
        "8ce587c899c149efa2c1459b6a05366d": {
          "model_module": "@jupyter-widgets/controls",
          "model_name": "DescriptionStyleModel",
          "state": {
            "_view_name": "StyleView",
            "_model_name": "DescriptionStyleModel",
            "description_width": "",
            "_view_module": "@jupyter-widgets/base",
            "_model_module_version": "1.5.0",
            "_view_count": null,
            "_view_module_version": "1.2.0",
            "_model_module": "@jupyter-widgets/controls"
          }
        },
        "8a421f7554554da49b4cfcd5510a61e6": {
          "model_module": "@jupyter-widgets/base",
          "model_name": "LayoutModel",
          "state": {
            "_view_name": "LayoutView",
            "grid_template_rows": null,
            "right": null,
            "justify_content": null,
            "_view_module": "@jupyter-widgets/base",
            "overflow": null,
            "_model_module_version": "1.2.0",
            "_view_count": null,
            "flex_flow": null,
            "width": null,
            "min_width": null,
            "border": null,
            "align_items": null,
            "bottom": null,
            "_model_module": "@jupyter-widgets/base",
            "top": null,
            "grid_column": null,
            "overflow_y": null,
            "overflow_x": null,
            "grid_auto_flow": null,
            "grid_area": null,
            "grid_template_columns": null,
            "flex": null,
            "_model_name": "LayoutModel",
            "justify_items": null,
            "grid_row": null,
            "max_height": null,
            "align_content": null,
            "visibility": null,
            "align_self": null,
            "height": null,
            "min_height": null,
            "padding": null,
            "grid_auto_rows": null,
            "grid_gap": null,
            "max_width": null,
            "order": null,
            "_view_module_version": "1.2.0",
            "grid_template_areas": null,
            "object_position": null,
            "object_fit": null,
            "grid_auto_columns": null,
            "margin": null,
            "display": null,
            "left": null
          }
        },
        "d67e5a12f530427b9d8c22d84a64639e": {
          "model_module": "@jupyter-widgets/controls",
          "model_name": "ProgressStyleModel",
          "state": {
            "_view_name": "StyleView",
            "_model_name": "ProgressStyleModel",
            "description_width": "",
            "_view_module": "@jupyter-widgets/base",
            "_model_module_version": "1.5.0",
            "_view_count": null,
            "_view_module_version": "1.2.0",
            "bar_color": null,
            "_model_module": "@jupyter-widgets/controls"
          }
        },
        "345b51e49cc24e7bb76ad81492358278": {
          "model_module": "@jupyter-widgets/base",
          "model_name": "LayoutModel",
          "state": {
            "_view_name": "LayoutView",
            "grid_template_rows": null,
            "right": null,
            "justify_content": null,
            "_view_module": "@jupyter-widgets/base",
            "overflow": null,
            "_model_module_version": "1.2.0",
            "_view_count": null,
            "flex_flow": null,
            "width": null,
            "min_width": null,
            "border": null,
            "align_items": null,
            "bottom": null,
            "_model_module": "@jupyter-widgets/base",
            "top": null,
            "grid_column": null,
            "overflow_y": null,
            "overflow_x": null,
            "grid_auto_flow": null,
            "grid_area": null,
            "grid_template_columns": null,
            "flex": null,
            "_model_name": "LayoutModel",
            "justify_items": null,
            "grid_row": null,
            "max_height": null,
            "align_content": null,
            "visibility": null,
            "align_self": null,
            "height": null,
            "min_height": null,
            "padding": null,
            "grid_auto_rows": null,
            "grid_gap": null,
            "max_width": null,
            "order": null,
            "_view_module_version": "1.2.0",
            "grid_template_areas": null,
            "object_position": null,
            "object_fit": null,
            "grid_auto_columns": null,
            "margin": null,
            "display": null,
            "left": null
          }
        },
        "50acb741a2204c6fb7149a5a55391cf0": {
          "model_module": "@jupyter-widgets/controls",
          "model_name": "VBoxModel",
          "state": {
            "_view_name": "VBoxView",
            "_dom_classes": [],
            "_model_name": "VBoxModel",
            "_view_module": "@jupyter-widgets/controls",
            "_model_module_version": "1.5.0",
            "_view_count": null,
            "_view_module_version": "1.5.0",
            "box_style": "",
            "layout": "IPY_MODEL_5f330f558cda4e25a875aed3118a4522",
            "_model_module": "@jupyter-widgets/controls",
            "children": [
              "IPY_MODEL_2d48ed134c7242f9ad64f986b6dbd632",
              "IPY_MODEL_ba56490e043c42749d97473a107f17d2"
            ]
          }
        },
        "5f330f558cda4e25a875aed3118a4522": {
          "model_module": "@jupyter-widgets/base",
          "model_name": "LayoutModel",
          "state": {
            "_view_name": "LayoutView",
            "grid_template_rows": null,
            "right": null,
            "justify_content": null,
            "_view_module": "@jupyter-widgets/base",
            "overflow": null,
            "_model_module_version": "1.2.0",
            "_view_count": null,
            "flex_flow": null,
            "width": null,
            "min_width": null,
            "border": null,
            "align_items": null,
            "bottom": null,
            "_model_module": "@jupyter-widgets/base",
            "top": null,
            "grid_column": null,
            "overflow_y": null,
            "overflow_x": null,
            "grid_auto_flow": null,
            "grid_area": null,
            "grid_template_columns": null,
            "flex": null,
            "_model_name": "LayoutModel",
            "justify_items": null,
            "grid_row": null,
            "max_height": null,
            "align_content": null,
            "visibility": null,
            "align_self": null,
            "height": null,
            "min_height": null,
            "padding": null,
            "grid_auto_rows": null,
            "grid_gap": null,
            "max_width": null,
            "order": null,
            "_view_module_version": "1.2.0",
            "grid_template_areas": null,
            "object_position": null,
            "object_fit": null,
            "grid_auto_columns": null,
            "margin": null,
            "display": null,
            "left": null
          }
        },
        "2d48ed134c7242f9ad64f986b6dbd632": {
          "model_module": "@jupyter-widgets/controls",
          "model_name": "LabelModel",
          "state": {
            "_view_name": "LabelView",
            "style": "IPY_MODEL_b4a3c4ced55d4b5083ab2fc8f6f27588",
            "_dom_classes": [],
            "description": "",
            "_model_name": "LabelModel",
            "placeholder": "​",
            "_view_module": "@jupyter-widgets/controls",
            "_model_module_version": "1.5.0",
            "value": " 87.77MB of 87.77MB uploaded (0.00MB deduped)\r",
            "_view_count": null,
            "_view_module_version": "1.5.0",
            "description_tooltip": null,
            "_model_module": "@jupyter-widgets/controls",
            "layout": "IPY_MODEL_980d342a82014d5885356271c34afbd2"
          }
        },
        "ba56490e043c42749d97473a107f17d2": {
          "model_module": "@jupyter-widgets/controls",
          "model_name": "FloatProgressModel",
          "state": {
            "_view_name": "ProgressView",
            "style": "IPY_MODEL_bc7b0ba8e87a4a948ac3a2163aa018d6",
            "_dom_classes": [],
            "description": "",
            "_model_name": "FloatProgressModel",
            "bar_style": "",
            "max": 1,
            "_view_module": "@jupyter-widgets/controls",
            "_model_module_version": "1.5.0",
            "value": 1,
            "_view_count": null,
            "_view_module_version": "1.5.0",
            "orientation": "horizontal",
            "min": 0,
            "description_tooltip": null,
            "_model_module": "@jupyter-widgets/controls",
            "layout": "IPY_MODEL_a753a461928b47fdb047ffb849e00b54"
          }
        },
        "b4a3c4ced55d4b5083ab2fc8f6f27588": {
          "model_module": "@jupyter-widgets/controls",
          "model_name": "DescriptionStyleModel",
          "state": {
            "_view_name": "StyleView",
            "_model_name": "DescriptionStyleModel",
            "description_width": "",
            "_view_module": "@jupyter-widgets/base",
            "_model_module_version": "1.5.0",
            "_view_count": null,
            "_view_module_version": "1.2.0",
            "_model_module": "@jupyter-widgets/controls"
          }
        },
        "980d342a82014d5885356271c34afbd2": {
          "model_module": "@jupyter-widgets/base",
          "model_name": "LayoutModel",
          "state": {
            "_view_name": "LayoutView",
            "grid_template_rows": null,
            "right": null,
            "justify_content": null,
            "_view_module": "@jupyter-widgets/base",
            "overflow": null,
            "_model_module_version": "1.2.0",
            "_view_count": null,
            "flex_flow": null,
            "width": null,
            "min_width": null,
            "border": null,
            "align_items": null,
            "bottom": null,
            "_model_module": "@jupyter-widgets/base",
            "top": null,
            "grid_column": null,
            "overflow_y": null,
            "overflow_x": null,
            "grid_auto_flow": null,
            "grid_area": null,
            "grid_template_columns": null,
            "flex": null,
            "_model_name": "LayoutModel",
            "justify_items": null,
            "grid_row": null,
            "max_height": null,
            "align_content": null,
            "visibility": null,
            "align_self": null,
            "height": null,
            "min_height": null,
            "padding": null,
            "grid_auto_rows": null,
            "grid_gap": null,
            "max_width": null,
            "order": null,
            "_view_module_version": "1.2.0",
            "grid_template_areas": null,
            "object_position": null,
            "object_fit": null,
            "grid_auto_columns": null,
            "margin": null,
            "display": null,
            "left": null
          }
        },
        "bc7b0ba8e87a4a948ac3a2163aa018d6": {
          "model_module": "@jupyter-widgets/controls",
          "model_name": "ProgressStyleModel",
          "state": {
            "_view_name": "StyleView",
            "_model_name": "ProgressStyleModel",
            "description_width": "",
            "_view_module": "@jupyter-widgets/base",
            "_model_module_version": "1.5.0",
            "_view_count": null,
            "_view_module_version": "1.2.0",
            "bar_color": null,
            "_model_module": "@jupyter-widgets/controls"
          }
        },
        "a753a461928b47fdb047ffb849e00b54": {
          "model_module": "@jupyter-widgets/base",
          "model_name": "LayoutModel",
          "state": {
            "_view_name": "LayoutView",
            "grid_template_rows": null,
            "right": null,
            "justify_content": null,
            "_view_module": "@jupyter-widgets/base",
            "overflow": null,
            "_model_module_version": "1.2.0",
            "_view_count": null,
            "flex_flow": null,
            "width": null,
            "min_width": null,
            "border": null,
            "align_items": null,
            "bottom": null,
            "_model_module": "@jupyter-widgets/base",
            "top": null,
            "grid_column": null,
            "overflow_y": null,
            "overflow_x": null,
            "grid_auto_flow": null,
            "grid_area": null,
            "grid_template_columns": null,
            "flex": null,
            "_model_name": "LayoutModel",
            "justify_items": null,
            "grid_row": null,
            "max_height": null,
            "align_content": null,
            "visibility": null,
            "align_self": null,
            "height": null,
            "min_height": null,
            "padding": null,
            "grid_auto_rows": null,
            "grid_gap": null,
            "max_width": null,
            "order": null,
            "_view_module_version": "1.2.0",
            "grid_template_areas": null,
            "object_position": null,
            "object_fit": null,
            "grid_auto_columns": null,
            "margin": null,
            "display": null,
            "left": null
          }
        },
        "4ab0f1fecedd47219a339f5aaa7d7f12": {
          "model_module": "@jupyter-widgets/controls",
          "model_name": "VBoxModel",
          "state": {
            "_view_name": "VBoxView",
            "_dom_classes": [],
            "_model_name": "VBoxModel",
            "_view_module": "@jupyter-widgets/controls",
            "_model_module_version": "1.5.0",
            "_view_count": null,
            "_view_module_version": "1.5.0",
            "box_style": "",
            "layout": "IPY_MODEL_515d295767eb4931ab0d19a0b4e4cc22",
            "_model_module": "@jupyter-widgets/controls",
            "children": [
              "IPY_MODEL_34a0478668ee4a76a078f092331cc8f3",
              "IPY_MODEL_f62b103043504f2bbb2eb64dfe4d05ea"
            ]
          }
        },
        "515d295767eb4931ab0d19a0b4e4cc22": {
          "model_module": "@jupyter-widgets/base",
          "model_name": "LayoutModel",
          "state": {
            "_view_name": "LayoutView",
            "grid_template_rows": null,
            "right": null,
            "justify_content": null,
            "_view_module": "@jupyter-widgets/base",
            "overflow": null,
            "_model_module_version": "1.2.0",
            "_view_count": null,
            "flex_flow": null,
            "width": null,
            "min_width": null,
            "border": null,
            "align_items": null,
            "bottom": null,
            "_model_module": "@jupyter-widgets/base",
            "top": null,
            "grid_column": null,
            "overflow_y": null,
            "overflow_x": null,
            "grid_auto_flow": null,
            "grid_area": null,
            "grid_template_columns": null,
            "flex": null,
            "_model_name": "LayoutModel",
            "justify_items": null,
            "grid_row": null,
            "max_height": null,
            "align_content": null,
            "visibility": null,
            "align_self": null,
            "height": null,
            "min_height": null,
            "padding": null,
            "grid_auto_rows": null,
            "grid_gap": null,
            "max_width": null,
            "order": null,
            "_view_module_version": "1.2.0",
            "grid_template_areas": null,
            "object_position": null,
            "object_fit": null,
            "grid_auto_columns": null,
            "margin": null,
            "display": null,
            "left": null
          }
        },
        "34a0478668ee4a76a078f092331cc8f3": {
          "model_module": "@jupyter-widgets/controls",
          "model_name": "LabelModel",
          "state": {
            "_view_name": "LabelView",
            "style": "IPY_MODEL_f6ef1485ea0f4d05b7d1edbb02d0bcac",
            "_dom_classes": [],
            "description": "",
            "_model_name": "LabelModel",
            "placeholder": "​",
            "_view_module": "@jupyter-widgets/controls",
            "_model_module_version": "1.5.0",
            "value": " 127.56MB of 127.56MB uploaded (0.00MB deduped)\r",
            "_view_count": null,
            "_view_module_version": "1.5.0",
            "description_tooltip": null,
            "_model_module": "@jupyter-widgets/controls",
            "layout": "IPY_MODEL_c252c2048b88499dbdbff55ad443e198"
          }
        },
        "f62b103043504f2bbb2eb64dfe4d05ea": {
          "model_module": "@jupyter-widgets/controls",
          "model_name": "FloatProgressModel",
          "state": {
            "_view_name": "ProgressView",
            "style": "IPY_MODEL_5bd58f57d9304ba4aadb4c66cc1c8527",
            "_dom_classes": [],
            "description": "",
            "_model_name": "FloatProgressModel",
            "bar_style": "",
            "max": 1,
            "_view_module": "@jupyter-widgets/controls",
            "_model_module_version": "1.5.0",
            "value": 1,
            "_view_count": null,
            "_view_module_version": "1.5.0",
            "orientation": "horizontal",
            "min": 0,
            "description_tooltip": null,
            "_model_module": "@jupyter-widgets/controls",
            "layout": "IPY_MODEL_318e498ecb4140ada86526ee96ae0c56"
          }
        },
        "f6ef1485ea0f4d05b7d1edbb02d0bcac": {
          "model_module": "@jupyter-widgets/controls",
          "model_name": "DescriptionStyleModel",
          "state": {
            "_view_name": "StyleView",
            "_model_name": "DescriptionStyleModel",
            "description_width": "",
            "_view_module": "@jupyter-widgets/base",
            "_model_module_version": "1.5.0",
            "_view_count": null,
            "_view_module_version": "1.2.0",
            "_model_module": "@jupyter-widgets/controls"
          }
        },
        "c252c2048b88499dbdbff55ad443e198": {
          "model_module": "@jupyter-widgets/base",
          "model_name": "LayoutModel",
          "state": {
            "_view_name": "LayoutView",
            "grid_template_rows": null,
            "right": null,
            "justify_content": null,
            "_view_module": "@jupyter-widgets/base",
            "overflow": null,
            "_model_module_version": "1.2.0",
            "_view_count": null,
            "flex_flow": null,
            "width": null,
            "min_width": null,
            "border": null,
            "align_items": null,
            "bottom": null,
            "_model_module": "@jupyter-widgets/base",
            "top": null,
            "grid_column": null,
            "overflow_y": null,
            "overflow_x": null,
            "grid_auto_flow": null,
            "grid_area": null,
            "grid_template_columns": null,
            "flex": null,
            "_model_name": "LayoutModel",
            "justify_items": null,
            "grid_row": null,
            "max_height": null,
            "align_content": null,
            "visibility": null,
            "align_self": null,
            "height": null,
            "min_height": null,
            "padding": null,
            "grid_auto_rows": null,
            "grid_gap": null,
            "max_width": null,
            "order": null,
            "_view_module_version": "1.2.0",
            "grid_template_areas": null,
            "object_position": null,
            "object_fit": null,
            "grid_auto_columns": null,
            "margin": null,
            "display": null,
            "left": null
          }
        },
        "5bd58f57d9304ba4aadb4c66cc1c8527": {
          "model_module": "@jupyter-widgets/controls",
          "model_name": "ProgressStyleModel",
          "state": {
            "_view_name": "StyleView",
            "_model_name": "ProgressStyleModel",
            "description_width": "",
            "_view_module": "@jupyter-widgets/base",
            "_model_module_version": "1.5.0",
            "_view_count": null,
            "_view_module_version": "1.2.0",
            "bar_color": null,
            "_model_module": "@jupyter-widgets/controls"
          }
        },
        "318e498ecb4140ada86526ee96ae0c56": {
          "model_module": "@jupyter-widgets/base",
          "model_name": "LayoutModel",
          "state": {
            "_view_name": "LayoutView",
            "grid_template_rows": null,
            "right": null,
            "justify_content": null,
            "_view_module": "@jupyter-widgets/base",
            "overflow": null,
            "_model_module_version": "1.2.0",
            "_view_count": null,
            "flex_flow": null,
            "width": null,
            "min_width": null,
            "border": null,
            "align_items": null,
            "bottom": null,
            "_model_module": "@jupyter-widgets/base",
            "top": null,
            "grid_column": null,
            "overflow_y": null,
            "overflow_x": null,
            "grid_auto_flow": null,
            "grid_area": null,
            "grid_template_columns": null,
            "flex": null,
            "_model_name": "LayoutModel",
            "justify_items": null,
            "grid_row": null,
            "max_height": null,
            "align_content": null,
            "visibility": null,
            "align_self": null,
            "height": null,
            "min_height": null,
            "padding": null,
            "grid_auto_rows": null,
            "grid_gap": null,
            "max_width": null,
            "order": null,
            "_view_module_version": "1.2.0",
            "grid_template_areas": null,
            "object_position": null,
            "object_fit": null,
            "grid_auto_columns": null,
            "margin": null,
            "display": null,
            "left": null
          }
        },
        "2b6ca209bfb14e85aef072a4e87edd38": {
          "model_module": "@jupyter-widgets/controls",
          "model_name": "VBoxModel",
          "state": {
            "_view_name": "VBoxView",
            "_dom_classes": [],
            "_model_name": "VBoxModel",
            "_view_module": "@jupyter-widgets/controls",
            "_model_module_version": "1.5.0",
            "_view_count": null,
            "_view_module_version": "1.5.0",
            "box_style": "",
            "layout": "IPY_MODEL_8c605c9fb00640c68689944ce50ed373",
            "_model_module": "@jupyter-widgets/controls",
            "children": [
              "IPY_MODEL_909f2f00e37846418302521ae92ad16c",
              "IPY_MODEL_7e4febb8aeeb46849868139ce65fcb8c"
            ]
          }
        },
        "8c605c9fb00640c68689944ce50ed373": {
          "model_module": "@jupyter-widgets/base",
          "model_name": "LayoutModel",
          "state": {
            "_view_name": "LayoutView",
            "grid_template_rows": null,
            "right": null,
            "justify_content": null,
            "_view_module": "@jupyter-widgets/base",
            "overflow": null,
            "_model_module_version": "1.2.0",
            "_view_count": null,
            "flex_flow": null,
            "width": null,
            "min_width": null,
            "border": null,
            "align_items": null,
            "bottom": null,
            "_model_module": "@jupyter-widgets/base",
            "top": null,
            "grid_column": null,
            "overflow_y": null,
            "overflow_x": null,
            "grid_auto_flow": null,
            "grid_area": null,
            "grid_template_columns": null,
            "flex": null,
            "_model_name": "LayoutModel",
            "justify_items": null,
            "grid_row": null,
            "max_height": null,
            "align_content": null,
            "visibility": null,
            "align_self": null,
            "height": null,
            "min_height": null,
            "padding": null,
            "grid_auto_rows": null,
            "grid_gap": null,
            "max_width": null,
            "order": null,
            "_view_module_version": "1.2.0",
            "grid_template_areas": null,
            "object_position": null,
            "object_fit": null,
            "grid_auto_columns": null,
            "margin": null,
            "display": null,
            "left": null
          }
        },
        "909f2f00e37846418302521ae92ad16c": {
          "model_module": "@jupyter-widgets/controls",
          "model_name": "LabelModel",
          "state": {
            "_view_name": "LabelView",
            "style": "IPY_MODEL_2ccbcad9d02745869e8fb8ba0c97acb5",
            "_dom_classes": [],
            "description": "",
            "_model_name": "LabelModel",
            "placeholder": "​",
            "_view_module": "@jupyter-widgets/controls",
            "_model_module_version": "1.5.0",
            "value": " 214.42MB of 214.42MB uploaded (0.00MB deduped)\r",
            "_view_count": null,
            "_view_module_version": "1.5.0",
            "description_tooltip": null,
            "_model_module": "@jupyter-widgets/controls",
            "layout": "IPY_MODEL_9a63c071dcad4c87afafc8dcffa2f7aa"
          }
        },
        "7e4febb8aeeb46849868139ce65fcb8c": {
          "model_module": "@jupyter-widgets/controls",
          "model_name": "FloatProgressModel",
          "state": {
            "_view_name": "ProgressView",
            "style": "IPY_MODEL_ba52e0273cd74e0bb4c804c06a1e2f22",
            "_dom_classes": [],
            "description": "",
            "_model_name": "FloatProgressModel",
            "bar_style": "",
            "max": 1,
            "_view_module": "@jupyter-widgets/controls",
            "_model_module_version": "1.5.0",
            "value": 1,
            "_view_count": null,
            "_view_module_version": "1.5.0",
            "orientation": "horizontal",
            "min": 0,
            "description_tooltip": null,
            "_model_module": "@jupyter-widgets/controls",
            "layout": "IPY_MODEL_4b6c8251bec24084a539202596f37d09"
          }
        },
        "2ccbcad9d02745869e8fb8ba0c97acb5": {
          "model_module": "@jupyter-widgets/controls",
          "model_name": "DescriptionStyleModel",
          "state": {
            "_view_name": "StyleView",
            "_model_name": "DescriptionStyleModel",
            "description_width": "",
            "_view_module": "@jupyter-widgets/base",
            "_model_module_version": "1.5.0",
            "_view_count": null,
            "_view_module_version": "1.2.0",
            "_model_module": "@jupyter-widgets/controls"
          }
        },
        "9a63c071dcad4c87afafc8dcffa2f7aa": {
          "model_module": "@jupyter-widgets/base",
          "model_name": "LayoutModel",
          "state": {
            "_view_name": "LayoutView",
            "grid_template_rows": null,
            "right": null,
            "justify_content": null,
            "_view_module": "@jupyter-widgets/base",
            "overflow": null,
            "_model_module_version": "1.2.0",
            "_view_count": null,
            "flex_flow": null,
            "width": null,
            "min_width": null,
            "border": null,
            "align_items": null,
            "bottom": null,
            "_model_module": "@jupyter-widgets/base",
            "top": null,
            "grid_column": null,
            "overflow_y": null,
            "overflow_x": null,
            "grid_auto_flow": null,
            "grid_area": null,
            "grid_template_columns": null,
            "flex": null,
            "_model_name": "LayoutModel",
            "justify_items": null,
            "grid_row": null,
            "max_height": null,
            "align_content": null,
            "visibility": null,
            "align_self": null,
            "height": null,
            "min_height": null,
            "padding": null,
            "grid_auto_rows": null,
            "grid_gap": null,
            "max_width": null,
            "order": null,
            "_view_module_version": "1.2.0",
            "grid_template_areas": null,
            "object_position": null,
            "object_fit": null,
            "grid_auto_columns": null,
            "margin": null,
            "display": null,
            "left": null
          }
        },
        "ba52e0273cd74e0bb4c804c06a1e2f22": {
          "model_module": "@jupyter-widgets/controls",
          "model_name": "ProgressStyleModel",
          "state": {
            "_view_name": "StyleView",
            "_model_name": "ProgressStyleModel",
            "description_width": "",
            "_view_module": "@jupyter-widgets/base",
            "_model_module_version": "1.5.0",
            "_view_count": null,
            "_view_module_version": "1.2.0",
            "bar_color": null,
            "_model_module": "@jupyter-widgets/controls"
          }
        },
        "4b6c8251bec24084a539202596f37d09": {
          "model_module": "@jupyter-widgets/base",
          "model_name": "LayoutModel",
          "state": {
            "_view_name": "LayoutView",
            "grid_template_rows": null,
            "right": null,
            "justify_content": null,
            "_view_module": "@jupyter-widgets/base",
            "overflow": null,
            "_model_module_version": "1.2.0",
            "_view_count": null,
            "flex_flow": null,
            "width": null,
            "min_width": null,
            "border": null,
            "align_items": null,
            "bottom": null,
            "_model_module": "@jupyter-widgets/base",
            "top": null,
            "grid_column": null,
            "overflow_y": null,
            "overflow_x": null,
            "grid_auto_flow": null,
            "grid_area": null,
            "grid_template_columns": null,
            "flex": null,
            "_model_name": "LayoutModel",
            "justify_items": null,
            "grid_row": null,
            "max_height": null,
            "align_content": null,
            "visibility": null,
            "align_self": null,
            "height": null,
            "min_height": null,
            "padding": null,
            "grid_auto_rows": null,
            "grid_gap": null,
            "max_width": null,
            "order": null,
            "_view_module_version": "1.2.0",
            "grid_template_areas": null,
            "object_position": null,
            "object_fit": null,
            "grid_auto_columns": null,
            "margin": null,
            "display": null,
            "left": null
          }
        },
        "63bc5038412e43af9f78537db03f2985": {
          "model_module": "@jupyter-widgets/controls",
          "model_name": "VBoxModel",
          "state": {
            "_view_name": "VBoxView",
            "_dom_classes": [],
            "_model_name": "VBoxModel",
            "_view_module": "@jupyter-widgets/controls",
            "_model_module_version": "1.5.0",
            "_view_count": null,
            "_view_module_version": "1.5.0",
            "box_style": "",
            "layout": "IPY_MODEL_39308c383c39419383d98a1a6accdea1",
            "_model_module": "@jupyter-widgets/controls",
            "children": [
              "IPY_MODEL_b699fee8b7f049b88d51a8458ffb4341",
              "IPY_MODEL_183c1d26013b40fd98d6b7829ac6830e"
            ]
          }
        },
        "39308c383c39419383d98a1a6accdea1": {
          "model_module": "@jupyter-widgets/base",
          "model_name": "LayoutModel",
          "state": {
            "_view_name": "LayoutView",
            "grid_template_rows": null,
            "right": null,
            "justify_content": null,
            "_view_module": "@jupyter-widgets/base",
            "overflow": null,
            "_model_module_version": "1.2.0",
            "_view_count": null,
            "flex_flow": null,
            "width": null,
            "min_width": null,
            "border": null,
            "align_items": null,
            "bottom": null,
            "_model_module": "@jupyter-widgets/base",
            "top": null,
            "grid_column": null,
            "overflow_y": null,
            "overflow_x": null,
            "grid_auto_flow": null,
            "grid_area": null,
            "grid_template_columns": null,
            "flex": null,
            "_model_name": "LayoutModel",
            "justify_items": null,
            "grid_row": null,
            "max_height": null,
            "align_content": null,
            "visibility": null,
            "align_self": null,
            "height": null,
            "min_height": null,
            "padding": null,
            "grid_auto_rows": null,
            "grid_gap": null,
            "max_width": null,
            "order": null,
            "_view_module_version": "1.2.0",
            "grid_template_areas": null,
            "object_position": null,
            "object_fit": null,
            "grid_auto_columns": null,
            "margin": null,
            "display": null,
            "left": null
          }
        },
        "b699fee8b7f049b88d51a8458ffb4341": {
          "model_module": "@jupyter-widgets/controls",
          "model_name": "LabelModel",
          "state": {
            "_view_name": "LabelView",
            "style": "IPY_MODEL_7a010eba71d04eb997222ce4cc5bb42c",
            "_dom_classes": [],
            "description": "",
            "_model_name": "LabelModel",
            "placeholder": "​",
            "_view_module": "@jupyter-widgets/controls",
            "_model_module_version": "1.5.0",
            "value": " 250.54MB of 250.54MB uploaded (0.00MB deduped)\r",
            "_view_count": null,
            "_view_module_version": "1.5.0",
            "description_tooltip": null,
            "_model_module": "@jupyter-widgets/controls",
            "layout": "IPY_MODEL_25a79b973a6446e8b9c519e4e444ad00"
          }
        },
        "183c1d26013b40fd98d6b7829ac6830e": {
          "model_module": "@jupyter-widgets/controls",
          "model_name": "FloatProgressModel",
          "state": {
            "_view_name": "ProgressView",
            "style": "IPY_MODEL_635bbd51b1184ef895a77924dcbaefad",
            "_dom_classes": [],
            "description": "",
            "_model_name": "FloatProgressModel",
            "bar_style": "",
            "max": 1,
            "_view_module": "@jupyter-widgets/controls",
            "_model_module_version": "1.5.0",
            "value": 1,
            "_view_count": null,
            "_view_module_version": "1.5.0",
            "orientation": "horizontal",
            "min": 0,
            "description_tooltip": null,
            "_model_module": "@jupyter-widgets/controls",
            "layout": "IPY_MODEL_89118430f87a4c5696a693bd4caf9d2f"
          }
        },
        "7a010eba71d04eb997222ce4cc5bb42c": {
          "model_module": "@jupyter-widgets/controls",
          "model_name": "DescriptionStyleModel",
          "state": {
            "_view_name": "StyleView",
            "_model_name": "DescriptionStyleModel",
            "description_width": "",
            "_view_module": "@jupyter-widgets/base",
            "_model_module_version": "1.5.0",
            "_view_count": null,
            "_view_module_version": "1.2.0",
            "_model_module": "@jupyter-widgets/controls"
          }
        },
        "25a79b973a6446e8b9c519e4e444ad00": {
          "model_module": "@jupyter-widgets/base",
          "model_name": "LayoutModel",
          "state": {
            "_view_name": "LayoutView",
            "grid_template_rows": null,
            "right": null,
            "justify_content": null,
            "_view_module": "@jupyter-widgets/base",
            "overflow": null,
            "_model_module_version": "1.2.0",
            "_view_count": null,
            "flex_flow": null,
            "width": null,
            "min_width": null,
            "border": null,
            "align_items": null,
            "bottom": null,
            "_model_module": "@jupyter-widgets/base",
            "top": null,
            "grid_column": null,
            "overflow_y": null,
            "overflow_x": null,
            "grid_auto_flow": null,
            "grid_area": null,
            "grid_template_columns": null,
            "flex": null,
            "_model_name": "LayoutModel",
            "justify_items": null,
            "grid_row": null,
            "max_height": null,
            "align_content": null,
            "visibility": null,
            "align_self": null,
            "height": null,
            "min_height": null,
            "padding": null,
            "grid_auto_rows": null,
            "grid_gap": null,
            "max_width": null,
            "order": null,
            "_view_module_version": "1.2.0",
            "grid_template_areas": null,
            "object_position": null,
            "object_fit": null,
            "grid_auto_columns": null,
            "margin": null,
            "display": null,
            "left": null
          }
        },
        "635bbd51b1184ef895a77924dcbaefad": {
          "model_module": "@jupyter-widgets/controls",
          "model_name": "ProgressStyleModel",
          "state": {
            "_view_name": "StyleView",
            "_model_name": "ProgressStyleModel",
            "description_width": "",
            "_view_module": "@jupyter-widgets/base",
            "_model_module_version": "1.5.0",
            "_view_count": null,
            "_view_module_version": "1.2.0",
            "bar_color": null,
            "_model_module": "@jupyter-widgets/controls"
          }
        },
        "89118430f87a4c5696a693bd4caf9d2f": {
          "model_module": "@jupyter-widgets/base",
          "model_name": "LayoutModel",
          "state": {
            "_view_name": "LayoutView",
            "grid_template_rows": null,
            "right": null,
            "justify_content": null,
            "_view_module": "@jupyter-widgets/base",
            "overflow": null,
            "_model_module_version": "1.2.0",
            "_view_count": null,
            "flex_flow": null,
            "width": null,
            "min_width": null,
            "border": null,
            "align_items": null,
            "bottom": null,
            "_model_module": "@jupyter-widgets/base",
            "top": null,
            "grid_column": null,
            "overflow_y": null,
            "overflow_x": null,
            "grid_auto_flow": null,
            "grid_area": null,
            "grid_template_columns": null,
            "flex": null,
            "_model_name": "LayoutModel",
            "justify_items": null,
            "grid_row": null,
            "max_height": null,
            "align_content": null,
            "visibility": null,
            "align_self": null,
            "height": null,
            "min_height": null,
            "padding": null,
            "grid_auto_rows": null,
            "grid_gap": null,
            "max_width": null,
            "order": null,
            "_view_module_version": "1.2.0",
            "grid_template_areas": null,
            "object_position": null,
            "object_fit": null,
            "grid_auto_columns": null,
            "margin": null,
            "display": null,
            "left": null
          }
        },
        "2d98d04f0e7e4b59b98f4f72fde0fb38": {
          "model_module": "@jupyter-widgets/controls",
          "model_name": "VBoxModel",
          "state": {
            "_view_name": "VBoxView",
            "_dom_classes": [],
            "_model_name": "VBoxModel",
            "_view_module": "@jupyter-widgets/controls",
            "_model_module_version": "1.5.0",
            "_view_count": null,
            "_view_module_version": "1.5.0",
            "box_style": "",
            "layout": "IPY_MODEL_ca746d8678ba4b74ac6f63a0fa9d3881",
            "_model_module": "@jupyter-widgets/controls",
            "children": [
              "IPY_MODEL_d4eca785fad6417486ee227f3c1bd22f",
              "IPY_MODEL_b4db61cdee4a4d1482af107b7858067b"
            ]
          }
        },
        "ca746d8678ba4b74ac6f63a0fa9d3881": {
          "model_module": "@jupyter-widgets/base",
          "model_name": "LayoutModel",
          "state": {
            "_view_name": "LayoutView",
            "grid_template_rows": null,
            "right": null,
            "justify_content": null,
            "_view_module": "@jupyter-widgets/base",
            "overflow": null,
            "_model_module_version": "1.2.0",
            "_view_count": null,
            "flex_flow": null,
            "width": null,
            "min_width": null,
            "border": null,
            "align_items": null,
            "bottom": null,
            "_model_module": "@jupyter-widgets/base",
            "top": null,
            "grid_column": null,
            "overflow_y": null,
            "overflow_x": null,
            "grid_auto_flow": null,
            "grid_area": null,
            "grid_template_columns": null,
            "flex": null,
            "_model_name": "LayoutModel",
            "justify_items": null,
            "grid_row": null,
            "max_height": null,
            "align_content": null,
            "visibility": null,
            "align_self": null,
            "height": null,
            "min_height": null,
            "padding": null,
            "grid_auto_rows": null,
            "grid_gap": null,
            "max_width": null,
            "order": null,
            "_view_module_version": "1.2.0",
            "grid_template_areas": null,
            "object_position": null,
            "object_fit": null,
            "grid_auto_columns": null,
            "margin": null,
            "display": null,
            "left": null
          }
        },
        "d4eca785fad6417486ee227f3c1bd22f": {
          "model_module": "@jupyter-widgets/controls",
          "model_name": "LabelModel",
          "state": {
            "_view_name": "LabelView",
            "style": "IPY_MODEL_0e677a9e215e49978f1b630619a00af2",
            "_dom_classes": [],
            "description": "",
            "_model_name": "LabelModel",
            "placeholder": "​",
            "_view_module": "@jupyter-widgets/controls",
            "_model_module_version": "1.5.0",
            "value": " 98.24MB of 98.24MB uploaded (0.00MB deduped)\r",
            "_view_count": null,
            "_view_module_version": "1.5.0",
            "description_tooltip": null,
            "_model_module": "@jupyter-widgets/controls",
            "layout": "IPY_MODEL_63a47e74c1884916a6120c1f59cd9c68"
          }
        },
        "b4db61cdee4a4d1482af107b7858067b": {
          "model_module": "@jupyter-widgets/controls",
          "model_name": "FloatProgressModel",
          "state": {
            "_view_name": "ProgressView",
            "style": "IPY_MODEL_21999a607072420988cbfa81f2b5a506",
            "_dom_classes": [],
            "description": "",
            "_model_name": "FloatProgressModel",
            "bar_style": "",
            "max": 1,
            "_view_module": "@jupyter-widgets/controls",
            "_model_module_version": "1.5.0",
            "value": 1,
            "_view_count": null,
            "_view_module_version": "1.5.0",
            "orientation": "horizontal",
            "min": 0,
            "description_tooltip": null,
            "_model_module": "@jupyter-widgets/controls",
            "layout": "IPY_MODEL_2137293c3f224d309e9857030264c665"
          }
        },
        "0e677a9e215e49978f1b630619a00af2": {
          "model_module": "@jupyter-widgets/controls",
          "model_name": "DescriptionStyleModel",
          "state": {
            "_view_name": "StyleView",
            "_model_name": "DescriptionStyleModel",
            "description_width": "",
            "_view_module": "@jupyter-widgets/base",
            "_model_module_version": "1.5.0",
            "_view_count": null,
            "_view_module_version": "1.2.0",
            "_model_module": "@jupyter-widgets/controls"
          }
        },
        "63a47e74c1884916a6120c1f59cd9c68": {
          "model_module": "@jupyter-widgets/base",
          "model_name": "LayoutModel",
          "state": {
            "_view_name": "LayoutView",
            "grid_template_rows": null,
            "right": null,
            "justify_content": null,
            "_view_module": "@jupyter-widgets/base",
            "overflow": null,
            "_model_module_version": "1.2.0",
            "_view_count": null,
            "flex_flow": null,
            "width": null,
            "min_width": null,
            "border": null,
            "align_items": null,
            "bottom": null,
            "_model_module": "@jupyter-widgets/base",
            "top": null,
            "grid_column": null,
            "overflow_y": null,
            "overflow_x": null,
            "grid_auto_flow": null,
            "grid_area": null,
            "grid_template_columns": null,
            "flex": null,
            "_model_name": "LayoutModel",
            "justify_items": null,
            "grid_row": null,
            "max_height": null,
            "align_content": null,
            "visibility": null,
            "align_self": null,
            "height": null,
            "min_height": null,
            "padding": null,
            "grid_auto_rows": null,
            "grid_gap": null,
            "max_width": null,
            "order": null,
            "_view_module_version": "1.2.0",
            "grid_template_areas": null,
            "object_position": null,
            "object_fit": null,
            "grid_auto_columns": null,
            "margin": null,
            "display": null,
            "left": null
          }
        },
        "21999a607072420988cbfa81f2b5a506": {
          "model_module": "@jupyter-widgets/controls",
          "model_name": "ProgressStyleModel",
          "state": {
            "_view_name": "StyleView",
            "_model_name": "ProgressStyleModel",
            "description_width": "",
            "_view_module": "@jupyter-widgets/base",
            "_model_module_version": "1.5.0",
            "_view_count": null,
            "_view_module_version": "1.2.0",
            "bar_color": null,
            "_model_module": "@jupyter-widgets/controls"
          }
        },
        "2137293c3f224d309e9857030264c665": {
          "model_module": "@jupyter-widgets/base",
          "model_name": "LayoutModel",
          "state": {
            "_view_name": "LayoutView",
            "grid_template_rows": null,
            "right": null,
            "justify_content": null,
            "_view_module": "@jupyter-widgets/base",
            "overflow": null,
            "_model_module_version": "1.2.0",
            "_view_count": null,
            "flex_flow": null,
            "width": null,
            "min_width": null,
            "border": null,
            "align_items": null,
            "bottom": null,
            "_model_module": "@jupyter-widgets/base",
            "top": null,
            "grid_column": null,
            "overflow_y": null,
            "overflow_x": null,
            "grid_auto_flow": null,
            "grid_area": null,
            "grid_template_columns": null,
            "flex": null,
            "_model_name": "LayoutModel",
            "justify_items": null,
            "grid_row": null,
            "max_height": null,
            "align_content": null,
            "visibility": null,
            "align_self": null,
            "height": null,
            "min_height": null,
            "padding": null,
            "grid_auto_rows": null,
            "grid_gap": null,
            "max_width": null,
            "order": null,
            "_view_module_version": "1.2.0",
            "grid_template_areas": null,
            "object_position": null,
            "object_fit": null,
            "grid_auto_columns": null,
            "margin": null,
            "display": null,
            "left": null
          }
        },
        "72110a11bf694caabf9cf81e31499608": {
          "model_module": "@jupyter-widgets/controls",
          "model_name": "VBoxModel",
          "state": {
            "_view_name": "VBoxView",
            "_dom_classes": [],
            "_model_name": "VBoxModel",
            "_view_module": "@jupyter-widgets/controls",
            "_model_module_version": "1.5.0",
            "_view_count": null,
            "_view_module_version": "1.5.0",
            "box_style": "",
            "layout": "IPY_MODEL_9401d8571ab44fcba9b24b6215da1c03",
            "_model_module": "@jupyter-widgets/controls",
            "children": [
              "IPY_MODEL_129dd215b0b74dababa9eef3e4247798",
              "IPY_MODEL_7b2654303fa942078bfb6f9f97dab74e"
            ]
          }
        },
        "9401d8571ab44fcba9b24b6215da1c03": {
          "model_module": "@jupyter-widgets/base",
          "model_name": "LayoutModel",
          "state": {
            "_view_name": "LayoutView",
            "grid_template_rows": null,
            "right": null,
            "justify_content": null,
            "_view_module": "@jupyter-widgets/base",
            "overflow": null,
            "_model_module_version": "1.2.0",
            "_view_count": null,
            "flex_flow": null,
            "width": null,
            "min_width": null,
            "border": null,
            "align_items": null,
            "bottom": null,
            "_model_module": "@jupyter-widgets/base",
            "top": null,
            "grid_column": null,
            "overflow_y": null,
            "overflow_x": null,
            "grid_auto_flow": null,
            "grid_area": null,
            "grid_template_columns": null,
            "flex": null,
            "_model_name": "LayoutModel",
            "justify_items": null,
            "grid_row": null,
            "max_height": null,
            "align_content": null,
            "visibility": null,
            "align_self": null,
            "height": null,
            "min_height": null,
            "padding": null,
            "grid_auto_rows": null,
            "grid_gap": null,
            "max_width": null,
            "order": null,
            "_view_module_version": "1.2.0",
            "grid_template_areas": null,
            "object_position": null,
            "object_fit": null,
            "grid_auto_columns": null,
            "margin": null,
            "display": null,
            "left": null
          }
        },
        "129dd215b0b74dababa9eef3e4247798": {
          "model_module": "@jupyter-widgets/controls",
          "model_name": "LabelModel",
          "state": {
            "_view_name": "LabelView",
            "style": "IPY_MODEL_fe013c5a51b248a780fd2e475d3d58be",
            "_dom_classes": [],
            "description": "",
            "_model_name": "LabelModel",
            "placeholder": "​",
            "_view_module": "@jupyter-widgets/controls",
            "_model_module_version": "1.5.0",
            "value": " 113.91MB of 113.91MB uploaded (0.00MB deduped)\r",
            "_view_count": null,
            "_view_module_version": "1.5.0",
            "description_tooltip": null,
            "_model_module": "@jupyter-widgets/controls",
            "layout": "IPY_MODEL_8ced77262d314c0fa94307c01da1d70c"
          }
        },
        "7b2654303fa942078bfb6f9f97dab74e": {
          "model_module": "@jupyter-widgets/controls",
          "model_name": "FloatProgressModel",
          "state": {
            "_view_name": "ProgressView",
            "style": "IPY_MODEL_d633a52ccc3b43f3b1a1fc4a21aff4e8",
            "_dom_classes": [],
            "description": "",
            "_model_name": "FloatProgressModel",
            "bar_style": "",
            "max": 1,
            "_view_module": "@jupyter-widgets/controls",
            "_model_module_version": "1.5.0",
            "value": 1,
            "_view_count": null,
            "_view_module_version": "1.5.0",
            "orientation": "horizontal",
            "min": 0,
            "description_tooltip": null,
            "_model_module": "@jupyter-widgets/controls",
            "layout": "IPY_MODEL_4f034f29872046cab570f3ff7190f201"
          }
        },
        "fe013c5a51b248a780fd2e475d3d58be": {
          "model_module": "@jupyter-widgets/controls",
          "model_name": "DescriptionStyleModel",
          "state": {
            "_view_name": "StyleView",
            "_model_name": "DescriptionStyleModel",
            "description_width": "",
            "_view_module": "@jupyter-widgets/base",
            "_model_module_version": "1.5.0",
            "_view_count": null,
            "_view_module_version": "1.2.0",
            "_model_module": "@jupyter-widgets/controls"
          }
        },
        "8ced77262d314c0fa94307c01da1d70c": {
          "model_module": "@jupyter-widgets/base",
          "model_name": "LayoutModel",
          "state": {
            "_view_name": "LayoutView",
            "grid_template_rows": null,
            "right": null,
            "justify_content": null,
            "_view_module": "@jupyter-widgets/base",
            "overflow": null,
            "_model_module_version": "1.2.0",
            "_view_count": null,
            "flex_flow": null,
            "width": null,
            "min_width": null,
            "border": null,
            "align_items": null,
            "bottom": null,
            "_model_module": "@jupyter-widgets/base",
            "top": null,
            "grid_column": null,
            "overflow_y": null,
            "overflow_x": null,
            "grid_auto_flow": null,
            "grid_area": null,
            "grid_template_columns": null,
            "flex": null,
            "_model_name": "LayoutModel",
            "justify_items": null,
            "grid_row": null,
            "max_height": null,
            "align_content": null,
            "visibility": null,
            "align_self": null,
            "height": null,
            "min_height": null,
            "padding": null,
            "grid_auto_rows": null,
            "grid_gap": null,
            "max_width": null,
            "order": null,
            "_view_module_version": "1.2.0",
            "grid_template_areas": null,
            "object_position": null,
            "object_fit": null,
            "grid_auto_columns": null,
            "margin": null,
            "display": null,
            "left": null
          }
        },
        "d633a52ccc3b43f3b1a1fc4a21aff4e8": {
          "model_module": "@jupyter-widgets/controls",
          "model_name": "ProgressStyleModel",
          "state": {
            "_view_name": "StyleView",
            "_model_name": "ProgressStyleModel",
            "description_width": "",
            "_view_module": "@jupyter-widgets/base",
            "_model_module_version": "1.5.0",
            "_view_count": null,
            "_view_module_version": "1.2.0",
            "bar_color": null,
            "_model_module": "@jupyter-widgets/controls"
          }
        },
        "4f034f29872046cab570f3ff7190f201": {
          "model_module": "@jupyter-widgets/base",
          "model_name": "LayoutModel",
          "state": {
            "_view_name": "LayoutView",
            "grid_template_rows": null,
            "right": null,
            "justify_content": null,
            "_view_module": "@jupyter-widgets/base",
            "overflow": null,
            "_model_module_version": "1.2.0",
            "_view_count": null,
            "flex_flow": null,
            "width": null,
            "min_width": null,
            "border": null,
            "align_items": null,
            "bottom": null,
            "_model_module": "@jupyter-widgets/base",
            "top": null,
            "grid_column": null,
            "overflow_y": null,
            "overflow_x": null,
            "grid_auto_flow": null,
            "grid_area": null,
            "grid_template_columns": null,
            "flex": null,
            "_model_name": "LayoutModel",
            "justify_items": null,
            "grid_row": null,
            "max_height": null,
            "align_content": null,
            "visibility": null,
            "align_self": null,
            "height": null,
            "min_height": null,
            "padding": null,
            "grid_auto_rows": null,
            "grid_gap": null,
            "max_width": null,
            "order": null,
            "_view_module_version": "1.2.0",
            "grid_template_areas": null,
            "object_position": null,
            "object_fit": null,
            "grid_auto_columns": null,
            "margin": null,
            "display": null,
            "left": null
          }
        },
        "7da1ee5bca12465d88310f64b8589fee": {
          "model_module": "@jupyter-widgets/controls",
          "model_name": "VBoxModel",
          "state": {
            "_view_name": "VBoxView",
            "_dom_classes": [],
            "_model_name": "VBoxModel",
            "_view_module": "@jupyter-widgets/controls",
            "_model_module_version": "1.5.0",
            "_view_count": null,
            "_view_module_version": "1.5.0",
            "box_style": "",
            "layout": "IPY_MODEL_a59f8e292e754d8aad20b9ca6645255a",
            "_model_module": "@jupyter-widgets/controls",
            "children": [
              "IPY_MODEL_23247d01ddc14958adb0dbbf8b464f59",
              "IPY_MODEL_9e896451de2442e79bc55dbe76804eef"
            ]
          }
        },
        "a59f8e292e754d8aad20b9ca6645255a": {
          "model_module": "@jupyter-widgets/base",
          "model_name": "LayoutModel",
          "state": {
            "_view_name": "LayoutView",
            "grid_template_rows": null,
            "right": null,
            "justify_content": null,
            "_view_module": "@jupyter-widgets/base",
            "overflow": null,
            "_model_module_version": "1.2.0",
            "_view_count": null,
            "flex_flow": null,
            "width": null,
            "min_width": null,
            "border": null,
            "align_items": null,
            "bottom": null,
            "_model_module": "@jupyter-widgets/base",
            "top": null,
            "grid_column": null,
            "overflow_y": null,
            "overflow_x": null,
            "grid_auto_flow": null,
            "grid_area": null,
            "grid_template_columns": null,
            "flex": null,
            "_model_name": "LayoutModel",
            "justify_items": null,
            "grid_row": null,
            "max_height": null,
            "align_content": null,
            "visibility": null,
            "align_self": null,
            "height": null,
            "min_height": null,
            "padding": null,
            "grid_auto_rows": null,
            "grid_gap": null,
            "max_width": null,
            "order": null,
            "_view_module_version": "1.2.0",
            "grid_template_areas": null,
            "object_position": null,
            "object_fit": null,
            "grid_auto_columns": null,
            "margin": null,
            "display": null,
            "left": null
          }
        },
        "23247d01ddc14958adb0dbbf8b464f59": {
          "model_module": "@jupyter-widgets/controls",
          "model_name": "LabelModel",
          "state": {
            "_view_name": "LabelView",
            "style": "IPY_MODEL_9afd0439e7b242228ad1ee243f7f374c",
            "_dom_classes": [],
            "description": "",
            "_model_name": "LabelModel",
            "placeholder": "​",
            "_view_module": "@jupyter-widgets/controls",
            "_model_module_version": "1.5.0",
            "value": " 91.60MB of 91.60MB uploaded (0.00MB deduped)\r",
            "_view_count": null,
            "_view_module_version": "1.5.0",
            "description_tooltip": null,
            "_model_module": "@jupyter-widgets/controls",
            "layout": "IPY_MODEL_1aafa9771b5b4f13ad5be7e04e571f9a"
          }
        },
        "9e896451de2442e79bc55dbe76804eef": {
          "model_module": "@jupyter-widgets/controls",
          "model_name": "FloatProgressModel",
          "state": {
            "_view_name": "ProgressView",
            "style": "IPY_MODEL_f5d09ac91987465c9ac12e55d8b77ac9",
            "_dom_classes": [],
            "description": "",
            "_model_name": "FloatProgressModel",
            "bar_style": "",
            "max": 1,
            "_view_module": "@jupyter-widgets/controls",
            "_model_module_version": "1.5.0",
            "value": 1,
            "_view_count": null,
            "_view_module_version": "1.5.0",
            "orientation": "horizontal",
            "min": 0,
            "description_tooltip": null,
            "_model_module": "@jupyter-widgets/controls",
            "layout": "IPY_MODEL_68a1500df90747db8754b92cb7c46bb5"
          }
        },
        "9afd0439e7b242228ad1ee243f7f374c": {
          "model_module": "@jupyter-widgets/controls",
          "model_name": "DescriptionStyleModel",
          "state": {
            "_view_name": "StyleView",
            "_model_name": "DescriptionStyleModel",
            "description_width": "",
            "_view_module": "@jupyter-widgets/base",
            "_model_module_version": "1.5.0",
            "_view_count": null,
            "_view_module_version": "1.2.0",
            "_model_module": "@jupyter-widgets/controls"
          }
        },
        "1aafa9771b5b4f13ad5be7e04e571f9a": {
          "model_module": "@jupyter-widgets/base",
          "model_name": "LayoutModel",
          "state": {
            "_view_name": "LayoutView",
            "grid_template_rows": null,
            "right": null,
            "justify_content": null,
            "_view_module": "@jupyter-widgets/base",
            "overflow": null,
            "_model_module_version": "1.2.0",
            "_view_count": null,
            "flex_flow": null,
            "width": null,
            "min_width": null,
            "border": null,
            "align_items": null,
            "bottom": null,
            "_model_module": "@jupyter-widgets/base",
            "top": null,
            "grid_column": null,
            "overflow_y": null,
            "overflow_x": null,
            "grid_auto_flow": null,
            "grid_area": null,
            "grid_template_columns": null,
            "flex": null,
            "_model_name": "LayoutModel",
            "justify_items": null,
            "grid_row": null,
            "max_height": null,
            "align_content": null,
            "visibility": null,
            "align_self": null,
            "height": null,
            "min_height": null,
            "padding": null,
            "grid_auto_rows": null,
            "grid_gap": null,
            "max_width": null,
            "order": null,
            "_view_module_version": "1.2.0",
            "grid_template_areas": null,
            "object_position": null,
            "object_fit": null,
            "grid_auto_columns": null,
            "margin": null,
            "display": null,
            "left": null
          }
        },
        "f5d09ac91987465c9ac12e55d8b77ac9": {
          "model_module": "@jupyter-widgets/controls",
          "model_name": "ProgressStyleModel",
          "state": {
            "_view_name": "StyleView",
            "_model_name": "ProgressStyleModel",
            "description_width": "",
            "_view_module": "@jupyter-widgets/base",
            "_model_module_version": "1.5.0",
            "_view_count": null,
            "_view_module_version": "1.2.0",
            "bar_color": null,
            "_model_module": "@jupyter-widgets/controls"
          }
        },
        "68a1500df90747db8754b92cb7c46bb5": {
          "model_module": "@jupyter-widgets/base",
          "model_name": "LayoutModel",
          "state": {
            "_view_name": "LayoutView",
            "grid_template_rows": null,
            "right": null,
            "justify_content": null,
            "_view_module": "@jupyter-widgets/base",
            "overflow": null,
            "_model_module_version": "1.2.0",
            "_view_count": null,
            "flex_flow": null,
            "width": null,
            "min_width": null,
            "border": null,
            "align_items": null,
            "bottom": null,
            "_model_module": "@jupyter-widgets/base",
            "top": null,
            "grid_column": null,
            "overflow_y": null,
            "overflow_x": null,
            "grid_auto_flow": null,
            "grid_area": null,
            "grid_template_columns": null,
            "flex": null,
            "_model_name": "LayoutModel",
            "justify_items": null,
            "grid_row": null,
            "max_height": null,
            "align_content": null,
            "visibility": null,
            "align_self": null,
            "height": null,
            "min_height": null,
            "padding": null,
            "grid_auto_rows": null,
            "grid_gap": null,
            "max_width": null,
            "order": null,
            "_view_module_version": "1.2.0",
            "grid_template_areas": null,
            "object_position": null,
            "object_fit": null,
            "grid_auto_columns": null,
            "margin": null,
            "display": null,
            "left": null
          }
        },
        "eeacc18b46e84e5783afe99642827a7d": {
          "model_module": "@jupyter-widgets/controls",
          "model_name": "VBoxModel",
          "state": {
            "_view_name": "VBoxView",
            "_dom_classes": [],
            "_model_name": "VBoxModel",
            "_view_module": "@jupyter-widgets/controls",
            "_model_module_version": "1.5.0",
            "_view_count": null,
            "_view_module_version": "1.5.0",
            "box_style": "",
            "layout": "IPY_MODEL_c9c1aca28df7400bbe98791499706e79",
            "_model_module": "@jupyter-widgets/controls",
            "children": [
              "IPY_MODEL_cd64732fbef14057b9841840ef4456c1",
              "IPY_MODEL_7a0b292f06c24462982a8049f150c7a4"
            ]
          }
        },
        "c9c1aca28df7400bbe98791499706e79": {
          "model_module": "@jupyter-widgets/base",
          "model_name": "LayoutModel",
          "state": {
            "_view_name": "LayoutView",
            "grid_template_rows": null,
            "right": null,
            "justify_content": null,
            "_view_module": "@jupyter-widgets/base",
            "overflow": null,
            "_model_module_version": "1.2.0",
            "_view_count": null,
            "flex_flow": null,
            "width": null,
            "min_width": null,
            "border": null,
            "align_items": null,
            "bottom": null,
            "_model_module": "@jupyter-widgets/base",
            "top": null,
            "grid_column": null,
            "overflow_y": null,
            "overflow_x": null,
            "grid_auto_flow": null,
            "grid_area": null,
            "grid_template_columns": null,
            "flex": null,
            "_model_name": "LayoutModel",
            "justify_items": null,
            "grid_row": null,
            "max_height": null,
            "align_content": null,
            "visibility": null,
            "align_self": null,
            "height": null,
            "min_height": null,
            "padding": null,
            "grid_auto_rows": null,
            "grid_gap": null,
            "max_width": null,
            "order": null,
            "_view_module_version": "1.2.0",
            "grid_template_areas": null,
            "object_position": null,
            "object_fit": null,
            "grid_auto_columns": null,
            "margin": null,
            "display": null,
            "left": null
          }
        },
        "cd64732fbef14057b9841840ef4456c1": {
          "model_module": "@jupyter-widgets/controls",
          "model_name": "LabelModel",
          "state": {
            "_view_name": "LabelView",
            "style": "IPY_MODEL_4e96604fe2204fbd85fddd1288c85d1f",
            "_dom_classes": [],
            "description": "",
            "_model_name": "LabelModel",
            "placeholder": "​",
            "_view_module": "@jupyter-widgets/controls",
            "_model_module_version": "1.5.0",
            "value": " 107.24MB of 107.24MB uploaded (0.00MB deduped)\r",
            "_view_count": null,
            "_view_module_version": "1.5.0",
            "description_tooltip": null,
            "_model_module": "@jupyter-widgets/controls",
            "layout": "IPY_MODEL_37a453e97db44a00be8883d125b0a1e4"
          }
        },
        "7a0b292f06c24462982a8049f150c7a4": {
          "model_module": "@jupyter-widgets/controls",
          "model_name": "FloatProgressModel",
          "state": {
            "_view_name": "ProgressView",
            "style": "IPY_MODEL_3a5c44100d1c41aca5fd54df57bb6a88",
            "_dom_classes": [],
            "description": "",
            "_model_name": "FloatProgressModel",
            "bar_style": "",
            "max": 1,
            "_view_module": "@jupyter-widgets/controls",
            "_model_module_version": "1.5.0",
            "value": 1,
            "_view_count": null,
            "_view_module_version": "1.5.0",
            "orientation": "horizontal",
            "min": 0,
            "description_tooltip": null,
            "_model_module": "@jupyter-widgets/controls",
            "layout": "IPY_MODEL_796154859cdd4aa683e55c7b01ea91f9"
          }
        },
        "4e96604fe2204fbd85fddd1288c85d1f": {
          "model_module": "@jupyter-widgets/controls",
          "model_name": "DescriptionStyleModel",
          "state": {
            "_view_name": "StyleView",
            "_model_name": "DescriptionStyleModel",
            "description_width": "",
            "_view_module": "@jupyter-widgets/base",
            "_model_module_version": "1.5.0",
            "_view_count": null,
            "_view_module_version": "1.2.0",
            "_model_module": "@jupyter-widgets/controls"
          }
        },
        "37a453e97db44a00be8883d125b0a1e4": {
          "model_module": "@jupyter-widgets/base",
          "model_name": "LayoutModel",
          "state": {
            "_view_name": "LayoutView",
            "grid_template_rows": null,
            "right": null,
            "justify_content": null,
            "_view_module": "@jupyter-widgets/base",
            "overflow": null,
            "_model_module_version": "1.2.0",
            "_view_count": null,
            "flex_flow": null,
            "width": null,
            "min_width": null,
            "border": null,
            "align_items": null,
            "bottom": null,
            "_model_module": "@jupyter-widgets/base",
            "top": null,
            "grid_column": null,
            "overflow_y": null,
            "overflow_x": null,
            "grid_auto_flow": null,
            "grid_area": null,
            "grid_template_columns": null,
            "flex": null,
            "_model_name": "LayoutModel",
            "justify_items": null,
            "grid_row": null,
            "max_height": null,
            "align_content": null,
            "visibility": null,
            "align_self": null,
            "height": null,
            "min_height": null,
            "padding": null,
            "grid_auto_rows": null,
            "grid_gap": null,
            "max_width": null,
            "order": null,
            "_view_module_version": "1.2.0",
            "grid_template_areas": null,
            "object_position": null,
            "object_fit": null,
            "grid_auto_columns": null,
            "margin": null,
            "display": null,
            "left": null
          }
        },
        "3a5c44100d1c41aca5fd54df57bb6a88": {
          "model_module": "@jupyter-widgets/controls",
          "model_name": "ProgressStyleModel",
          "state": {
            "_view_name": "StyleView",
            "_model_name": "ProgressStyleModel",
            "description_width": "",
            "_view_module": "@jupyter-widgets/base",
            "_model_module_version": "1.5.0",
            "_view_count": null,
            "_view_module_version": "1.2.0",
            "bar_color": null,
            "_model_module": "@jupyter-widgets/controls"
          }
        },
        "796154859cdd4aa683e55c7b01ea91f9": {
          "model_module": "@jupyter-widgets/base",
          "model_name": "LayoutModel",
          "state": {
            "_view_name": "LayoutView",
            "grid_template_rows": null,
            "right": null,
            "justify_content": null,
            "_view_module": "@jupyter-widgets/base",
            "overflow": null,
            "_model_module_version": "1.2.0",
            "_view_count": null,
            "flex_flow": null,
            "width": null,
            "min_width": null,
            "border": null,
            "align_items": null,
            "bottom": null,
            "_model_module": "@jupyter-widgets/base",
            "top": null,
            "grid_column": null,
            "overflow_y": null,
            "overflow_x": null,
            "grid_auto_flow": null,
            "grid_area": null,
            "grid_template_columns": null,
            "flex": null,
            "_model_name": "LayoutModel",
            "justify_items": null,
            "grid_row": null,
            "max_height": null,
            "align_content": null,
            "visibility": null,
            "align_self": null,
            "height": null,
            "min_height": null,
            "padding": null,
            "grid_auto_rows": null,
            "grid_gap": null,
            "max_width": null,
            "order": null,
            "_view_module_version": "1.2.0",
            "grid_template_areas": null,
            "object_position": null,
            "object_fit": null,
            "grid_auto_columns": null,
            "margin": null,
            "display": null,
            "left": null
          }
        }
      }
    }
  },
  "cells": [
    {
      "cell_type": "markdown",
      "metadata": {
        "id": "a45b59db"
      },
      "source": [
        "# Imports and Definitions"
      ],
      "id": "a45b59db"
    },
    {
      "cell_type": "code",
      "metadata": {
        "colab": {
          "base_uri": "https://localhost:8080/"
        },
        "id": "NohCuaUT8Oxk",
        "outputId": "50605d7d-4d8c-4aa8-b447-284274d2f7c7"
      },
      "source": [
        "pip install -q wandb"
      ],
      "id": "NohCuaUT8Oxk",
      "execution_count": 1,
      "outputs": [
        {
          "output_type": "stream",
          "text": [
            "\u001b[K     |████████████████████████████████| 2.1MB 6.1MB/s \n",
            "\u001b[K     |████████████████████████████████| 163kB 18.8MB/s \n",
            "\u001b[K     |████████████████████████████████| 133kB 11.9MB/s \n",
            "\u001b[K     |████████████████████████████████| 102kB 10.6MB/s \n",
            "\u001b[K     |████████████████████████████████| 71kB 9.1MB/s \n",
            "\u001b[?25h  Building wheel for pathtools (setup.py) ... \u001b[?25l\u001b[?25hdone\n",
            "  Building wheel for subprocess32 (setup.py) ... \u001b[?25l\u001b[?25hdone\n"
          ],
          "name": "stdout"
        }
      ]
    },
    {
      "cell_type": "code",
      "metadata": {
        "id": "d5359e9b"
      },
      "source": [
        "import numpy as np\n",
        "import json\n",
        "import glob\n",
        "\n",
        "import tensorflow as tf\n",
        "ks = tf.keras\n",
        "\n",
        "import wandb\n",
        "from wandb.keras import WandbCallback as WandbCallback"
      ],
      "id": "d5359e9b",
      "execution_count": 2,
      "outputs": []
    },
    {
      "cell_type": "code",
      "metadata": {
        "colab": {
          "base_uri": "https://localhost:8080/"
        },
        "id": "Uq_7RsEiDVXk",
        "outputId": "5e68e439-df20-4a27-d936-7d87eddef177"
      },
      "source": [
        "from google.colab import drive\n",
        "drive.mount('/content/drive')"
      ],
      "id": "Uq_7RsEiDVXk",
      "execution_count": 3,
      "outputs": [
        {
          "output_type": "stream",
          "text": [
            "Mounted at /content/drive\n"
          ],
          "name": "stdout"
        }
      ]
    },
    {
      "cell_type": "markdown",
      "metadata": {
        "id": "95690829"
      },
      "source": [
        "# Reading iNaturalist Data"
      ],
      "id": "95690829"
    },
    {
      "cell_type": "code",
      "metadata": {
        "colab": {
          "base_uri": "https://localhost:8080/"
        },
        "id": "47caa1e2",
        "outputId": "5f1c22da-33c2-4a63-d9da-a9e97ed5c7fd"
      },
      "source": [
        "path_train = \"/content/drive/MyDrive/Sem 8/DL/inaturalist_12K/train\"\n",
        "path_test  = \"/content/drive/MyDrive/Sem 8/DL/inaturalist_12K/val\"\n",
        "\n",
        "batch_size = 32\n",
        "img_size = (800, 800)\n",
        "img_shape = img_size + (3,)\n",
        "\n",
        "train_ds = ks.preprocessing.image_dataset_from_directory(path_train,\n",
        "                                                         label_mode='categorical',\n",
        "                                                         validation_split = 0.1,\n",
        "                                                         subset=\"training\",\n",
        "                                                         seed=123,\n",
        "                                                         image_size=img_size,\n",
        "                                                         batch_size=batch_size)\n",
        "\n",
        "val_ds = ks.preprocessing.image_dataset_from_directory(path_train,\n",
        "                                                       label_mode='categorical',\n",
        "                                                       validation_split = 0.1,\n",
        "                                                       subset=\"validation\",\n",
        "                                                       seed=123,\n",
        "                                                       image_size=img_size,\n",
        "                                                       batch_size=batch_size)\n",
        "\n",
        "test_ds = ks.preprocessing.image_dataset_from_directory(path_test,\n",
        "                                                        label_mode='categorical',\n",
        "                                                        image_size=img_size,\n",
        "                                                        batch_size=batch_size)\n",
        "\n",
        "class_names = train_ds.class_names\n",
        "num_classes = len(class_names)\n",
        "\n",
        "AUTOTUNE = tf.data.AUTOTUNE\n",
        "train_ds = train_ds.prefetch(buffer_size = tf.data.AUTOTUNE)\n",
        "val_ds   = val_ds.prefetch(buffer_size = tf.data.AUTOTUNE)\n",
        "test_ds  = test_ds.prefetch(buffer_size = tf.data.AUTOTUNE)"
      ],
      "id": "47caa1e2",
      "execution_count": 4,
      "outputs": [
        {
          "output_type": "stream",
          "text": [
            "Found 10026 files belonging to 10 classes.\n",
            "Using 9024 files for training.\n",
            "Found 10026 files belonging to 10 classes.\n",
            "Using 1002 files for validation.\n",
            "Found 2000 files belonging to 10 classes.\n"
          ],
          "name": "stdout"
        }
      ]
    },
    {
      "cell_type": "code",
      "metadata": {
        "colab": {
          "base_uri": "https://localhost:8080/"
        },
        "id": "OKU0xWJ_KiKj",
        "outputId": "d59c360c-cbf7-473d-bad1-0b401222b762"
      },
      "source": [
        "AUTOTUNE"
      ],
      "id": "OKU0xWJ_KiKj",
      "execution_count": 5,
      "outputs": [
        {
          "output_type": "execute_result",
          "data": {
            "text/plain": [
              "-1"
            ]
          },
          "metadata": {
            "tags": []
          },
          "execution_count": 5
        }
      ]
    },
    {
      "cell_type": "markdown",
      "metadata": {
        "id": "6a108c39"
      },
      "source": [
        "# Functions"
      ],
      "id": "6a108c39"
    },
    {
      "cell_type": "code",
      "metadata": {
        "id": "1a38c782"
      },
      "source": [
        "def finetune_model(hyp):\n",
        "    \n",
        "    # 1.\n",
        "    model_to_use = hyp[\"model\"]\n",
        "    \n",
        "    # 1.1. The function to get the model\n",
        "    exec(\"ks_app_CNN_exec = ks.applications.\" + model_to_use[0])\n",
        "    ks_app_CNN = locals()[\"ks_app_CNN_exec\"]\n",
        "    \n",
        "    # 1.2. Supporting class for the model\n",
        "    exec(\"ks_app_cnn_exec = ks.applications.\" + model_to_use[1])\n",
        "    ks_app_cnn = locals()[\"ks_app_cnn_exec\"]\n",
        "    \n",
        "    # 2.\n",
        "    eta = hyp[\"eta\"]\n",
        "    epochs = hyp[\"epochs\"]\n",
        "    dropout = hyp[\"dropout\"]\n",
        "    num_unfrozen = hyp[\"num_unfrozen\"]\n",
        "    \n",
        "    # 3.\n",
        "    if hyp[\"include_top\"]:\n",
        "        # Creating the cnn\n",
        "        cnn_model = ks_app_CNN(include_top=True,\n",
        "                               weights='imagenet')\n",
        "        img_width = cnn_model.layers[0].input_shape[0][1]\n",
        "        \n",
        "        # Defining data_augmentation function\n",
        "        data_aug = ks.Sequential([\n",
        "            ks.layers.experimental.preprocessing.RandomFlip('horizontal'),\n",
        "            ks.layers.experimental.preprocessing.RandomRotation(0.2),\n",
        "            ks.layers.experimental.preprocessing.Resizing(img_width, img_width, interpolation='bilinear')\n",
        "        ])\n",
        "    else:\n",
        "        # Defining data_augmentation function\n",
        "        data_aug = ks.Sequential([\n",
        "            ks.layers.experimental.preprocessing.RandomFlip('horizontal'),\n",
        "            ks.layers.experimental.preprocessing.RandomRotation(0.2)\n",
        "        ])\n",
        "        \n",
        "        # Creating the cnn\n",
        "        cnn_model = ks_app_CNN(input_shape=img_shape,\n",
        "                               include_top=False,\n",
        "                               weights='imagenet',\n",
        "                               pooling='avg')\n",
        "    \n",
        "    # 4. Creating model with all layers in cnn frozen and fitting train data\n",
        "    cnn_model.trainable = False\n",
        "\n",
        "    # 4.1. Creating the model\n",
        "    inputs = ks.Input(shape=img_shape)\n",
        "    outputs = data_aug(inputs)\n",
        "    outputs = ks_app_cnn.preprocess_input(outputs)\n",
        "    outputs = cnn_model(outputs, training=False)\n",
        "    outputs = tf.keras.layers.Dropout(dropout)(outputs)\n",
        "    outputs = ks.layers.Dense(num_classes, activation='softmax')(outputs)\n",
        "\n",
        "    model = ks.Model(inputs, outputs)\n",
        "    model.compile(optimizer=ks.optimizers.Adam(lr=eta),\n",
        "                  loss=ks.losses.categorical_crossentropy,\n",
        "                  metrics=['accuracy'])\n",
        "    \n",
        "    # 4.2. Fitting\n",
        "    if num_unfrozen == 0:\n",
        "        model.fit(train_ds,\n",
        "                  epochs = epochs,\n",
        "                  validation_data = val_ds, \n",
        "                  callbacks = [WandbCallback()])\n",
        "    else:\n",
        "        model.fit(train_ds,\n",
        "                  epochs=epochs//2,\n",
        "                  validation_data=val_ds,\n",
        "                  callbacks = [WandbCallback()])\n",
        "        \n",
        "        # 5. Unfreezing num_unfrozen layers in cnn and fitting\n",
        "        cnn_model.trainable = True\n",
        "        for layer in cnn_model.layers[:-num_unfrozen]:\n",
        "            layer.trainable = False\n",
        "\n",
        "        model.compile(optimizer=ks.optimizers.Adam(lr=eta/10),\n",
        "                      loss=ks.losses.categorical_crossentropy,\n",
        "                      metrics=['accuracy'])\n",
        "        \n",
        "        model.fit(train_ds,\n",
        "                  epochs=epochs,\n",
        "                  validation_data=val_ds,\n",
        "                  initial_epoch=epochs//2,\n",
        "                  callbacks = [WandbCallback()])\n",
        "        \n",
        "\n",
        "\n",
        "def runSweep():\n",
        "    wandb.init()\n",
        "    \n",
        "    #set the hyperparameters\n",
        "    hyp = {}\n",
        "    hyp[\"eta\"] = wandb.config.eta\n",
        "    hyp[\"epochs\"] = wandb.config.epochs\n",
        "    hyp[\"dropout\"] = wandb.config.dropout\n",
        "    hyp[\"model\"] = wandb.config.model\n",
        "    hyp[\"include_top\"] = wandb.config.include_top\n",
        "    hyp[\"num_unfrozen\"] = wandb.config.num_unfrozen\n",
        "    \n",
        "    # Finetuning run\n",
        "    finetune_model(hyp)"
      ],
      "id": "1a38c782",
      "execution_count": 6,
      "outputs": []
    },
    {
      "cell_type": "markdown",
      "metadata": {
        "id": "6ad7996f"
      },
      "source": [
        "# Sweep"
      ],
      "id": "6ad7996f"
    },
    {
      "cell_type": "code",
      "metadata": {
        "colab": {
          "base_uri": "https://localhost:8080/",
          "height": 1000,
          "referenced_widgets": [
            "21965dae9ac94355a76dab98aba9042c",
            "4a948b2b5fcf42eda710c2f5df769d66",
            "d8170c0249f24e45bb1bc5c3716de800",
            "b42f80f41253482e9687ead0dd9a84c4",
            "dcde4a53b9874a73b1ca76bc37c55ebe",
            "7946d91425ae4ea390f8fc58b360b17e",
            "aa0014cd437b46019279f8f277f82c39",
            "62197eb646694b2a87ae38c285503945",
            "4ad6ddec530344b48aab696e5ef743ac",
            "ad7374f7403949e3a9b3836d010463a1",
            "b6d1be64759946089e7098573d51750d",
            "a6ea782f318e4da7a9438895f721557c",
            "b73cf3d706c241f785dcbf5facd76957",
            "d4db27bdb9994266919bf02092f3288c",
            "9d421d034a4646c2b5c831a332cd83e2",
            "8008f699cc7b427a9e1dfb31b482c848",
            "d5d6156ca9e2451ca8effb83d2ec8594",
            "fc8b007512074dee90d43433531f4059",
            "ac8e7d2ae3b54f4494dc2e048afd9692",
            "89ee1aa10a294a84acba05bc60d52fff",
            "8ce587c899c149efa2c1459b6a05366d",
            "8a421f7554554da49b4cfcd5510a61e6",
            "d67e5a12f530427b9d8c22d84a64639e",
            "345b51e49cc24e7bb76ad81492358278",
            "50acb741a2204c6fb7149a5a55391cf0",
            "5f330f558cda4e25a875aed3118a4522",
            "2d48ed134c7242f9ad64f986b6dbd632",
            "ba56490e043c42749d97473a107f17d2",
            "b4a3c4ced55d4b5083ab2fc8f6f27588",
            "980d342a82014d5885356271c34afbd2",
            "bc7b0ba8e87a4a948ac3a2163aa018d6",
            "a753a461928b47fdb047ffb849e00b54",
            "4ab0f1fecedd47219a339f5aaa7d7f12",
            "515d295767eb4931ab0d19a0b4e4cc22",
            "34a0478668ee4a76a078f092331cc8f3",
            "f62b103043504f2bbb2eb64dfe4d05ea",
            "f6ef1485ea0f4d05b7d1edbb02d0bcac",
            "c252c2048b88499dbdbff55ad443e198",
            "5bd58f57d9304ba4aadb4c66cc1c8527",
            "318e498ecb4140ada86526ee96ae0c56",
            "2b6ca209bfb14e85aef072a4e87edd38",
            "8c605c9fb00640c68689944ce50ed373",
            "909f2f00e37846418302521ae92ad16c",
            "7e4febb8aeeb46849868139ce65fcb8c",
            "2ccbcad9d02745869e8fb8ba0c97acb5",
            "9a63c071dcad4c87afafc8dcffa2f7aa",
            "ba52e0273cd74e0bb4c804c06a1e2f22",
            "4b6c8251bec24084a539202596f37d09",
            "63bc5038412e43af9f78537db03f2985",
            "39308c383c39419383d98a1a6accdea1",
            "b699fee8b7f049b88d51a8458ffb4341",
            "183c1d26013b40fd98d6b7829ac6830e",
            "7a010eba71d04eb997222ce4cc5bb42c",
            "25a79b973a6446e8b9c519e4e444ad00",
            "635bbd51b1184ef895a77924dcbaefad",
            "89118430f87a4c5696a693bd4caf9d2f",
            "2d98d04f0e7e4b59b98f4f72fde0fb38",
            "ca746d8678ba4b74ac6f63a0fa9d3881",
            "d4eca785fad6417486ee227f3c1bd22f",
            "b4db61cdee4a4d1482af107b7858067b",
            "0e677a9e215e49978f1b630619a00af2",
            "63a47e74c1884916a6120c1f59cd9c68",
            "21999a607072420988cbfa81f2b5a506",
            "2137293c3f224d309e9857030264c665",
            "72110a11bf694caabf9cf81e31499608",
            "9401d8571ab44fcba9b24b6215da1c03",
            "129dd215b0b74dababa9eef3e4247798",
            "7b2654303fa942078bfb6f9f97dab74e",
            "fe013c5a51b248a780fd2e475d3d58be",
            "8ced77262d314c0fa94307c01da1d70c",
            "d633a52ccc3b43f3b1a1fc4a21aff4e8",
            "4f034f29872046cab570f3ff7190f201",
            "7da1ee5bca12465d88310f64b8589fee",
            "a59f8e292e754d8aad20b9ca6645255a",
            "23247d01ddc14958adb0dbbf8b464f59",
            "9e896451de2442e79bc55dbe76804eef",
            "9afd0439e7b242228ad1ee243f7f374c",
            "1aafa9771b5b4f13ad5be7e04e571f9a",
            "f5d09ac91987465c9ac12e55d8b77ac9",
            "68a1500df90747db8754b92cb7c46bb5",
            "eeacc18b46e84e5783afe99642827a7d",
            "c9c1aca28df7400bbe98791499706e79",
            "cd64732fbef14057b9841840ef4456c1",
            "7a0b292f06c24462982a8049f150c7a4",
            "4e96604fe2204fbd85fddd1288c85d1f",
            "37a453e97db44a00be8883d125b0a1e4",
            "3a5c44100d1c41aca5fd54df57bb6a88",
            "796154859cdd4aa683e55c7b01ea91f9"
          ]
        },
        "id": "72ce96a6",
        "outputId": "2bb2ade3-6e3c-4ca4-929a-65d378d65739"
      },
      "source": [
        "sweepCfg = {\n",
        "    \"name\":\"Fine Tuning Pretrained Sweep 7\", \n",
        "    \"method\": \"grid\", \n",
        "    \"parameters\":{\n",
        "        \"include_top\":{\n",
        "            \"values\":[0, 1]\n",
        "        },\n",
        "        \"num_unfrozen\":{\n",
        "            \"values\":[0, 5]\n",
        "        },\n",
        "        \"model\":{\n",
        "            \"values\":[('Xception', 'xception'),\n",
        "                    ('InceptionResNetV2', 'inception_resnet_v2'),\n",
        "                    ('ResNet50', 'resnet50'),\n",
        "                    ('InceptionV3', 'inception_v3')\n",
        "                    ]\n",
        "        },\n",
        "        \"eta\":{\n",
        "            \"values\":[1e-3]\n",
        "        },\n",
        "        \"epochs\":{\n",
        "            \"values\":[10]\n",
        "        },\n",
        "        \"dropout\":{\n",
        "            \"values\":[0.2]\n",
        "        }\n",
        "    }\n",
        "}\n",
        "\n",
        "sweepId = wandb.sweep(sweepCfg)\n",
        "wandb.agent('srijan_gupta/uncategorized/u5j52d5c', function = runSweep)"
      ],
      "id": "72ce96a6",
      "execution_count": 7,
      "outputs": [
        {
          "output_type": "display_data",
          "data": {
            "application/javascript": [
              "\n",
              "        window._wandbApiKey = new Promise((resolve, reject) => {\n",
              "            function loadScript(url) {\n",
              "            return new Promise(function(resolve, reject) {\n",
              "                let newScript = document.createElement(\"script\");\n",
              "                newScript.onerror = reject;\n",
              "                newScript.onload = resolve;\n",
              "                document.body.appendChild(newScript);\n",
              "                newScript.src = url;\n",
              "            });\n",
              "            }\n",
              "            loadScript(\"https://cdn.jsdelivr.net/npm/postmate/build/postmate.min.js\").then(() => {\n",
              "            const iframe = document.createElement('iframe')\n",
              "            iframe.style.cssText = \"width:0;height:0;border:none\"\n",
              "            document.body.appendChild(iframe)\n",
              "            const handshake = new Postmate({\n",
              "                container: iframe,\n",
              "                url: 'https://wandb.ai/authorize'\n",
              "            });\n",
              "            const timeout = setTimeout(() => reject(\"Couldn't auto authenticate\"), 5000)\n",
              "            handshake.then(function(child) {\n",
              "                child.on('authorize', data => {\n",
              "                    clearTimeout(timeout)\n",
              "                    resolve(data)\n",
              "                });\n",
              "            });\n",
              "            })\n",
              "        });\n",
              "    "
            ],
            "text/plain": [
              "<IPython.core.display.Javascript object>"
            ]
          },
          "metadata": {
            "tags": []
          }
        },
        {
          "output_type": "stream",
          "text": [
            "\u001b[34m\u001b[1mwandb\u001b[0m: Appending key for api.wandb.ai to your netrc file: /root/.netrc\n"
          ],
          "name": "stderr"
        },
        {
          "output_type": "stream",
          "text": [
            "Create sweep with ID: 9luzz8lv\n",
            "Sweep URL: https://wandb.ai/srijan_gupta/uncategorized/sweeps/9luzz8lv\n"
          ],
          "name": "stdout"
        },
        {
          "output_type": "stream",
          "text": [
            "\u001b[34m\u001b[1mwandb\u001b[0m: Agent Starting Run: oadzvi39 with config:\n",
            "\u001b[34m\u001b[1mwandb\u001b[0m: \tdropout: 0.2\n",
            "\u001b[34m\u001b[1mwandb\u001b[0m: \tepochs: 10\n",
            "\u001b[34m\u001b[1mwandb\u001b[0m: \teta: 0.001\n",
            "\u001b[34m\u001b[1mwandb\u001b[0m: \tinclude_top: 0\n",
            "\u001b[34m\u001b[1mwandb\u001b[0m: \tmodel: ['ResNet50', 'resnet50']\n",
            "\u001b[34m\u001b[1mwandb\u001b[0m: \tnum_unfrozen: 5\n",
            "\u001b[34m\u001b[1mwandb\u001b[0m: Currently logged in as: \u001b[33msrijan_gupta\u001b[0m (use `wandb login --relogin` to force relogin)\n"
          ],
          "name": "stderr"
        },
        {
          "output_type": "display_data",
          "data": {
            "text/html": [
              "\n",
              "                Tracking run with wandb version 0.10.26<br/>\n",
              "                Syncing run <strong style=\"color:#cdcd00\">generous-sweep-6</strong> to <a href=\"https://wandb.ai\" target=\"_blank\">Weights & Biases</a> <a href=\"https://docs.wandb.com/integrations/jupyter.html\" target=\"_blank\">(Documentation)</a>.<br/>\n",
              "                Project page: <a href=\"https://wandb.ai/srijan_gupta/uncategorized\" target=\"_blank\">https://wandb.ai/srijan_gupta/uncategorized</a><br/>\n",
              "                Sweep page: <a href=\"https://wandb.ai/srijan_gupta/uncategorized/sweeps/u5j52d5c\" target=\"_blank\">https://wandb.ai/srijan_gupta/uncategorized/sweeps/u5j52d5c</a><br/>\n",
              "Run page: <a href=\"https://wandb.ai/srijan_gupta/uncategorized/runs/oadzvi39\" target=\"_blank\">https://wandb.ai/srijan_gupta/uncategorized/runs/oadzvi39</a><br/>\n",
              "                Run data is saved locally in <code>/content/wandb/run-20210414_075852-oadzvi39</code><br/><br/>\n",
              "            "
            ],
            "text/plain": [
              "<IPython.core.display.HTML object>"
            ]
          },
          "metadata": {
            "tags": []
          }
        },
        {
          "output_type": "stream",
          "text": [
            "Downloading data from https://storage.googleapis.com/tensorflow/keras-applications/resnet/resnet50_weights_tf_dim_ordering_tf_kernels_notop.h5\n",
            "94773248/94765736 [==============================] - 1s 0us/step\n",
            "Epoch 1/5\n",
            "282/282 [==============================] - 2985s 10s/step - loss: 1.6300 - accuracy: 0.4445 - val_loss: 0.9007 - val_accuracy: 0.7166\n",
            "Epoch 2/5\n",
            "282/282 [==============================] - 229s 797ms/step - loss: 0.9065 - accuracy: 0.7056 - val_loss: 0.7526 - val_accuracy: 0.7675\n",
            "Epoch 3/5\n",
            "282/282 [==============================] - 222s 774ms/step - loss: 0.7903 - accuracy: 0.7444 - val_loss: 0.6907 - val_accuracy: 0.7784\n",
            "Epoch 4/5\n",
            "282/282 [==============================] - 220s 765ms/step - loss: 0.7171 - accuracy: 0.7668 - val_loss: 0.6279 - val_accuracy: 0.8044\n",
            "Epoch 5/5\n",
            "282/282 [==============================] - 220s 766ms/step - loss: 0.6814 - accuracy: 0.7765 - val_loss: 0.6310 - val_accuracy: 0.8024\n",
            "Epoch 6/10\n",
            "282/282 [==============================] - 227s 779ms/step - loss: 0.6292 - accuracy: 0.7933 - val_loss: 0.5956 - val_accuracy: 0.8024\n",
            "Epoch 7/10\n",
            "282/282 [==============================] - 223s 776ms/step - loss: 0.5632 - accuracy: 0.8144 - val_loss: 0.5555 - val_accuracy: 0.8283\n",
            "Epoch 8/10\n",
            "282/282 [==============================] - 223s 776ms/step - loss: 0.5071 - accuracy: 0.8354 - val_loss: 0.5098 - val_accuracy: 0.8473\n",
            "Epoch 9/10\n",
            "282/282 [==============================] - 223s 776ms/step - loss: 0.4835 - accuracy: 0.8464 - val_loss: 0.5180 - val_accuracy: 0.8373\n",
            "Epoch 10/10\n",
            "282/282 [==============================] - 222s 775ms/step - loss: 0.4544 - accuracy: 0.8507 - val_loss: 0.4845 - val_accuracy: 0.8543\n"
          ],
          "name": "stdout"
        },
        {
          "output_type": "display_data",
          "data": {
            "text/html": [
              "<br/>Waiting for W&B process to finish, PID 351<br/>Program ended successfully."
            ],
            "text/plain": [
              "<IPython.core.display.HTML object>"
            ]
          },
          "metadata": {
            "tags": []
          }
        },
        {
          "output_type": "display_data",
          "data": {
            "application/vnd.jupyter.widget-view+json": {
              "model_id": "21965dae9ac94355a76dab98aba9042c",
              "version_minor": 0,
              "version_major": 2
            },
            "text/plain": [
              "VBox(children=(Label(value=' 90.53MB of 90.53MB uploaded (0.00MB deduped)\\r'), FloatProgress(value=1.0, max=1.…"
            ]
          },
          "metadata": {
            "tags": []
          }
        },
        {
          "output_type": "display_data",
          "data": {
            "text/html": [
              "Find user logs for this run at: <code>/content/wandb/run-20210414_075852-oadzvi39/logs/debug.log</code>"
            ],
            "text/plain": [
              "<IPython.core.display.HTML object>"
            ]
          },
          "metadata": {
            "tags": []
          }
        },
        {
          "output_type": "display_data",
          "data": {
            "text/html": [
              "Find internal logs for this run at: <code>/content/wandb/run-20210414_075852-oadzvi39/logs/debug-internal.log</code>"
            ],
            "text/plain": [
              "<IPython.core.display.HTML object>"
            ]
          },
          "metadata": {
            "tags": []
          }
        },
        {
          "output_type": "display_data",
          "data": {
            "text/html": [
              "<h3>Run summary:</h3><br/><style>\n",
              "    table.wandb td:nth-child(1) { padding: 0 10px; text-align: right }\n",
              "    </style><table class=\"wandb\">\n",
              "<tr><td>epoch</td><td>9</td></tr><tr><td>loss</td><td>0.43997</td></tr><tr><td>accuracy</td><td>0.85273</td></tr><tr><td>val_loss</td><td>0.48445</td></tr><tr><td>val_accuracy</td><td>0.85429</td></tr><tr><td>_runtime</td><td>5003</td></tr><tr><td>_timestamp</td><td>1618392135</td></tr><tr><td>_step</td><td>9</td></tr><tr><td>best_val_loss</td><td>0.48445</td></tr><tr><td>best_epoch</td><td>9</td></tr></table>"
            ],
            "text/plain": [
              "<IPython.core.display.HTML object>"
            ]
          },
          "metadata": {
            "tags": []
          }
        },
        {
          "output_type": "display_data",
          "data": {
            "text/html": [
              "<h3>Run history:</h3><br/><style>\n",
              "    table.wandb td:nth-child(1) { padding: 0 10px; text-align: right }\n",
              "    </style><table class=\"wandb\">\n",
              "<tr><td>epoch</td><td>▁▂▃▃▄▅▆▆▇█</td></tr><tr><td>loss</td><td>█▅▄▃▃▂▂▁▁▁</td></tr><tr><td>accuracy</td><td>▁▅▅▆▆▇▇███</td></tr><tr><td>val_loss</td><td>█▆▄▃▃▃▂▁▂▁</td></tr><tr><td>val_accuracy</td><td>▁▄▄▅▅▅▇█▇█</td></tr><tr><td>_runtime</td><td>▁▂▃▃▄▅▆▆▇█</td></tr><tr><td>_timestamp</td><td>▁▂▃▃▄▅▆▆▇█</td></tr><tr><td>_step</td><td>▁▂▃▃▄▅▆▆▇█</td></tr></table><br/>"
            ],
            "text/plain": [
              "<IPython.core.display.HTML object>"
            ]
          },
          "metadata": {
            "tags": []
          }
        },
        {
          "output_type": "display_data",
          "data": {
            "text/html": [
              "Synced 5 W&B file(s), 1 media file(s), 0 artifact file(s) and 1 other file(s)"
            ],
            "text/plain": [
              "<IPython.core.display.HTML object>"
            ]
          },
          "metadata": {
            "tags": []
          }
        },
        {
          "output_type": "display_data",
          "data": {
            "text/html": [
              "\n",
              "                    <br/>Synced <strong style=\"color:#cdcd00\">generous-sweep-6</strong>: <a href=\"https://wandb.ai/srijan_gupta/uncategorized/runs/oadzvi39\" target=\"_blank\">https://wandb.ai/srijan_gupta/uncategorized/runs/oadzvi39</a><br/>\n",
              "                "
            ],
            "text/plain": [
              "<IPython.core.display.HTML object>"
            ]
          },
          "metadata": {
            "tags": []
          }
        },
        {
          "output_type": "stream",
          "text": [
            "\u001b[34m\u001b[1mwandb\u001b[0m: Agent Starting Run: ips9padx with config:\n",
            "\u001b[34m\u001b[1mwandb\u001b[0m: \tdropout: 0.2\n",
            "\u001b[34m\u001b[1mwandb\u001b[0m: \tepochs: 10\n",
            "\u001b[34m\u001b[1mwandb\u001b[0m: \teta: 0.001\n",
            "\u001b[34m\u001b[1mwandb\u001b[0m: \tinclude_top: 0\n",
            "\u001b[34m\u001b[1mwandb\u001b[0m: \tmodel: ['InceptionV3', 'inception_v3']\n",
            "\u001b[34m\u001b[1mwandb\u001b[0m: \tnum_unfrozen: 0\n"
          ],
          "name": "stderr"
        },
        {
          "output_type": "display_data",
          "data": {
            "text/html": [
              "\n",
              "                Tracking run with wandb version 0.10.26<br/>\n",
              "                Syncing run <strong style=\"color:#cdcd00\">silver-sweep-7</strong> to <a href=\"https://wandb.ai\" target=\"_blank\">Weights & Biases</a> <a href=\"https://docs.wandb.com/integrations/jupyter.html\" target=\"_blank\">(Documentation)</a>.<br/>\n",
              "                Project page: <a href=\"https://wandb.ai/srijan_gupta/uncategorized\" target=\"_blank\">https://wandb.ai/srijan_gupta/uncategorized</a><br/>\n",
              "                Sweep page: <a href=\"https://wandb.ai/srijan_gupta/uncategorized/sweeps/u5j52d5c\" target=\"_blank\">https://wandb.ai/srijan_gupta/uncategorized/sweeps/u5j52d5c</a><br/>\n",
              "Run page: <a href=\"https://wandb.ai/srijan_gupta/uncategorized/runs/ips9padx\" target=\"_blank\">https://wandb.ai/srijan_gupta/uncategorized/runs/ips9padx</a><br/>\n",
              "                Run data is saved locally in <code>/content/wandb/run-20210414_092223-ips9padx</code><br/><br/>\n",
              "            "
            ],
            "text/plain": [
              "<IPython.core.display.HTML object>"
            ]
          },
          "metadata": {
            "tags": []
          }
        },
        {
          "output_type": "stream",
          "text": [
            "Downloading data from https://storage.googleapis.com/tensorflow/keras-applications/inception_v3/inception_v3_weights_tf_dim_ordering_tf_kernels_notop.h5\n",
            "87916544/87910968 [==============================] - 1s 0us/step\n",
            "Epoch 1/10\n",
            "282/282 [==============================] - 216s 732ms/step - loss: 1.7929 - accuracy: 0.4177 - val_loss: 1.0775 - val_accuracy: 0.6956\n",
            "Epoch 2/10\n",
            "282/282 [==============================] - 209s 728ms/step - loss: 1.0794 - accuracy: 0.6768 - val_loss: 0.8777 - val_accuracy: 0.7475\n",
            "Epoch 3/10\n",
            "282/282 [==============================] - 208s 725ms/step - loss: 0.9201 - accuracy: 0.7253 - val_loss: 0.7860 - val_accuracy: 0.7794\n",
            "Epoch 4/10\n",
            "282/282 [==============================] - 209s 726ms/step - loss: 0.8516 - accuracy: 0.7393 - val_loss: 0.7452 - val_accuracy: 0.7884\n",
            "Epoch 5/10\n",
            "282/282 [==============================] - 209s 726ms/step - loss: 0.7902 - accuracy: 0.7548 - val_loss: 0.6902 - val_accuracy: 0.8064\n",
            "Epoch 6/10\n",
            "282/282 [==============================] - 208s 726ms/step - loss: 0.7453 - accuracy: 0.7681 - val_loss: 0.6742 - val_accuracy: 0.8024\n",
            "Epoch 7/10\n",
            "282/282 [==============================] - 208s 726ms/step - loss: 0.7371 - accuracy: 0.7697 - val_loss: 0.6446 - val_accuracy: 0.8164\n",
            "Epoch 8/10\n",
            "282/282 [==============================] - 209s 726ms/step - loss: 0.7214 - accuracy: 0.7697 - val_loss: 0.6350 - val_accuracy: 0.8114\n",
            "Epoch 9/10\n",
            "282/282 [==============================] - 207s 721ms/step - loss: 0.6940 - accuracy: 0.7839 - val_loss: 0.6155 - val_accuracy: 0.8194\n",
            "Epoch 10/10\n",
            "282/282 [==============================] - ETA: 0s - loss: 0.6800 - accuracy: 0.7876"
          ],
          "name": "stdout"
        },
        {
          "output_type": "display_data",
          "data": {
            "text/html": [
              "<br/>Waiting for W&B process to finish, PID 1500<br/>Program ended successfully."
            ],
            "text/plain": [
              "<IPython.core.display.HTML object>"
            ]
          },
          "metadata": {
            "tags": []
          }
        },
        {
          "output_type": "display_data",
          "data": {
            "application/vnd.jupyter.widget-view+json": {
              "model_id": "4ad6ddec530344b48aab696e5ef743ac",
              "version_minor": 0,
              "version_major": 2
            },
            "text/plain": [
              "VBox(children=(Label(value=' 83.89MB of 83.89MB uploaded (0.00MB deduped)\\r'), FloatProgress(value=1.0, max=1.…"
            ]
          },
          "metadata": {
            "tags": []
          }
        },
        {
          "output_type": "display_data",
          "data": {
            "text/html": [
              "Find user logs for this run at: <code>/content/wandb/run-20210414_092223-ips9padx/logs/debug.log</code>"
            ],
            "text/plain": [
              "<IPython.core.display.HTML object>"
            ]
          },
          "metadata": {
            "tags": []
          }
        },
        {
          "output_type": "display_data",
          "data": {
            "text/html": [
              "Find internal logs for this run at: <code>/content/wandb/run-20210414_092223-ips9padx/logs/debug-internal.log</code>"
            ],
            "text/plain": [
              "<IPython.core.display.HTML object>"
            ]
          },
          "metadata": {
            "tags": []
          }
        },
        {
          "output_type": "display_data",
          "data": {
            "text/html": [
              "<h3>Run summary:</h3><br/><style>\n",
              "    table.wandb td:nth-child(1) { padding: 0 10px; text-align: right }\n",
              "    </style><table class=\"wandb\">\n",
              "<tr><td>epoch</td><td>9</td></tr><tr><td>loss</td><td>0.67921</td></tr><tr><td>accuracy</td><td>0.78579</td></tr><tr><td>val_loss</td><td>0.58732</td></tr><tr><td>val_accuracy</td><td>0.82435</td></tr><tr><td>_runtime</td><td>2107</td></tr><tr><td>_timestamp</td><td>1618394250</td></tr><tr><td>_step</td><td>9</td></tr><tr><td>best_val_loss</td><td>0.58732</td></tr><tr><td>best_epoch</td><td>9</td></tr></table>"
            ],
            "text/plain": [
              "<IPython.core.display.HTML object>"
            ]
          },
          "metadata": {
            "tags": []
          }
        },
        {
          "output_type": "display_data",
          "data": {
            "text/html": [
              "<h3>Run history:</h3><br/><style>\n",
              "    table.wandb td:nth-child(1) { padding: 0 10px; text-align: right }\n",
              "    </style><table class=\"wandb\">\n",
              "<tr><td>epoch</td><td>▁▂▃▃▄▅▆▆▇█</td></tr><tr><td>loss</td><td>█▄▃▂▂▂▁▁▁▁</td></tr><tr><td>accuracy</td><td>▁▅▆▇▇█████</td></tr><tr><td>val_loss</td><td>█▅▄▃▂▂▂▂▁▁</td></tr><tr><td>val_accuracy</td><td>▁▄▆▆▇▇█▇██</td></tr><tr><td>_runtime</td><td>▁▂▃▃▄▅▆▆▇█</td></tr><tr><td>_timestamp</td><td>▁▂▃▃▄▅▆▆▇█</td></tr><tr><td>_step</td><td>▁▂▃▃▄▅▆▆▇█</td></tr></table><br/>"
            ],
            "text/plain": [
              "<IPython.core.display.HTML object>"
            ]
          },
          "metadata": {
            "tags": []
          }
        },
        {
          "output_type": "display_data",
          "data": {
            "text/html": [
              "Synced 5 W&B file(s), 1 media file(s), 0 artifact file(s) and 1 other file(s)"
            ],
            "text/plain": [
              "<IPython.core.display.HTML object>"
            ]
          },
          "metadata": {
            "tags": []
          }
        },
        {
          "output_type": "display_data",
          "data": {
            "text/html": [
              "\n",
              "                    <br/>Synced <strong style=\"color:#cdcd00\">silver-sweep-7</strong>: <a href=\"https://wandb.ai/srijan_gupta/uncategorized/runs/ips9padx\" target=\"_blank\">https://wandb.ai/srijan_gupta/uncategorized/runs/ips9padx</a><br/>\n",
              "                "
            ],
            "text/plain": [
              "<IPython.core.display.HTML object>"
            ]
          },
          "metadata": {
            "tags": []
          }
        },
        {
          "output_type": "stream",
          "text": [
            "\u001b[34m\u001b[1mwandb\u001b[0m: Agent Starting Run: 611fwzhd with config:\n",
            "\u001b[34m\u001b[1mwandb\u001b[0m: \tdropout: 0.2\n",
            "\u001b[34m\u001b[1mwandb\u001b[0m: \tepochs: 10\n",
            "\u001b[34m\u001b[1mwandb\u001b[0m: \teta: 0.001\n",
            "\u001b[34m\u001b[1mwandb\u001b[0m: \tinclude_top: 0\n",
            "\u001b[34m\u001b[1mwandb\u001b[0m: \tmodel: ['InceptionV3', 'inception_v3']\n",
            "\u001b[34m\u001b[1mwandb\u001b[0m: \tnum_unfrozen: 5\n"
          ],
          "name": "stderr"
        },
        {
          "output_type": "display_data",
          "data": {
            "text/html": [
              "\n",
              "                Tracking run with wandb version 0.10.26<br/>\n",
              "                Syncing run <strong style=\"color:#cdcd00\">mild-sweep-8</strong> to <a href=\"https://wandb.ai\" target=\"_blank\">Weights & Biases</a> <a href=\"https://docs.wandb.com/integrations/jupyter.html\" target=\"_blank\">(Documentation)</a>.<br/>\n",
              "                Project page: <a href=\"https://wandb.ai/srijan_gupta/uncategorized\" target=\"_blank\">https://wandb.ai/srijan_gupta/uncategorized</a><br/>\n",
              "                Sweep page: <a href=\"https://wandb.ai/srijan_gupta/uncategorized/sweeps/u5j52d5c\" target=\"_blank\">https://wandb.ai/srijan_gupta/uncategorized/sweeps/u5j52d5c</a><br/>\n",
              "Run page: <a href=\"https://wandb.ai/srijan_gupta/uncategorized/runs/611fwzhd\" target=\"_blank\">https://wandb.ai/srijan_gupta/uncategorized/runs/611fwzhd</a><br/>\n",
              "                Run data is saved locally in <code>/content/wandb/run-20210414_095740-611fwzhd</code><br/><br/>\n",
              "            "
            ],
            "text/plain": [
              "<IPython.core.display.HTML object>"
            ]
          },
          "metadata": {
            "tags": []
          }
        },
        {
          "output_type": "stream",
          "text": [
            "Epoch 1/5\n",
            "282/282 [==============================] - 213s 727ms/step - loss: 1.7631 - accuracy: 0.4318 - val_loss: 1.0678 - val_accuracy: 0.6996\n",
            "Epoch 2/5\n",
            "282/282 [==============================] - 208s 725ms/step - loss: 1.0765 - accuracy: 0.6801 - val_loss: 0.8999 - val_accuracy: 0.7415\n",
            "Epoch 3/5\n",
            "282/282 [==============================] - 208s 725ms/step - loss: 0.9236 - accuracy: 0.7236 - val_loss: 0.7931 - val_accuracy: 0.7695\n",
            "Epoch 4/5\n",
            "282/282 [==============================] - 208s 723ms/step - loss: 0.8519 - accuracy: 0.7378 - val_loss: 0.7278 - val_accuracy: 0.7914\n",
            "Epoch 5/5\n",
            "282/282 [==============================] - 208s 724ms/step - loss: 0.7981 - accuracy: 0.7565 - val_loss: 0.7043 - val_accuracy: 0.7904\n",
            "Epoch 6/10\n",
            "282/282 [==============================] - 213s 727ms/step - loss: 0.7553 - accuracy: 0.7656 - val_loss: 0.6791 - val_accuracy: 0.8034\n",
            "Epoch 7/10\n",
            "282/282 [==============================] - 208s 723ms/step - loss: 0.7346 - accuracy: 0.7806 - val_loss: 0.6762 - val_accuracy: 0.8004\n",
            "Epoch 8/10\n",
            "282/282 [==============================] - 208s 725ms/step - loss: 0.7334 - accuracy: 0.7739 - val_loss: 0.6711 - val_accuracy: 0.8064\n",
            "Epoch 9/10\n",
            "282/282 [==============================] - 208s 726ms/step - loss: 0.7267 - accuracy: 0.7774 - val_loss: 0.6683 - val_accuracy: 0.8074\n",
            "Epoch 10/10\n",
            "282/282 [==============================] - 208s 725ms/step - loss: 0.7272 - accuracy: 0.7761 - val_loss: 0.6660 - val_accuracy: 0.8104\n"
          ],
          "name": "stdout"
        },
        {
          "output_type": "display_data",
          "data": {
            "text/html": [
              "<br/>Waiting for W&B process to finish, PID 2049<br/>Program ended successfully."
            ],
            "text/plain": [
              "<IPython.core.display.HTML object>"
            ]
          },
          "metadata": {
            "tags": []
          }
        },
        {
          "output_type": "display_data",
          "data": {
            "application/vnd.jupyter.widget-view+json": {
              "model_id": "d5d6156ca9e2451ca8effb83d2ec8594",
              "version_minor": 0,
              "version_major": 2
            },
            "text/plain": [
              "VBox(children=(Label(value=' 83.89MB of 83.89MB uploaded (0.00MB deduped)\\r'), FloatProgress(value=1.0, max=1.…"
            ]
          },
          "metadata": {
            "tags": []
          }
        },
        {
          "output_type": "display_data",
          "data": {
            "text/html": [
              "Find user logs for this run at: <code>/content/wandb/run-20210414_095740-611fwzhd/logs/debug.log</code>"
            ],
            "text/plain": [
              "<IPython.core.display.HTML object>"
            ]
          },
          "metadata": {
            "tags": []
          }
        },
        {
          "output_type": "display_data",
          "data": {
            "text/html": [
              "Find internal logs for this run at: <code>/content/wandb/run-20210414_095740-611fwzhd/logs/debug-internal.log</code>"
            ],
            "text/plain": [
              "<IPython.core.display.HTML object>"
            ]
          },
          "metadata": {
            "tags": []
          }
        },
        {
          "output_type": "display_data",
          "data": {
            "text/html": [
              "<h3>Run summary:</h3><br/><style>\n",
              "    table.wandb td:nth-child(1) { padding: 0 10px; text-align: right }\n",
              "    </style><table class=\"wandb\">\n",
              "<tr><td>epoch</td><td>9</td></tr><tr><td>loss</td><td>0.72152</td></tr><tr><td>accuracy</td><td>0.77881</td></tr><tr><td>val_loss</td><td>0.666</td></tr><tr><td>val_accuracy</td><td>0.81038</td></tr><tr><td>_runtime</td><td>2104</td></tr><tr><td>_timestamp</td><td>1618396364</td></tr><tr><td>_step</td><td>9</td></tr><tr><td>best_val_loss</td><td>0.666</td></tr><tr><td>best_epoch</td><td>9</td></tr></table>"
            ],
            "text/plain": [
              "<IPython.core.display.HTML object>"
            ]
          },
          "metadata": {
            "tags": []
          }
        },
        {
          "output_type": "display_data",
          "data": {
            "text/html": [
              "<h3>Run history:</h3><br/><style>\n",
              "    table.wandb td:nth-child(1) { padding: 0 10px; text-align: right }\n",
              "    </style><table class=\"wandb\">\n",
              "<tr><td>epoch</td><td>▁▂▃▃▄▅▆▆▇█</td></tr><tr><td>loss</td><td>█▄▃▂▂▁▁▁▁▁</td></tr><tr><td>accuracy</td><td>▁▅▆▇▇█████</td></tr><tr><td>val_loss</td><td>█▅▃▂▂▁▁▁▁▁</td></tr><tr><td>val_accuracy</td><td>▁▄▅▇▇█▇███</td></tr><tr><td>_runtime</td><td>▁▂▃▃▄▅▆▆▇█</td></tr><tr><td>_timestamp</td><td>▁▂▃▃▄▅▆▆▇█</td></tr><tr><td>_step</td><td>▁▂▃▃▄▅▆▆▇█</td></tr></table><br/>"
            ],
            "text/plain": [
              "<IPython.core.display.HTML object>"
            ]
          },
          "metadata": {
            "tags": []
          }
        },
        {
          "output_type": "display_data",
          "data": {
            "text/html": [
              "Synced 5 W&B file(s), 1 media file(s), 0 artifact file(s) and 1 other file(s)"
            ],
            "text/plain": [
              "<IPython.core.display.HTML object>"
            ]
          },
          "metadata": {
            "tags": []
          }
        },
        {
          "output_type": "display_data",
          "data": {
            "text/html": [
              "\n",
              "                    <br/>Synced <strong style=\"color:#cdcd00\">mild-sweep-8</strong>: <a href=\"https://wandb.ai/srijan_gupta/uncategorized/runs/611fwzhd\" target=\"_blank\">https://wandb.ai/srijan_gupta/uncategorized/runs/611fwzhd</a><br/>\n",
              "                "
            ],
            "text/plain": [
              "<IPython.core.display.HTML object>"
            ]
          },
          "metadata": {
            "tags": []
          }
        },
        {
          "output_type": "stream",
          "text": [
            "\u001b[34m\u001b[1mwandb\u001b[0m: Agent Starting Run: 5hq6an07 with config:\n",
            "\u001b[34m\u001b[1mwandb\u001b[0m: \tdropout: 0.2\n",
            "\u001b[34m\u001b[1mwandb\u001b[0m: \tepochs: 10\n",
            "\u001b[34m\u001b[1mwandb\u001b[0m: \teta: 0.001\n",
            "\u001b[34m\u001b[1mwandb\u001b[0m: \tinclude_top: 1\n",
            "\u001b[34m\u001b[1mwandb\u001b[0m: \tmodel: ['Xception', 'xception']\n",
            "\u001b[34m\u001b[1mwandb\u001b[0m: \tnum_unfrozen: 0\n"
          ],
          "name": "stderr"
        },
        {
          "output_type": "display_data",
          "data": {
            "text/html": [
              "\n",
              "                Tracking run with wandb version 0.10.26<br/>\n",
              "                Syncing run <strong style=\"color:#cdcd00\">sandy-sweep-9</strong> to <a href=\"https://wandb.ai\" target=\"_blank\">Weights & Biases</a> <a href=\"https://docs.wandb.com/integrations/jupyter.html\" target=\"_blank\">(Documentation)</a>.<br/>\n",
              "                Project page: <a href=\"https://wandb.ai/srijan_gupta/uncategorized\" target=\"_blank\">https://wandb.ai/srijan_gupta/uncategorized</a><br/>\n",
              "                Sweep page: <a href=\"https://wandb.ai/srijan_gupta/uncategorized/sweeps/u5j52d5c\" target=\"_blank\">https://wandb.ai/srijan_gupta/uncategorized/sweeps/u5j52d5c</a><br/>\n",
              "Run page: <a href=\"https://wandb.ai/srijan_gupta/uncategorized/runs/5hq6an07\" target=\"_blank\">https://wandb.ai/srijan_gupta/uncategorized/runs/5hq6an07</a><br/>\n",
              "                Run data is saved locally in <code>/content/wandb/run-20210414_103251-5hq6an07</code><br/><br/>\n",
              "            "
            ],
            "text/plain": [
              "<IPython.core.display.HTML object>"
            ]
          },
          "metadata": {
            "tags": []
          }
        },
        {
          "output_type": "stream",
          "text": [
            "Downloading data from https://storage.googleapis.com/tensorflow/keras-applications/xception/xception_weights_tf_dim_ordering_tf_kernels.h5\n",
            "91889664/91884032 [==============================] - 1s 0us/step\n",
            "Epoch 1/10\n",
            "282/282 [==============================] - 190s 648ms/step - loss: 2.2737 - accuracy: 0.3526 - val_loss: 2.1756 - val_accuracy: 0.7645\n",
            "Epoch 2/10\n",
            "282/282 [==============================] - 183s 638ms/step - loss: 2.1578 - accuracy: 0.7079 - val_loss: 2.0563 - val_accuracy: 0.7864\n",
            "Epoch 3/10\n",
            "282/282 [==============================] - 183s 637ms/step - loss: 2.0498 - accuracy: 0.7135 - val_loss: 1.9444 - val_accuracy: 0.7944\n",
            "Epoch 4/10\n",
            "282/282 [==============================] - 183s 636ms/step - loss: 1.9437 - accuracy: 0.7247 - val_loss: 1.8387 - val_accuracy: 0.7964\n",
            "Epoch 5/10\n",
            "282/282 [==============================] - 183s 635ms/step - loss: 1.8549 - accuracy: 0.7279 - val_loss: 1.7402 - val_accuracy: 0.8024\n",
            "Epoch 6/10\n",
            "282/282 [==============================] - 183s 636ms/step - loss: 1.7699 - accuracy: 0.7262 - val_loss: 1.6493 - val_accuracy: 0.7994\n",
            "Epoch 7/10\n",
            "282/282 [==============================] - 183s 637ms/step - loss: 1.6981 - accuracy: 0.7206 - val_loss: 1.5648 - val_accuracy: 0.7984\n",
            "Epoch 8/10\n",
            "282/282 [==============================] - 182s 634ms/step - loss: 1.6123 - accuracy: 0.7155 - val_loss: 1.4874 - val_accuracy: 0.7954\n",
            "Epoch 9/10\n",
            "282/282 [==============================] - 183s 636ms/step - loss: 1.5532 - accuracy: 0.7160 - val_loss: 1.4164 - val_accuracy: 0.7914\n",
            "Epoch 10/10\n",
            "282/282 [==============================] - 181s 628ms/step - loss: 1.5073 - accuracy: 0.7112 - val_loss: 1.3521 - val_accuracy: 0.7884\n"
          ],
          "name": "stdout"
        },
        {
          "output_type": "display_data",
          "data": {
            "text/html": [
              "<br/>Waiting for W&B process to finish, PID 2549<br/>Program ended successfully."
            ],
            "text/plain": [
              "<IPython.core.display.HTML object>"
            ]
          },
          "metadata": {
            "tags": []
          }
        },
        {
          "output_type": "display_data",
          "data": {
            "application/vnd.jupyter.widget-view+json": {
              "model_id": "50acb741a2204c6fb7149a5a55391cf0",
              "version_minor": 0,
              "version_major": 2
            },
            "text/plain": [
              "VBox(children=(Label(value=' 87.77MB of 87.77MB uploaded (0.00MB deduped)\\r'), FloatProgress(value=1.0, max=1.…"
            ]
          },
          "metadata": {
            "tags": []
          }
        },
        {
          "output_type": "display_data",
          "data": {
            "text/html": [
              "Find user logs for this run at: <code>/content/wandb/run-20210414_103251-5hq6an07/logs/debug.log</code>"
            ],
            "text/plain": [
              "<IPython.core.display.HTML object>"
            ]
          },
          "metadata": {
            "tags": []
          }
        },
        {
          "output_type": "display_data",
          "data": {
            "text/html": [
              "Find internal logs for this run at: <code>/content/wandb/run-20210414_103251-5hq6an07/logs/debug-internal.log</code>"
            ],
            "text/plain": [
              "<IPython.core.display.HTML object>"
            ]
          },
          "metadata": {
            "tags": []
          }
        },
        {
          "output_type": "display_data",
          "data": {
            "text/html": [
              "<h3>Run summary:</h3><br/><style>\n",
              "    table.wandb td:nth-child(1) { padding: 0 10px; text-align: right }\n",
              "    </style><table class=\"wandb\">\n",
              "<tr><td>epoch</td><td>9</td></tr><tr><td>loss</td><td>1.48388</td></tr><tr><td>accuracy</td><td>0.71531</td></tr><tr><td>val_loss</td><td>1.3521</td></tr><tr><td>val_accuracy</td><td>0.78842</td></tr><tr><td>_runtime</td><td>1843</td></tr><tr><td>_timestamp</td><td>1618398214</td></tr><tr><td>_step</td><td>9</td></tr><tr><td>best_val_loss</td><td>1.3521</td></tr><tr><td>best_epoch</td><td>9</td></tr></table>"
            ],
            "text/plain": [
              "<IPython.core.display.HTML object>"
            ]
          },
          "metadata": {
            "tags": []
          }
        },
        {
          "output_type": "display_data",
          "data": {
            "text/html": [
              "<h3>Run history:</h3><br/><style>\n",
              "    table.wandb td:nth-child(1) { padding: 0 10px; text-align: right }\n",
              "    </style><table class=\"wandb\">\n",
              "<tr><td>epoch</td><td>▁▂▃▃▄▅▆▆▇█</td></tr><tr><td>loss</td><td>█▇▆▅▄▃▃▂▁▁</td></tr><tr><td>accuracy</td><td>▁▇█████▇██</td></tr><tr><td>val_loss</td><td>█▇▆▅▄▄▃▂▂▁</td></tr><tr><td>val_accuracy</td><td>▁▅▇▇█▇▇▇▆▅</td></tr><tr><td>_runtime</td><td>▁▂▃▃▄▅▆▆▇█</td></tr><tr><td>_timestamp</td><td>▁▂▃▃▄▅▆▆▇█</td></tr><tr><td>_step</td><td>▁▂▃▃▄▅▆▆▇█</td></tr></table><br/>"
            ],
            "text/plain": [
              "<IPython.core.display.HTML object>"
            ]
          },
          "metadata": {
            "tags": []
          }
        },
        {
          "output_type": "display_data",
          "data": {
            "text/html": [
              "Synced 5 W&B file(s), 1 media file(s), 0 artifact file(s) and 1 other file(s)"
            ],
            "text/plain": [
              "<IPython.core.display.HTML object>"
            ]
          },
          "metadata": {
            "tags": []
          }
        },
        {
          "output_type": "display_data",
          "data": {
            "text/html": [
              "\n",
              "                    <br/>Synced <strong style=\"color:#cdcd00\">sandy-sweep-9</strong>: <a href=\"https://wandb.ai/srijan_gupta/uncategorized/runs/5hq6an07\" target=\"_blank\">https://wandb.ai/srijan_gupta/uncategorized/runs/5hq6an07</a><br/>\n",
              "                "
            ],
            "text/plain": [
              "<IPython.core.display.HTML object>"
            ]
          },
          "metadata": {
            "tags": []
          }
        },
        {
          "output_type": "stream",
          "text": [
            "\u001b[34m\u001b[1mwandb\u001b[0m: Agent Starting Run: lwcnaxix with config:\n",
            "\u001b[34m\u001b[1mwandb\u001b[0m: \tdropout: 0.2\n",
            "\u001b[34m\u001b[1mwandb\u001b[0m: \tepochs: 10\n",
            "\u001b[34m\u001b[1mwandb\u001b[0m: \teta: 0.001\n",
            "\u001b[34m\u001b[1mwandb\u001b[0m: \tinclude_top: 1\n",
            "\u001b[34m\u001b[1mwandb\u001b[0m: \tmodel: ['Xception', 'xception']\n",
            "\u001b[34m\u001b[1mwandb\u001b[0m: \tnum_unfrozen: 5\n"
          ],
          "name": "stderr"
        },
        {
          "output_type": "display_data",
          "data": {
            "text/html": [
              "\n",
              "                Tracking run with wandb version 0.10.26<br/>\n",
              "                Syncing run <strong style=\"color:#cdcd00\">pleasant-sweep-10</strong> to <a href=\"https://wandb.ai\" target=\"_blank\">Weights & Biases</a> <a href=\"https://docs.wandb.com/integrations/jupyter.html\" target=\"_blank\">(Documentation)</a>.<br/>\n",
              "                Project page: <a href=\"https://wandb.ai/srijan_gupta/uncategorized\" target=\"_blank\">https://wandb.ai/srijan_gupta/uncategorized</a><br/>\n",
              "                Sweep page: <a href=\"https://wandb.ai/srijan_gupta/uncategorized/sweeps/u5j52d5c\" target=\"_blank\">https://wandb.ai/srijan_gupta/uncategorized/sweeps/u5j52d5c</a><br/>\n",
              "Run page: <a href=\"https://wandb.ai/srijan_gupta/uncategorized/runs/lwcnaxix\" target=\"_blank\">https://wandb.ai/srijan_gupta/uncategorized/runs/lwcnaxix</a><br/>\n",
              "                Run data is saved locally in <code>/content/wandb/run-20210414_110343-lwcnaxix</code><br/><br/>\n",
              "            "
            ],
            "text/plain": [
              "<IPython.core.display.HTML object>"
            ]
          },
          "metadata": {
            "tags": []
          }
        },
        {
          "output_type": "stream",
          "text": [
            "Epoch 1/5\n",
            "282/282 [==============================] - 191s 654ms/step - loss: 2.2720 - accuracy: 0.3587 - val_loss: 2.1730 - val_accuracy: 0.7834\n",
            "Epoch 2/5\n",
            "282/282 [==============================] - 185s 644ms/step - loss: 2.1571 - accuracy: 0.6894 - val_loss: 2.0542 - val_accuracy: 0.8024\n",
            "Epoch 3/5\n",
            "282/282 [==============================] - 186s 646ms/step - loss: 2.0484 - accuracy: 0.7248 - val_loss: 1.9417 - val_accuracy: 0.8074\n",
            "Epoch 4/5\n",
            "282/282 [==============================] - 186s 645ms/step - loss: 1.9476 - accuracy: 0.7245 - val_loss: 1.8358 - val_accuracy: 0.8034\n",
            "Epoch 5/5\n",
            "282/282 [==============================] - 185s 642ms/step - loss: 1.8595 - accuracy: 0.7199 - val_loss: 1.7379 - val_accuracy: 0.7994\n",
            "Epoch 6/10\n",
            "282/282 [==============================] - 189s 647ms/step - loss: 1.6474 - accuracy: 0.7129 - val_loss: 1.5043 - val_accuracy: 0.8114\n",
            "Epoch 7/10\n",
            "282/282 [==============================] - 185s 643ms/step - loss: 1.5416 - accuracy: 0.6952 - val_loss: 1.4316 - val_accuracy: 0.8174\n",
            "Epoch 8/10\n",
            "282/282 [==============================] - 185s 644ms/step - loss: 1.4878 - accuracy: 0.6992 - val_loss: 1.3851 - val_accuracy: 0.8333\n",
            "Epoch 9/10\n",
            "282/282 [==============================] - 184s 642ms/step - loss: 1.4510 - accuracy: 0.6969 - val_loss: 1.3573 - val_accuracy: 0.8313\n",
            "Epoch 10/10\n",
            "282/282 [==============================] - 185s 641ms/step - loss: 1.4098 - accuracy: 0.7127 - val_loss: 1.3362 - val_accuracy: 0.8214\n"
          ],
          "name": "stdout"
        },
        {
          "output_type": "display_data",
          "data": {
            "text/html": [
              "<br/>Waiting for W&B process to finish, PID 3045<br/>Program ended successfully."
            ],
            "text/plain": [
              "<IPython.core.display.HTML object>"
            ]
          },
          "metadata": {
            "tags": []
          }
        },
        {
          "output_type": "display_data",
          "data": {
            "application/vnd.jupyter.widget-view+json": {
              "model_id": "4ab0f1fecedd47219a339f5aaa7d7f12",
              "version_minor": 0,
              "version_major": 2
            },
            "text/plain": [
              "VBox(children=(Label(value=' 127.55MB of 127.55MB uploaded (0.00MB deduped)\\r'), FloatProgress(value=1.0, max=…"
            ]
          },
          "metadata": {
            "tags": []
          }
        },
        {
          "output_type": "display_data",
          "data": {
            "text/html": [
              "Find user logs for this run at: <code>/content/wandb/run-20210414_110343-lwcnaxix/logs/debug.log</code>"
            ],
            "text/plain": [
              "<IPython.core.display.HTML object>"
            ]
          },
          "metadata": {
            "tags": []
          }
        },
        {
          "output_type": "display_data",
          "data": {
            "text/html": [
              "Find internal logs for this run at: <code>/content/wandb/run-20210414_110343-lwcnaxix/logs/debug-internal.log</code>"
            ],
            "text/plain": [
              "<IPython.core.display.HTML object>"
            ]
          },
          "metadata": {
            "tags": []
          }
        },
        {
          "output_type": "display_data",
          "data": {
            "text/html": [
              "<h3>Run summary:</h3><br/><style>\n",
              "    table.wandb td:nth-child(1) { padding: 0 10px; text-align: right }\n",
              "    </style><table class=\"wandb\">\n",
              "<tr><td>epoch</td><td>9</td></tr><tr><td>loss</td><td>1.39738</td></tr><tr><td>accuracy</td><td>0.71509</td></tr><tr><td>val_loss</td><td>1.33621</td></tr><tr><td>val_accuracy</td><td>0.82136</td></tr><tr><td>_runtime</td><td>1873</td></tr><tr><td>_timestamp</td><td>1618400096</td></tr><tr><td>_step</td><td>9</td></tr><tr><td>best_val_loss</td><td>1.33621</td></tr><tr><td>best_epoch</td><td>9</td></tr></table>"
            ],
            "text/plain": [
              "<IPython.core.display.HTML object>"
            ]
          },
          "metadata": {
            "tags": []
          }
        },
        {
          "output_type": "display_data",
          "data": {
            "text/html": [
              "<h3>Run history:</h3><br/><style>\n",
              "    table.wandb td:nth-child(1) { padding: 0 10px; text-align: right }\n",
              "    </style><table class=\"wandb\">\n",
              "<tr><td>epoch</td><td>▁▂▃▃▄▅▆▆▇█</td></tr><tr><td>loss</td><td>█▇▆▅▅▃▂▂▁▁</td></tr><tr><td>accuracy</td><td>▁▇███▇▇▇▇█</td></tr><tr><td>val_loss</td><td>█▇▆▅▄▂▂▁▁▁</td></tr><tr><td>val_accuracy</td><td>▁▄▄▄▃▅▆██▆</td></tr><tr><td>_runtime</td><td>▁▂▃▃▄▅▆▆▇█</td></tr><tr><td>_timestamp</td><td>▁▂▃▃▄▅▆▆▇█</td></tr><tr><td>_step</td><td>▁▂▃▃▄▅▆▆▇█</td></tr></table><br/>"
            ],
            "text/plain": [
              "<IPython.core.display.HTML object>"
            ]
          },
          "metadata": {
            "tags": []
          }
        },
        {
          "output_type": "display_data",
          "data": {
            "text/html": [
              "Synced 5 W&B file(s), 1 media file(s), 0 artifact file(s) and 1 other file(s)"
            ],
            "text/plain": [
              "<IPython.core.display.HTML object>"
            ]
          },
          "metadata": {
            "tags": []
          }
        },
        {
          "output_type": "display_data",
          "data": {
            "text/html": [
              "\n",
              "                    <br/>Synced <strong style=\"color:#cdcd00\">pleasant-sweep-10</strong>: <a href=\"https://wandb.ai/srijan_gupta/uncategorized/runs/lwcnaxix\" target=\"_blank\">https://wandb.ai/srijan_gupta/uncategorized/runs/lwcnaxix</a><br/>\n",
              "                "
            ],
            "text/plain": [
              "<IPython.core.display.HTML object>"
            ]
          },
          "metadata": {
            "tags": []
          }
        },
        {
          "output_type": "stream",
          "text": [
            "\u001b[34m\u001b[1mwandb\u001b[0m: Sweep Agent: Waiting for job.\n",
            "500 response executing GraphQL.\n",
            "{\"errors\":[{\"message\":\"Post \\\"http://anaconda.default.svc.cluster.local/search\\\": context deadline exceeded\",\"path\":[\"agentHeartbeat\"]}],\"data\":{\"agentHeartbeat\":null}}\n",
            "\u001b[34m\u001b[1mwandb\u001b[0m: \u001b[32m\u001b[41mERROR\u001b[0m Error while calling W&B API: Post \"http://anaconda.default.svc.cluster.local/search\": context deadline exceeded (<Response [500]>)\n",
            "\u001b[34m\u001b[1mwandb\u001b[0m: Job received.\n",
            "\u001b[34m\u001b[1mwandb\u001b[0m: Agent Starting Run: cknlo3ke with config:\n",
            "\u001b[34m\u001b[1mwandb\u001b[0m: \tdropout: 0.2\n",
            "\u001b[34m\u001b[1mwandb\u001b[0m: \tepochs: 10\n",
            "\u001b[34m\u001b[1mwandb\u001b[0m: \teta: 0.001\n",
            "\u001b[34m\u001b[1mwandb\u001b[0m: \tinclude_top: 1\n",
            "\u001b[34m\u001b[1mwandb\u001b[0m: \tmodel: ['InceptionResNetV2', 'inception_resnet_v2']\n",
            "\u001b[34m\u001b[1mwandb\u001b[0m: \tnum_unfrozen: 0\n"
          ],
          "name": "stderr"
        },
        {
          "output_type": "display_data",
          "data": {
            "text/html": [
              "\n",
              "                Tracking run with wandb version 0.10.26<br/>\n",
              "                Syncing run <strong style=\"color:#cdcd00\">cool-sweep-11</strong> to <a href=\"https://wandb.ai\" target=\"_blank\">Weights & Biases</a> <a href=\"https://docs.wandb.com/integrations/jupyter.html\" target=\"_blank\">(Documentation)</a>.<br/>\n",
              "                Project page: <a href=\"https://wandb.ai/srijan_gupta/uncategorized\" target=\"_blank\">https://wandb.ai/srijan_gupta/uncategorized</a><br/>\n",
              "                Sweep page: <a href=\"https://wandb.ai/srijan_gupta/uncategorized/sweeps/u5j52d5c\" target=\"_blank\">https://wandb.ai/srijan_gupta/uncategorized/sweeps/u5j52d5c</a><br/>\n",
              "Run page: <a href=\"https://wandb.ai/srijan_gupta/uncategorized/runs/cknlo3ke\" target=\"_blank\">https://wandb.ai/srijan_gupta/uncategorized/runs/cknlo3ke</a><br/>\n",
              "                Run data is saved locally in <code>/content/wandb/run-20210414_113543-cknlo3ke</code><br/><br/>\n",
              "            "
            ],
            "text/plain": [
              "<IPython.core.display.HTML object>"
            ]
          },
          "metadata": {
            "tags": []
          }
        },
        {
          "output_type": "stream",
          "text": [
            "Downloading data from https://storage.googleapis.com/tensorflow/keras-applications/inception_resnet_v2/inception_resnet_v2_weights_tf_dim_ordering_tf_kernels.h5\n",
            "225214464/225209952 [==============================] - 2s 0us/step\n",
            "Epoch 1/10\n",
            "282/282 [==============================] - 206s 679ms/step - loss: 2.2681 - accuracy: 0.3540 - val_loss: 2.1621 - val_accuracy: 0.7605\n",
            "Epoch 2/10\n",
            "282/282 [==============================] - 191s 664ms/step - loss: 2.1429 - accuracy: 0.6846 - val_loss: 2.0370 - val_accuracy: 0.7824\n",
            "Epoch 3/10\n",
            "282/282 [==============================] - 189s 657ms/step - loss: 2.0235 - accuracy: 0.7147 - val_loss: 1.9192 - val_accuracy: 0.7904\n",
            "Epoch 4/10\n",
            "282/282 [==============================] - 191s 663ms/step - loss: 1.9156 - accuracy: 0.7170 - val_loss: 1.8100 - val_accuracy: 0.7944\n",
            "Epoch 5/10\n",
            "282/282 [==============================] - 193s 672ms/step - loss: 1.8145 - accuracy: 0.7108 - val_loss: 1.7079 - val_accuracy: 0.7904\n",
            "Epoch 6/10\n",
            "282/282 [==============================] - 192s 670ms/step - loss: 1.7270 - accuracy: 0.7086 - val_loss: 1.6137 - val_accuracy: 0.7884\n",
            "Epoch 7/10\n",
            "282/282 [==============================] - 195s 679ms/step - loss: 1.6502 - accuracy: 0.7050 - val_loss: 1.5281 - val_accuracy: 0.7894\n",
            "Epoch 8/10\n",
            "282/282 [==============================] - 195s 678ms/step - loss: 1.5702 - accuracy: 0.7033 - val_loss: 1.4501 - val_accuracy: 0.7884\n",
            "Epoch 9/10\n",
            "282/282 [==============================] - 194s 676ms/step - loss: 1.5053 - accuracy: 0.7007 - val_loss: 1.3797 - val_accuracy: 0.7894\n",
            "Epoch 10/10\n",
            "282/282 [==============================] - 193s 671ms/step - loss: 1.4585 - accuracy: 0.6950 - val_loss: 1.3159 - val_accuracy: 0.7894\n"
          ],
          "name": "stdout"
        },
        {
          "output_type": "display_data",
          "data": {
            "text/html": [
              "<br/>Waiting for W&B process to finish, PID 3537<br/>Program ended successfully."
            ],
            "text/plain": [
              "<IPython.core.display.HTML object>"
            ]
          },
          "metadata": {
            "tags": []
          }
        },
        {
          "output_type": "display_data",
          "data": {
            "application/vnd.jupyter.widget-view+json": {
              "model_id": "2b6ca209bfb14e85aef072a4e87edd38",
              "version_minor": 0,
              "version_major": 2
            },
            "text/plain": [
              "VBox(children=(Label(value=' 214.41MB of 214.41MB uploaded (0.00MB deduped)\\r'), FloatProgress(value=1.0, max=…"
            ]
          },
          "metadata": {
            "tags": []
          }
        },
        {
          "output_type": "display_data",
          "data": {
            "text/html": [
              "Find user logs for this run at: <code>/content/wandb/run-20210414_113543-cknlo3ke/logs/debug.log</code>"
            ],
            "text/plain": [
              "<IPython.core.display.HTML object>"
            ]
          },
          "metadata": {
            "tags": []
          }
        },
        {
          "output_type": "display_data",
          "data": {
            "text/html": [
              "Find internal logs for this run at: <code>/content/wandb/run-20210414_113543-cknlo3ke/logs/debug-internal.log</code>"
            ],
            "text/plain": [
              "<IPython.core.display.HTML object>"
            ]
          },
          "metadata": {
            "tags": []
          }
        },
        {
          "output_type": "display_data",
          "data": {
            "text/html": [
              "<h3>Run summary:</h3><br/><style>\n",
              "    table.wandb td:nth-child(1) { padding: 0 10px; text-align: right }\n",
              "    </style><table class=\"wandb\">\n",
              "<tr><td>epoch</td><td>9</td></tr><tr><td>loss</td><td>1.43681</td></tr><tr><td>accuracy</td><td>0.70157</td></tr><tr><td>val_loss</td><td>1.31587</td></tr><tr><td>val_accuracy</td><td>0.78942</td></tr><tr><td>_runtime</td><td>1966</td></tr><tr><td>_timestamp</td><td>1618402109</td></tr><tr><td>_step</td><td>9</td></tr><tr><td>best_val_loss</td><td>1.31587</td></tr><tr><td>best_epoch</td><td>9</td></tr></table>"
            ],
            "text/plain": [
              "<IPython.core.display.HTML object>"
            ]
          },
          "metadata": {
            "tags": []
          }
        },
        {
          "output_type": "display_data",
          "data": {
            "text/html": [
              "<h3>Run history:</h3><br/><style>\n",
              "    table.wandb td:nth-child(1) { padding: 0 10px; text-align: right }\n",
              "    </style><table class=\"wandb\">\n",
              "<tr><td>epoch</td><td>▁▂▃▃▄▅▆▆▇█</td></tr><tr><td>loss</td><td>█▇▆▅▄▃▃▂▂▁</td></tr><tr><td>accuracy</td><td>▁▇████████</td></tr><tr><td>val_loss</td><td>█▇▆▅▄▃▃▂▂▁</td></tr><tr><td>val_accuracy</td><td>▁▆▇█▇▇▇▇▇▇</td></tr><tr><td>_runtime</td><td>▁▂▃▃▄▅▆▆▇█</td></tr><tr><td>_timestamp</td><td>▁▂▃▃▄▅▆▆▇█</td></tr><tr><td>_step</td><td>▁▂▃▃▄▅▆▆▇█</td></tr></table><br/>"
            ],
            "text/plain": [
              "<IPython.core.display.HTML object>"
            ]
          },
          "metadata": {
            "tags": []
          }
        },
        {
          "output_type": "display_data",
          "data": {
            "text/html": [
              "Synced 5 W&B file(s), 1 media file(s), 0 artifact file(s) and 1 other file(s)"
            ],
            "text/plain": [
              "<IPython.core.display.HTML object>"
            ]
          },
          "metadata": {
            "tags": []
          }
        },
        {
          "output_type": "display_data",
          "data": {
            "text/html": [
              "\n",
              "                    <br/>Synced <strong style=\"color:#cdcd00\">cool-sweep-11</strong>: <a href=\"https://wandb.ai/srijan_gupta/uncategorized/runs/cknlo3ke\" target=\"_blank\">https://wandb.ai/srijan_gupta/uncategorized/runs/cknlo3ke</a><br/>\n",
              "                "
            ],
            "text/plain": [
              "<IPython.core.display.HTML object>"
            ]
          },
          "metadata": {
            "tags": []
          }
        },
        {
          "output_type": "stream",
          "text": [
            "\u001b[34m\u001b[1mwandb\u001b[0m: Agent Starting Run: oo6wsa3j with config:\n",
            "\u001b[34m\u001b[1mwandb\u001b[0m: \tdropout: 0.2\n",
            "\u001b[34m\u001b[1mwandb\u001b[0m: \tepochs: 10\n",
            "\u001b[34m\u001b[1mwandb\u001b[0m: \teta: 0.001\n",
            "\u001b[34m\u001b[1mwandb\u001b[0m: \tinclude_top: 1\n",
            "\u001b[34m\u001b[1mwandb\u001b[0m: \tmodel: ['InceptionResNetV2', 'inception_resnet_v2']\n",
            "\u001b[34m\u001b[1mwandb\u001b[0m: \tnum_unfrozen: 5\n"
          ],
          "name": "stderr"
        },
        {
          "output_type": "display_data",
          "data": {
            "text/html": [
              "\n",
              "                Tracking run with wandb version 0.10.26<br/>\n",
              "                Syncing run <strong style=\"color:#cdcd00\">lunar-sweep-12</strong> to <a href=\"https://wandb.ai\" target=\"_blank\">Weights & Biases</a> <a href=\"https://docs.wandb.com/integrations/jupyter.html\" target=\"_blank\">(Documentation)</a>.<br/>\n",
              "                Project page: <a href=\"https://wandb.ai/srijan_gupta/uncategorized\" target=\"_blank\">https://wandb.ai/srijan_gupta/uncategorized</a><br/>\n",
              "                Sweep page: <a href=\"https://wandb.ai/srijan_gupta/uncategorized/sweeps/u5j52d5c\" target=\"_blank\">https://wandb.ai/srijan_gupta/uncategorized/sweeps/u5j52d5c</a><br/>\n",
              "Run page: <a href=\"https://wandb.ai/srijan_gupta/uncategorized/runs/oo6wsa3j\" target=\"_blank\">https://wandb.ai/srijan_gupta/uncategorized/runs/oo6wsa3j</a><br/>\n",
              "                Run data is saved locally in <code>/content/wandb/run-20210414_120844-oo6wsa3j</code><br/><br/>\n",
              "            "
            ],
            "text/plain": [
              "<IPython.core.display.HTML object>"
            ]
          },
          "metadata": {
            "tags": []
          }
        },
        {
          "output_type": "stream",
          "text": [
            "Epoch 1/5\n",
            "282/282 [==============================] - 204s 675ms/step - loss: 2.2641 - accuracy: 0.3614 - val_loss: 2.1627 - val_accuracy: 0.7435\n",
            "Epoch 2/5\n",
            "282/282 [==============================] - 191s 663ms/step - loss: 2.1363 - accuracy: 0.6861 - val_loss: 2.0372 - val_accuracy: 0.7804\n",
            "Epoch 3/5\n",
            "282/282 [==============================] - 190s 661ms/step - loss: 2.0221 - accuracy: 0.7211 - val_loss: 1.9198 - val_accuracy: 0.7884\n",
            "Epoch 4/5\n",
            "282/282 [==============================] - 190s 661ms/step - loss: 1.9057 - accuracy: 0.7219 - val_loss: 1.8095 - val_accuracy: 0.7924\n",
            "Epoch 5/5\n",
            "282/282 [==============================] - 189s 659ms/step - loss: 1.8119 - accuracy: 0.7072 - val_loss: 1.7080 - val_accuracy: 0.7894\n",
            "Epoch 6/10\n",
            "282/282 [==============================] - 204s 673ms/step - loss: 1.6222 - accuracy: 0.7068 - val_loss: 1.4732 - val_accuracy: 0.8194\n",
            "Epoch 7/10\n",
            "282/282 [==============================] - 189s 658ms/step - loss: 1.5068 - accuracy: 0.6920 - val_loss: 1.4067 - val_accuracy: 0.8343\n",
            "Epoch 8/10\n",
            "282/282 [==============================] - 191s 665ms/step - loss: 1.4650 - accuracy: 0.6834 - val_loss: 1.3624 - val_accuracy: 0.8423\n",
            "Epoch 9/10\n",
            "282/282 [==============================] - 192s 666ms/step - loss: 1.4170 - accuracy: 0.6959 - val_loss: 1.3350 - val_accuracy: 0.8343\n",
            "Epoch 10/10\n",
            "282/282 [==============================] - 190s 663ms/step - loss: 1.3756 - accuracy: 0.7076 - val_loss: 1.3072 - val_accuracy: 0.8433\n"
          ],
          "name": "stdout"
        },
        {
          "output_type": "display_data",
          "data": {
            "text/html": [
              "<br/>Waiting for W&B process to finish, PID 4062<br/>Program ended successfully."
            ],
            "text/plain": [
              "<IPython.core.display.HTML object>"
            ]
          },
          "metadata": {
            "tags": []
          }
        },
        {
          "output_type": "display_data",
          "data": {
            "application/vnd.jupyter.widget-view+json": {
              "model_id": "63bc5038412e43af9f78537db03f2985",
              "version_minor": 0,
              "version_major": 2
            },
            "text/plain": [
              "VBox(children=(Label(value=' 214.41MB of 214.41MB uploaded (0.00MB deduped)\\r'), FloatProgress(value=1.0, max=…"
            ]
          },
          "metadata": {
            "tags": []
          }
        },
        {
          "output_type": "display_data",
          "data": {
            "text/html": [
              "Find user logs for this run at: <code>/content/wandb/run-20210414_120844-oo6wsa3j/logs/debug.log</code>"
            ],
            "text/plain": [
              "<IPython.core.display.HTML object>"
            ]
          },
          "metadata": {
            "tags": []
          }
        },
        {
          "output_type": "display_data",
          "data": {
            "text/html": [
              "Find internal logs for this run at: <code>/content/wandb/run-20210414_120844-oo6wsa3j/logs/debug-internal.log</code>"
            ],
            "text/plain": [
              "<IPython.core.display.HTML object>"
            ]
          },
          "metadata": {
            "tags": []
          }
        },
        {
          "output_type": "display_data",
          "data": {
            "text/html": [
              "<h3>Run summary:</h3><br/><style>\n",
              "    table.wandb td:nth-child(1) { padding: 0 10px; text-align: right }\n",
              "    </style><table class=\"wandb\">\n",
              "<tr><td>epoch</td><td>9</td></tr><tr><td>loss</td><td>1.36695</td></tr><tr><td>accuracy</td><td>0.71144</td></tr><tr><td>val_loss</td><td>1.30723</td></tr><tr><td>val_accuracy</td><td>0.84331</td></tr><tr><td>_runtime</td><td>1962</td></tr><tr><td>_timestamp</td><td>1618404086</td></tr><tr><td>_step</td><td>9</td></tr><tr><td>best_val_loss</td><td>1.30723</td></tr><tr><td>best_epoch</td><td>9</td></tr></table>"
            ],
            "text/plain": [
              "<IPython.core.display.HTML object>"
            ]
          },
          "metadata": {
            "tags": []
          }
        },
        {
          "output_type": "display_data",
          "data": {
            "text/html": [
              "<h3>Run history:</h3><br/><style>\n",
              "    table.wandb td:nth-child(1) { padding: 0 10px; text-align: right }\n",
              "    </style><table class=\"wandb\">\n",
              "<tr><td>epoch</td><td>▁▂▃▃▄▅▆▆▇█</td></tr><tr><td>loss</td><td>█▇▆▅▄▃▂▂▁▁</td></tr><tr><td>accuracy</td><td>▁▇███▇▇▇██</td></tr><tr><td>val_loss</td><td>█▇▆▅▄▂▂▁▁▁</td></tr><tr><td>val_accuracy</td><td>▁▄▄▄▄▆▇█▇█</td></tr><tr><td>_runtime</td><td>▁▂▃▃▄▅▆▆▇█</td></tr><tr><td>_timestamp</td><td>▁▂▃▃▄▅▆▆▇█</td></tr><tr><td>_step</td><td>▁▂▃▃▄▅▆▆▇█</td></tr></table><br/>"
            ],
            "text/plain": [
              "<IPython.core.display.HTML object>"
            ]
          },
          "metadata": {
            "tags": []
          }
        },
        {
          "output_type": "display_data",
          "data": {
            "text/html": [
              "Synced 5 W&B file(s), 1 media file(s), 0 artifact file(s) and 1 other file(s)"
            ],
            "text/plain": [
              "<IPython.core.display.HTML object>"
            ]
          },
          "metadata": {
            "tags": []
          }
        },
        {
          "output_type": "display_data",
          "data": {
            "text/html": [
              "\n",
              "                    <br/>Synced <strong style=\"color:#cdcd00\">lunar-sweep-12</strong>: <a href=\"https://wandb.ai/srijan_gupta/uncategorized/runs/oo6wsa3j\" target=\"_blank\">https://wandb.ai/srijan_gupta/uncategorized/runs/oo6wsa3j</a><br/>\n",
              "                "
            ],
            "text/plain": [
              "<IPython.core.display.HTML object>"
            ]
          },
          "metadata": {
            "tags": []
          }
        },
        {
          "output_type": "stream",
          "text": [
            "\u001b[34m\u001b[1mwandb\u001b[0m: Agent Starting Run: nn3ohhfv with config:\n",
            "\u001b[34m\u001b[1mwandb\u001b[0m: \tdropout: 0.2\n",
            "\u001b[34m\u001b[1mwandb\u001b[0m: \tepochs: 10\n",
            "\u001b[34m\u001b[1mwandb\u001b[0m: \teta: 0.001\n",
            "\u001b[34m\u001b[1mwandb\u001b[0m: \tinclude_top: 1\n",
            "\u001b[34m\u001b[1mwandb\u001b[0m: \tmodel: ['ResNet50', 'resnet50']\n",
            "\u001b[34m\u001b[1mwandb\u001b[0m: \tnum_unfrozen: 0\n"
          ],
          "name": "stderr"
        },
        {
          "output_type": "display_data",
          "data": {
            "text/html": [
              "\n",
              "                Tracking run with wandb version 0.10.26<br/>\n",
              "                Syncing run <strong style=\"color:#cdcd00\">vibrant-sweep-13</strong> to <a href=\"https://wandb.ai\" target=\"_blank\">Weights & Biases</a> <a href=\"https://docs.wandb.com/integrations/jupyter.html\" target=\"_blank\">(Documentation)</a>.<br/>\n",
              "                Project page: <a href=\"https://wandb.ai/srijan_gupta/uncategorized\" target=\"_blank\">https://wandb.ai/srijan_gupta/uncategorized</a><br/>\n",
              "                Sweep page: <a href=\"https://wandb.ai/srijan_gupta/uncategorized/sweeps/u5j52d5c\" target=\"_blank\">https://wandb.ai/srijan_gupta/uncategorized/sweeps/u5j52d5c</a><br/>\n",
              "Run page: <a href=\"https://wandb.ai/srijan_gupta/uncategorized/runs/nn3ohhfv\" target=\"_blank\">https://wandb.ai/srijan_gupta/uncategorized/runs/nn3ohhfv</a><br/>\n",
              "                Run data is saved locally in <code>/content/wandb/run-20210414_124134-nn3ohhfv</code><br/><br/>\n",
              "            "
            ],
            "text/plain": [
              "<IPython.core.display.HTML object>"
            ]
          },
          "metadata": {
            "tags": []
          }
        },
        {
          "output_type": "stream",
          "text": [
            "Downloading data from https://storage.googleapis.com/tensorflow/keras-applications/resnet/resnet50_weights_tf_dim_ordering_tf_kernels.h5\n",
            "102973440/102967424 [==============================] - 1s 0us/step\n",
            "Epoch 1/10\n",
            "282/282 [==============================] - 186s 629ms/step - loss: 2.2720 - accuracy: 0.3126 - val_loss: 2.1772 - val_accuracy: 0.6836\n",
            "Epoch 2/10\n",
            "282/282 [==============================] - 180s 628ms/step - loss: 2.1604 - accuracy: 0.6210 - val_loss: 2.0665 - val_accuracy: 0.7236\n",
            "Epoch 3/10\n",
            "282/282 [==============================] - 179s 622ms/step - loss: 2.0643 - accuracy: 0.6444 - val_loss: 1.9639 - val_accuracy: 0.7335\n",
            "Epoch 4/10\n",
            "282/282 [==============================] - 179s 622ms/step - loss: 1.9710 - accuracy: 0.6510 - val_loss: 1.8667 - val_accuracy: 0.7345\n",
            "Epoch 5/10\n",
            "282/282 [==============================] - 179s 623ms/step - loss: 1.8816 - accuracy: 0.6627 - val_loss: 1.7772 - val_accuracy: 0.7325\n",
            "Epoch 6/10\n",
            "282/282 [==============================] - 179s 622ms/step - loss: 1.8017 - accuracy: 0.6617 - val_loss: 1.6949 - val_accuracy: 0.7305\n",
            "Epoch 7/10\n",
            "282/282 [==============================] - 179s 623ms/step - loss: 1.7312 - accuracy: 0.6474 - val_loss: 1.6189 - val_accuracy: 0.7325\n",
            "Epoch 8/10\n",
            "282/282 [==============================] - 178s 619ms/step - loss: 1.6775 - accuracy: 0.6472 - val_loss: 1.5513 - val_accuracy: 0.7325\n",
            "Epoch 9/10\n",
            "282/282 [==============================] - 176s 611ms/step - loss: 1.6091 - accuracy: 0.6448 - val_loss: 1.4886 - val_accuracy: 0.7315\n",
            "Epoch 10/10\n",
            "282/282 [==============================] - 178s 618ms/step - loss: 1.5596 - accuracy: 0.6459 - val_loss: 1.4318 - val_accuracy: 0.7315\n"
          ],
          "name": "stdout"
        },
        {
          "output_type": "display_data",
          "data": {
            "text/html": [
              "<br/>Waiting for W&B process to finish, PID 4585<br/>Program ended successfully."
            ],
            "text/plain": [
              "<IPython.core.display.HTML object>"
            ]
          },
          "metadata": {
            "tags": []
          }
        },
        {
          "output_type": "display_data",
          "data": {
            "application/vnd.jupyter.widget-view+json": {
              "model_id": "2d98d04f0e7e4b59b98f4f72fde0fb38",
              "version_minor": 0,
              "version_major": 2
            },
            "text/plain": [
              "VBox(children=(Label(value=' 98.23MB of 98.23MB uploaded (0.00MB deduped)\\r'), FloatProgress(value=1.0, max=1.…"
            ]
          },
          "metadata": {
            "tags": []
          }
        },
        {
          "output_type": "display_data",
          "data": {
            "text/html": [
              "Find user logs for this run at: <code>/content/wandb/run-20210414_124134-nn3ohhfv/logs/debug.log</code>"
            ],
            "text/plain": [
              "<IPython.core.display.HTML object>"
            ]
          },
          "metadata": {
            "tags": []
          }
        },
        {
          "output_type": "display_data",
          "data": {
            "text/html": [
              "Find internal logs for this run at: <code>/content/wandb/run-20210414_124134-nn3ohhfv/logs/debug-internal.log</code>"
            ],
            "text/plain": [
              "<IPython.core.display.HTML object>"
            ]
          },
          "metadata": {
            "tags": []
          }
        },
        {
          "output_type": "display_data",
          "data": {
            "text/html": [
              "<h3>Run summary:</h3><br/><style>\n",
              "    table.wandb td:nth-child(1) { padding: 0 10px; text-align: right }\n",
              "    </style><table class=\"wandb\">\n",
              "<tr><td>epoch</td><td>9</td></tr><tr><td>loss</td><td>1.54948</td></tr><tr><td>accuracy</td><td>0.63952</td></tr><tr><td>val_loss</td><td>1.4318</td></tr><tr><td>val_accuracy</td><td>0.73154</td></tr><tr><td>_runtime</td><td>1804</td></tr><tr><td>_timestamp</td><td>1618405898</td></tr><tr><td>_step</td><td>9</td></tr><tr><td>best_val_loss</td><td>1.4318</td></tr><tr><td>best_epoch</td><td>9</td></tr></table>"
            ],
            "text/plain": [
              "<IPython.core.display.HTML object>"
            ]
          },
          "metadata": {
            "tags": []
          }
        },
        {
          "output_type": "display_data",
          "data": {
            "text/html": [
              "<h3>Run history:</h3><br/><style>\n",
              "    table.wandb td:nth-child(1) { padding: 0 10px; text-align: right }\n",
              "    </style><table class=\"wandb\">\n",
              "<tr><td>epoch</td><td>▁▂▃▃▄▅▆▆▇█</td></tr><tr><td>loss</td><td>█▇▆▅▄▃▃▂▁▁</td></tr><tr><td>accuracy</td><td>▁▇████████</td></tr><tr><td>val_loss</td><td>█▇▆▅▄▃▃▂▂▁</td></tr><tr><td>val_accuracy</td><td>▁▆███▇████</td></tr><tr><td>_runtime</td><td>▁▂▃▃▄▅▆▆▇█</td></tr><tr><td>_timestamp</td><td>▁▂▃▃▄▅▆▆▇█</td></tr><tr><td>_step</td><td>▁▂▃▃▄▅▆▆▇█</td></tr></table><br/>"
            ],
            "text/plain": [
              "<IPython.core.display.HTML object>"
            ]
          },
          "metadata": {
            "tags": []
          }
        },
        {
          "output_type": "display_data",
          "data": {
            "text/html": [
              "Synced 5 W&B file(s), 1 media file(s), 0 artifact file(s) and 1 other file(s)"
            ],
            "text/plain": [
              "<IPython.core.display.HTML object>"
            ]
          },
          "metadata": {
            "tags": []
          }
        },
        {
          "output_type": "display_data",
          "data": {
            "text/html": [
              "\n",
              "                    <br/>Synced <strong style=\"color:#cdcd00\">vibrant-sweep-13</strong>: <a href=\"https://wandb.ai/srijan_gupta/uncategorized/runs/nn3ohhfv\" target=\"_blank\">https://wandb.ai/srijan_gupta/uncategorized/runs/nn3ohhfv</a><br/>\n",
              "                "
            ],
            "text/plain": [
              "<IPython.core.display.HTML object>"
            ]
          },
          "metadata": {
            "tags": []
          }
        },
        {
          "output_type": "stream",
          "text": [
            "\u001b[34m\u001b[1mwandb\u001b[0m: Agent Starting Run: 9awgiag2 with config:\n",
            "\u001b[34m\u001b[1mwandb\u001b[0m: \tdropout: 0.2\n",
            "\u001b[34m\u001b[1mwandb\u001b[0m: \tepochs: 10\n",
            "\u001b[34m\u001b[1mwandb\u001b[0m: \teta: 0.001\n",
            "\u001b[34m\u001b[1mwandb\u001b[0m: \tinclude_top: 1\n",
            "\u001b[34m\u001b[1mwandb\u001b[0m: \tmodel: ['ResNet50', 'resnet50']\n",
            "\u001b[34m\u001b[1mwandb\u001b[0m: \tnum_unfrozen: 5\n"
          ],
          "name": "stderr"
        },
        {
          "output_type": "display_data",
          "data": {
            "text/html": [
              "\n",
              "                Tracking run with wandb version 0.10.26<br/>\n",
              "                Syncing run <strong style=\"color:#cdcd00\">genial-sweep-14</strong> to <a href=\"https://wandb.ai\" target=\"_blank\">Weights & Biases</a> <a href=\"https://docs.wandb.com/integrations/jupyter.html\" target=\"_blank\">(Documentation)</a>.<br/>\n",
              "                Project page: <a href=\"https://wandb.ai/srijan_gupta/uncategorized\" target=\"_blank\">https://wandb.ai/srijan_gupta/uncategorized</a><br/>\n",
              "                Sweep page: <a href=\"https://wandb.ai/srijan_gupta/uncategorized/sweeps/u5j52d5c\" target=\"_blank\">https://wandb.ai/srijan_gupta/uncategorized/sweeps/u5j52d5c</a><br/>\n",
              "Run page: <a href=\"https://wandb.ai/srijan_gupta/uncategorized/runs/9awgiag2\" target=\"_blank\">https://wandb.ai/srijan_gupta/uncategorized/runs/9awgiag2</a><br/>\n",
              "                Run data is saved locally in <code>/content/wandb/run-20210414_131147-9awgiag2</code><br/><br/>\n",
              "            "
            ],
            "text/plain": [
              "<IPython.core.display.HTML object>"
            ]
          },
          "metadata": {
            "tags": []
          }
        },
        {
          "output_type": "stream",
          "text": [
            "Epoch 1/5\n",
            "282/282 [==============================] - 183s 624ms/step - loss: 2.2732 - accuracy: 0.3053 - val_loss: 2.1784 - val_accuracy: 0.6976\n",
            "Epoch 2/5\n",
            "282/282 [==============================] - 179s 622ms/step - loss: 2.1634 - accuracy: 0.6269 - val_loss: 2.0666 - val_accuracy: 0.7265\n",
            "Epoch 3/5\n",
            "282/282 [==============================] - 175s 609ms/step - loss: 2.0622 - accuracy: 0.6576 - val_loss: 1.9625 - val_accuracy: 0.7335\n",
            "Epoch 4/5\n",
            "282/282 [==============================] - 178s 620ms/step - loss: 1.9727 - accuracy: 0.6558 - val_loss: 1.8661 - val_accuracy: 0.7375\n",
            "Epoch 5/5\n",
            "282/282 [==============================] - 179s 623ms/step - loss: 1.8892 - accuracy: 0.6433 - val_loss: 1.7777 - val_accuracy: 0.7315\n",
            "Epoch 6/10\n",
            "282/282 [==============================] - 183s 625ms/step - loss: 1.7715 - accuracy: 0.6589 - val_loss: 1.6581 - val_accuracy: 0.7395\n",
            "Epoch 7/10\n",
            "282/282 [==============================] - 178s 618ms/step - loss: 1.7038 - accuracy: 0.6472 - val_loss: 1.6136 - val_accuracy: 0.7455\n",
            "Epoch 8/10\n",
            "282/282 [==============================] - 184s 641ms/step - loss: 1.6413 - accuracy: 0.6609 - val_loss: 1.5781 - val_accuracy: 0.7485\n",
            "Epoch 9/10\n",
            "282/282 [==============================] - 189s 656ms/step - loss: 1.6104 - accuracy: 0.6608 - val_loss: 1.5559 - val_accuracy: 0.7465\n",
            "Epoch 10/10\n",
            "282/282 [==============================] - 189s 659ms/step - loss: 1.5971 - accuracy: 0.6647 - val_loss: 1.5359 - val_accuracy: 0.7545\n"
          ],
          "name": "stdout"
        },
        {
          "output_type": "display_data",
          "data": {
            "text/html": [
              "<br/>Waiting for W&B process to finish, PID 5062<br/>Program ended successfully."
            ],
            "text/plain": [
              "<IPython.core.display.HTML object>"
            ]
          },
          "metadata": {
            "tags": []
          }
        },
        {
          "output_type": "display_data",
          "data": {
            "application/vnd.jupyter.widget-view+json": {
              "model_id": "72110a11bf694caabf9cf81e31499608",
              "version_minor": 0,
              "version_major": 2
            },
            "text/plain": [
              "VBox(children=(Label(value=' 98.23MB of 98.23MB uploaded (0.00MB deduped)\\r'), FloatProgress(value=1.0, max=1.…"
            ]
          },
          "metadata": {
            "tags": []
          }
        },
        {
          "output_type": "display_data",
          "data": {
            "text/html": [
              "Find user logs for this run at: <code>/content/wandb/run-20210414_131147-9awgiag2/logs/debug.log</code>"
            ],
            "text/plain": [
              "<IPython.core.display.HTML object>"
            ]
          },
          "metadata": {
            "tags": []
          }
        },
        {
          "output_type": "display_data",
          "data": {
            "text/html": [
              "Find internal logs for this run at: <code>/content/wandb/run-20210414_131147-9awgiag2/logs/debug-internal.log</code>"
            ],
            "text/plain": [
              "<IPython.core.display.HTML object>"
            ]
          },
          "metadata": {
            "tags": []
          }
        },
        {
          "output_type": "display_data",
          "data": {
            "text/html": [
              "<h3>Run summary:</h3><br/><style>\n",
              "    table.wandb td:nth-child(1) { padding: 0 10px; text-align: right }\n",
              "    </style><table class=\"wandb\">\n",
              "<tr><td>epoch</td><td>9</td></tr><tr><td>loss</td><td>1.59031</td></tr><tr><td>accuracy</td><td>0.6629</td></tr><tr><td>val_loss</td><td>1.53585</td></tr><tr><td>val_accuracy</td><td>0.75449</td></tr><tr><td>_runtime</td><td>1830</td></tr><tr><td>_timestamp</td><td>1618407737</td></tr><tr><td>_step</td><td>9</td></tr><tr><td>best_val_loss</td><td>1.53585</td></tr><tr><td>best_epoch</td><td>9</td></tr></table>"
            ],
            "text/plain": [
              "<IPython.core.display.HTML object>"
            ]
          },
          "metadata": {
            "tags": []
          }
        },
        {
          "output_type": "display_data",
          "data": {
            "text/html": [
              "<h3>Run history:</h3><br/><style>\n",
              "    table.wandb td:nth-child(1) { padding: 0 10px; text-align: right }\n",
              "    </style><table class=\"wandb\">\n",
              "<tr><td>epoch</td><td>▁▂▃▃▄▅▆▆▇█</td></tr><tr><td>loss</td><td>█▇▆▅▄▃▂▁▁▁</td></tr><tr><td>accuracy</td><td>▁▇██▇█▇███</td></tr><tr><td>val_loss</td><td>█▇▆▅▄▂▂▁▁▁</td></tr><tr><td>val_accuracy</td><td>▁▅▅▆▅▆▇▇▇█</td></tr><tr><td>_runtime</td><td>▁▂▃▃▄▅▆▆▇█</td></tr><tr><td>_timestamp</td><td>▁▂▃▃▄▅▆▆▇█</td></tr><tr><td>_step</td><td>▁▂▃▃▄▅▆▆▇█</td></tr></table><br/>"
            ],
            "text/plain": [
              "<IPython.core.display.HTML object>"
            ]
          },
          "metadata": {
            "tags": []
          }
        },
        {
          "output_type": "display_data",
          "data": {
            "text/html": [
              "Synced 5 W&B file(s), 1 media file(s), 0 artifact file(s) and 1 other file(s)"
            ],
            "text/plain": [
              "<IPython.core.display.HTML object>"
            ]
          },
          "metadata": {
            "tags": []
          }
        },
        {
          "output_type": "display_data",
          "data": {
            "text/html": [
              "\n",
              "                    <br/>Synced <strong style=\"color:#cdcd00\">genial-sweep-14</strong>: <a href=\"https://wandb.ai/srijan_gupta/uncategorized/runs/9awgiag2\" target=\"_blank\">https://wandb.ai/srijan_gupta/uncategorized/runs/9awgiag2</a><br/>\n",
              "                "
            ],
            "text/plain": [
              "<IPython.core.display.HTML object>"
            ]
          },
          "metadata": {
            "tags": []
          }
        },
        {
          "output_type": "stream",
          "text": [
            "\u001b[34m\u001b[1mwandb\u001b[0m: Agent Starting Run: gtcbbm16 with config:\n",
            "\u001b[34m\u001b[1mwandb\u001b[0m: \tdropout: 0.2\n",
            "\u001b[34m\u001b[1mwandb\u001b[0m: \tepochs: 10\n",
            "\u001b[34m\u001b[1mwandb\u001b[0m: \teta: 0.001\n",
            "\u001b[34m\u001b[1mwandb\u001b[0m: \tinclude_top: 1\n",
            "\u001b[34m\u001b[1mwandb\u001b[0m: \tmodel: ['InceptionV3', 'inception_v3']\n",
            "\u001b[34m\u001b[1mwandb\u001b[0m: \tnum_unfrozen: 0\n"
          ],
          "name": "stderr"
        },
        {
          "output_type": "display_data",
          "data": {
            "text/html": [
              "\n",
              "                Tracking run with wandb version 0.10.26<br/>\n",
              "                Syncing run <strong style=\"color:#cdcd00\">scarlet-sweep-15</strong> to <a href=\"https://wandb.ai\" target=\"_blank\">Weights & Biases</a> <a href=\"https://docs.wandb.com/integrations/jupyter.html\" target=\"_blank\">(Documentation)</a>.<br/>\n",
              "                Project page: <a href=\"https://wandb.ai/srijan_gupta/uncategorized\" target=\"_blank\">https://wandb.ai/srijan_gupta/uncategorized</a><br/>\n",
              "                Sweep page: <a href=\"https://wandb.ai/srijan_gupta/uncategorized/sweeps/u5j52d5c\" target=\"_blank\">https://wandb.ai/srijan_gupta/uncategorized/sweeps/u5j52d5c</a><br/>\n",
              "Run page: <a href=\"https://wandb.ai/srijan_gupta/uncategorized/runs/gtcbbm16\" target=\"_blank\">https://wandb.ai/srijan_gupta/uncategorized/runs/gtcbbm16</a><br/>\n",
              "                Run data is saved locally in <code>/content/wandb/run-20210414_134225-gtcbbm16</code><br/><br/>\n",
              "            "
            ],
            "text/plain": [
              "<IPython.core.display.HTML object>"
            ]
          },
          "metadata": {
            "tags": []
          }
        },
        {
          "output_type": "stream",
          "text": [
            "Downloading data from https://storage.googleapis.com/tensorflow/keras-applications/inception_v3/inception_v3_weights_tf_dim_ordering_tf_kernels.h5\n",
            "96116736/96112376 [==============================] - 1s 0us/step\n",
            "Epoch 1/10\n",
            "282/282 [==============================] - 194s 658ms/step - loss: 2.2778 - accuracy: 0.3035 - val_loss: 2.1817 - val_accuracy: 0.7315\n",
            "Epoch 2/10\n",
            "282/282 [==============================] - 188s 653ms/step - loss: 2.1627 - accuracy: 0.6785 - val_loss: 2.0643 - val_accuracy: 0.7685\n",
            "Epoch 3/10\n",
            "282/282 [==============================] - 186s 646ms/step - loss: 2.0545 - accuracy: 0.7025 - val_loss: 1.9554 - val_accuracy: 0.7725\n",
            "Epoch 4/10\n",
            "282/282 [==============================] - 187s 650ms/step - loss: 1.9592 - accuracy: 0.7011 - val_loss: 1.8530 - val_accuracy: 0.7754\n",
            "Epoch 5/10\n",
            "282/282 [==============================] - 185s 644ms/step - loss: 1.8672 - accuracy: 0.6985 - val_loss: 1.7585 - val_accuracy: 0.7705\n",
            "Epoch 6/10\n",
            "282/282 [==============================] - 187s 649ms/step - loss: 1.7816 - accuracy: 0.6915 - val_loss: 1.6700 - val_accuracy: 0.7715\n",
            "Epoch 7/10\n",
            "282/282 [==============================] - 186s 646ms/step - loss: 1.7058 - accuracy: 0.6920 - val_loss: 1.5874 - val_accuracy: 0.7715\n",
            "Epoch 8/10\n",
            "282/282 [==============================] - 187s 649ms/step - loss: 1.6344 - accuracy: 0.6937 - val_loss: 1.5120 - val_accuracy: 0.7745\n",
            "Epoch 9/10\n",
            "282/282 [==============================] - 183s 637ms/step - loss: 1.5597 - accuracy: 0.6977 - val_loss: 1.4429 - val_accuracy: 0.7735\n",
            "Epoch 10/10\n",
            "282/282 [==============================] - 183s 638ms/step - loss: 1.5154 - accuracy: 0.6946 - val_loss: 1.3805 - val_accuracy: 0.7715\n"
          ],
          "name": "stdout"
        },
        {
          "output_type": "display_data",
          "data": {
            "text/html": [
              "<br/>Waiting for W&B process to finish, PID 5553<br/>Program ended successfully."
            ],
            "text/plain": [
              "<IPython.core.display.HTML object>"
            ]
          },
          "metadata": {
            "tags": []
          }
        },
        {
          "output_type": "display_data",
          "data": {
            "application/vnd.jupyter.widget-view+json": {
              "model_id": "7da1ee5bca12465d88310f64b8589fee",
              "version_minor": 0,
              "version_major": 2
            },
            "text/plain": [
              "VBox(children=(Label(value=' 91.59MB of 91.59MB uploaded (0.00MB deduped)\\r'), FloatProgress(value=1.0, max=1.…"
            ]
          },
          "metadata": {
            "tags": []
          }
        },
        {
          "output_type": "display_data",
          "data": {
            "text/html": [
              "Find user logs for this run at: <code>/content/wandb/run-20210414_134225-gtcbbm16/logs/debug.log</code>"
            ],
            "text/plain": [
              "<IPython.core.display.HTML object>"
            ]
          },
          "metadata": {
            "tags": []
          }
        },
        {
          "output_type": "display_data",
          "data": {
            "text/html": [
              "Find internal logs for this run at: <code>/content/wandb/run-20210414_134225-gtcbbm16/logs/debug-internal.log</code>"
            ],
            "text/plain": [
              "<IPython.core.display.HTML object>"
            ]
          },
          "metadata": {
            "tags": []
          }
        },
        {
          "output_type": "display_data",
          "data": {
            "text/html": [
              "<h3>Run summary:</h3><br/><style>\n",
              "    table.wandb td:nth-child(1) { padding: 0 10px; text-align: right }\n",
              "    </style><table class=\"wandb\">\n",
              "<tr><td>epoch</td><td>9</td></tr><tr><td>loss</td><td>1.50219</td></tr><tr><td>accuracy</td><td>0.69648</td></tr><tr><td>val_loss</td><td>1.38046</td></tr><tr><td>val_accuracy</td><td>0.77146</td></tr><tr><td>_runtime</td><td>1879</td></tr><tr><td>_timestamp</td><td>1618409624</td></tr><tr><td>_step</td><td>9</td></tr><tr><td>best_val_loss</td><td>1.38046</td></tr><tr><td>best_epoch</td><td>9</td></tr></table>"
            ],
            "text/plain": [
              "<IPython.core.display.HTML object>"
            ]
          },
          "metadata": {
            "tags": []
          }
        },
        {
          "output_type": "display_data",
          "data": {
            "text/html": [
              "<h3>Run history:</h3><br/><style>\n",
              "    table.wandb td:nth-child(1) { padding: 0 10px; text-align: right }\n",
              "    </style><table class=\"wandb\">\n",
              "<tr><td>epoch</td><td>▁▂▃▃▄▅▆▆▇█</td></tr><tr><td>loss</td><td>█▇▆▅▄▃▃▂▁▁</td></tr><tr><td>accuracy</td><td>▁▇████████</td></tr><tr><td>val_loss</td><td>█▇▆▅▄▄▃▂▂▁</td></tr><tr><td>val_accuracy</td><td>▁▇██▇▇▇██▇</td></tr><tr><td>_runtime</td><td>▁▂▃▃▄▅▆▆▇█</td></tr><tr><td>_timestamp</td><td>▁▂▃▃▄▅▆▆▇█</td></tr><tr><td>_step</td><td>▁▂▃▃▄▅▆▆▇█</td></tr></table><br/>"
            ],
            "text/plain": [
              "<IPython.core.display.HTML object>"
            ]
          },
          "metadata": {
            "tags": []
          }
        },
        {
          "output_type": "display_data",
          "data": {
            "text/html": [
              "Synced 5 W&B file(s), 1 media file(s), 0 artifact file(s) and 1 other file(s)"
            ],
            "text/plain": [
              "<IPython.core.display.HTML object>"
            ]
          },
          "metadata": {
            "tags": []
          }
        },
        {
          "output_type": "display_data",
          "data": {
            "text/html": [
              "\n",
              "                    <br/>Synced <strong style=\"color:#cdcd00\">scarlet-sweep-15</strong>: <a href=\"https://wandb.ai/srijan_gupta/uncategorized/runs/gtcbbm16\" target=\"_blank\">https://wandb.ai/srijan_gupta/uncategorized/runs/gtcbbm16</a><br/>\n",
              "                "
            ],
            "text/plain": [
              "<IPython.core.display.HTML object>"
            ]
          },
          "metadata": {
            "tags": []
          }
        },
        {
          "output_type": "stream",
          "text": [
            "\u001b[34m\u001b[1mwandb\u001b[0m: Agent Starting Run: 6xmht4kn with config:\n",
            "\u001b[34m\u001b[1mwandb\u001b[0m: \tdropout: 0.2\n",
            "\u001b[34m\u001b[1mwandb\u001b[0m: \tepochs: 10\n",
            "\u001b[34m\u001b[1mwandb\u001b[0m: \teta: 0.001\n",
            "\u001b[34m\u001b[1mwandb\u001b[0m: \tinclude_top: 1\n",
            "\u001b[34m\u001b[1mwandb\u001b[0m: \tmodel: ['InceptionV3', 'inception_v3']\n",
            "\u001b[34m\u001b[1mwandb\u001b[0m: \tnum_unfrozen: 5\n"
          ],
          "name": "stderr"
        },
        {
          "output_type": "display_data",
          "data": {
            "text/html": [
              "\n",
              "                Tracking run with wandb version 0.10.26<br/>\n",
              "                Syncing run <strong style=\"color:#cdcd00\">electric-sweep-16</strong> to <a href=\"https://wandb.ai\" target=\"_blank\">Weights & Biases</a> <a href=\"https://docs.wandb.com/integrations/jupyter.html\" target=\"_blank\">(Documentation)</a>.<br/>\n",
              "                Project page: <a href=\"https://wandb.ai/srijan_gupta/uncategorized\" target=\"_blank\">https://wandb.ai/srijan_gupta/uncategorized</a><br/>\n",
              "                Sweep page: <a href=\"https://wandb.ai/srijan_gupta/uncategorized/sweeps/u5j52d5c\" target=\"_blank\">https://wandb.ai/srijan_gupta/uncategorized/sweeps/u5j52d5c</a><br/>\n",
              "Run page: <a href=\"https://wandb.ai/srijan_gupta/uncategorized/runs/6xmht4kn\" target=\"_blank\">https://wandb.ai/srijan_gupta/uncategorized/runs/6xmht4kn</a><br/>\n",
              "                Run data is saved locally in <code>/content/wandb/run-20210414_141351-6xmht4kn</code><br/><br/>\n",
              "            "
            ],
            "text/plain": [
              "<IPython.core.display.HTML object>"
            ]
          },
          "metadata": {
            "tags": []
          }
        },
        {
          "output_type": "stream",
          "text": [
            "Epoch 1/5\n",
            "282/282 [==============================] - 193s 655ms/step - loss: 2.2704 - accuracy: 0.3493 - val_loss: 2.1738 - val_accuracy: 0.7455\n",
            "Epoch 2/5\n",
            "282/282 [==============================] - 187s 648ms/step - loss: 2.1553 - accuracy: 0.6846 - val_loss: 2.0579 - val_accuracy: 0.7695\n",
            "Epoch 3/5\n",
            "282/282 [==============================] - 185s 645ms/step - loss: 2.0507 - accuracy: 0.7095 - val_loss: 1.9487 - val_accuracy: 0.7745\n",
            "Epoch 4/5\n",
            "282/282 [==============================] - 186s 647ms/step - loss: 1.9498 - accuracy: 0.7061 - val_loss: 1.8466 - val_accuracy: 0.7774\n",
            "Epoch 5/5\n",
            "282/282 [==============================] - 187s 649ms/step - loss: 1.8586 - accuracy: 0.7033 - val_loss: 1.7508 - val_accuracy: 0.7745\n",
            "Epoch 6/10\n",
            "282/282 [==============================] - 192s 653ms/step - loss: 1.7124 - accuracy: 0.7104 - val_loss: 1.6000 - val_accuracy: 0.7964\n",
            "Epoch 7/10\n",
            "282/282 [==============================] - 187s 650ms/step - loss: 1.6247 - accuracy: 0.6967 - val_loss: 1.5602 - val_accuracy: 0.7934\n",
            "Epoch 8/10\n",
            "282/282 [==============================] - 187s 650ms/step - loss: 1.5894 - accuracy: 0.7005 - val_loss: 1.5255 - val_accuracy: 0.8034\n",
            "Epoch 9/10\n",
            "282/282 [==============================] - 186s 647ms/step - loss: 1.5683 - accuracy: 0.6926 - val_loss: 1.4963 - val_accuracy: 0.8024\n",
            "Epoch 10/10\n",
            "282/282 [==============================] - 186s 647ms/step - loss: 1.5357 - accuracy: 0.6958 - val_loss: 1.4678 - val_accuracy: 0.8034\n"
          ],
          "name": "stdout"
        },
        {
          "output_type": "display_data",
          "data": {
            "text/html": [
              "<br/>Waiting for W&B process to finish, PID 6052<br/>Program ended successfully."
            ],
            "text/plain": [
              "<IPython.core.display.HTML object>"
            ]
          },
          "metadata": {
            "tags": []
          }
        },
        {
          "output_type": "display_data",
          "data": {
            "application/vnd.jupyter.widget-view+json": {
              "model_id": "eeacc18b46e84e5783afe99642827a7d",
              "version_minor": 0,
              "version_major": 2
            },
            "text/plain": [
              "VBox(children=(Label(value=' 91.59MB of 91.59MB uploaded (0.00MB deduped)\\r'), FloatProgress(value=1.0, max=1.…"
            ]
          },
          "metadata": {
            "tags": []
          }
        },
        {
          "output_type": "display_data",
          "data": {
            "text/html": [
              "Find user logs for this run at: <code>/content/wandb/run-20210414_141351-6xmht4kn/logs/debug.log</code>"
            ],
            "text/plain": [
              "<IPython.core.display.HTML object>"
            ]
          },
          "metadata": {
            "tags": []
          }
        },
        {
          "output_type": "display_data",
          "data": {
            "text/html": [
              "Find internal logs for this run at: <code>/content/wandb/run-20210414_141351-6xmht4kn/logs/debug-internal.log</code>"
            ],
            "text/plain": [
              "<IPython.core.display.HTML object>"
            ]
          },
          "metadata": {
            "tags": []
          }
        },
        {
          "output_type": "display_data",
          "data": {
            "text/html": [
              "<h3>Run summary:</h3><br/><style>\n",
              "    table.wandb td:nth-child(1) { padding: 0 10px; text-align: right }\n",
              "    </style><table class=\"wandb\">\n",
              "<tr><td>epoch</td><td>9</td></tr><tr><td>loss</td><td>1.53126</td></tr><tr><td>accuracy</td><td>0.69581</td></tr><tr><td>val_loss</td><td>1.46782</td></tr><tr><td>val_accuracy</td><td>0.80339</td></tr><tr><td>_runtime</td><td>1891</td></tr><tr><td>_timestamp</td><td>1618411522</td></tr><tr><td>_step</td><td>9</td></tr><tr><td>best_val_loss</td><td>1.46782</td></tr><tr><td>best_epoch</td><td>9</td></tr></table>"
            ],
            "text/plain": [
              "<IPython.core.display.HTML object>"
            ]
          },
          "metadata": {
            "tags": []
          }
        },
        {
          "output_type": "display_data",
          "data": {
            "text/html": [
              "<h3>Run history:</h3><br/><style>\n",
              "    table.wandb td:nth-child(1) { padding: 0 10px; text-align: right }\n",
              "    </style><table class=\"wandb\">\n",
              "<tr><td>epoch</td><td>▁▂▃▃▄▅▆▆▇█</td></tr><tr><td>loss</td><td>█▇▆▅▄▃▂▁▁▁</td></tr><tr><td>accuracy</td><td>▁▇████████</td></tr><tr><td>val_loss</td><td>█▇▆▅▄▂▂▂▁▁</td></tr><tr><td>val_accuracy</td><td>▁▄▅▅▅▇▇███</td></tr><tr><td>_runtime</td><td>▁▂▃▃▄▅▆▆▇█</td></tr><tr><td>_timestamp</td><td>▁▂▃▃▄▅▆▆▇█</td></tr><tr><td>_step</td><td>▁▂▃▃▄▅▆▆▇█</td></tr></table><br/>"
            ],
            "text/plain": [
              "<IPython.core.display.HTML object>"
            ]
          },
          "metadata": {
            "tags": []
          }
        },
        {
          "output_type": "display_data",
          "data": {
            "text/html": [
              "Synced 5 W&B file(s), 1 media file(s), 0 artifact file(s) and 1 other file(s)"
            ],
            "text/plain": [
              "<IPython.core.display.HTML object>"
            ]
          },
          "metadata": {
            "tags": []
          }
        },
        {
          "output_type": "display_data",
          "data": {
            "text/html": [
              "\n",
              "                    <br/>Synced <strong style=\"color:#cdcd00\">electric-sweep-16</strong>: <a href=\"https://wandb.ai/srijan_gupta/uncategorized/runs/6xmht4kn\" target=\"_blank\">https://wandb.ai/srijan_gupta/uncategorized/runs/6xmht4kn</a><br/>\n",
              "                "
            ],
            "text/plain": [
              "<IPython.core.display.HTML object>"
            ]
          },
          "metadata": {
            "tags": []
          }
        },
        {
          "output_type": "stream",
          "text": [
            "\u001b[34m\u001b[1mwandb\u001b[0m: Sweep Agent: Waiting for job.\n",
            "\u001b[34m\u001b[1mwandb\u001b[0m: Sweep Agent: Exiting.\n"
          ],
          "name": "stderr"
        }
      ]
    }
  ]
}