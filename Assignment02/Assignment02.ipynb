{
  "nbformat": 4,
  "nbformat_minor": 0,
  "metadata": {
    "kernelspec": {
      "display_name": "Python 3",
      "language": "python",
      "name": "python3"
    },
    "language_info": {
      "codemirror_mode": {
        "name": "ipython",
        "version": 3
      },
      "file_extension": ".py",
      "mimetype": "text/x-python",
      "name": "python",
      "nbconvert_exporter": "python",
      "pygments_lexer": "ipython3",
      "version": "3.6.4"
    },
    "colab": {
      "name": "Assignment02.ipynb",
      "provenance": []
    }
  },
  "cells": [
    {
      "cell_type": "markdown",
      "metadata": {
        "id": "LPsIsly4Rx8z"
      },
      "source": [
        "# 1. Imports and Definitions"
      ]
    },
    {
      "cell_type": "markdown",
      "metadata": {
        "id": "AjpSp-KNRx9L"
      },
      "source": [
        "## Library Downloads"
      ]
    },
    {
      "cell_type": "code",
      "metadata": {
        "id": "pMk1xVPhRx9O"
      },
      "source": [
        "!pip install -q keras wandb"
      ],
      "execution_count": null,
      "outputs": []
    },
    {
      "cell_type": "markdown",
      "metadata": {
        "id": "ndTa89z1Rx9S"
      },
      "source": [
        "## Imports"
      ]
    },
    {
      "cell_type": "code",
      "metadata": {
        "id": "idLcjjSRRx9V"
      },
      "source": [
        "from keras import (Input as ksInp, Sequential as ksSeq, layers as ksl, optimizers as kso)\n",
        "from json import load as json_load\n",
        "import wandb\n",
        "from wandb.keras import WandbCallback as WandbCallback"
      ],
      "execution_count": null,
      "outputs": []
    },
    {
      "cell_type": "markdown",
      "metadata": {
        "id": "DDnOiiweRx9Y"
      },
      "source": [
        "## Helper Functions"
      ]
    },
    {
      "cell_type": "code",
      "metadata": {
        "id": "MLUZtIwvRx9c"
      },
      "source": [
        "def optparse(opt):\n",
        "  ret = str(opt[\"type\"])+'('\n",
        "  for kwarg in opt:\n",
        "    if kwarg != \"type\": ret += str(kwarg)+'='+str(opt[kwarg])+','\n",
        "  return ret[:-1]+')'"
      ],
      "execution_count": null,
      "outputs": []
    },
    {
      "cell_type": "markdown",
      "metadata": {
        "id": "AIN0euFWRx9f"
      },
      "source": [
        "# 2. Harness Functions"
      ]
    },
    {
      "cell_type": "code",
      "metadata": {
        "id": "9ETnXGs3Rx9h"
      },
      "source": [
        "# create config object for WandB sweep (general architecture)\n",
        "def configForWandbSweep():\n",
        "  wcfg = wandb.config\n",
        "  config = { \"layers\": [{\n",
        "    \"type\": \"input\", \n",
        "    \"size\": wcfg.input_size\n",
        "  }] }\n",
        "\n",
        "  #i=1\n",
        "  while True:\n",
        "    try:\n",
        "      config[\"layers\"].append({})\n",
        "      # need string-based execution for general architecture\n",
        "      # proceeding with specific architecture suggested for A2\n",
        "    except KeyError: break\n",
        "\n",
        "# create config object for WandB sweep (Assignment 2 architecture)\n",
        "def configForA2WandbSweep():\n",
        "  wcfg = wandb.config\n",
        "  return { \"layers\": [\n",
        "    {\n",
        "      \"type\": \"input\", \n",
        "      \"size\": wcfg.input_size\n",
        "    },\n",
        "    {\n",
        "      \"type\": \"conv\",\n",
        "      \"filter_num\": wcfg.layer_1_filter_num,\n",
        "      \"filter_size\": wcfg.layer_1_filter_size,\n",
        "      \"activation\": wcfg.layer_1_activation\n",
        "    },\n",
        "    {\n",
        "      \"type\": \"pool\",\n",
        "      \"size\": wcfg.layer_1_pool_size\n",
        "    },\n",
        "    {\n",
        "      \"type\": \"conv\",\n",
        "      \"filter_num\": wcfg.layer_2_filter_num,\n",
        "      \"filter_size\": wcfg.layer_2_filter_size,\n",
        "      \"activation\": wcfg.layer_2_activation\n",
        "    },\n",
        "    {\n",
        "      \"type\": \"pool\",\n",
        "      \"size\": wcfg.layer_2_pool_size\n",
        "    },\n",
        "    {\n",
        "      \"type\": \"conv\",\n",
        "      \"filter_num\": wcfg.layer_3_filter_num,\n",
        "      \"filter_size\": wcfg.layer_3_filter_size,\n",
        "      \"activation\": wcfg.layer_3_activation\n",
        "    },\n",
        "    {\n",
        "      \"type\": \"pool\",\n",
        "      \"size\": wcfg.layer_3_pool_size\n",
        "    },\n",
        "    {\n",
        "      \"type\": \"conv\",\n",
        "      \"filter_num\": wcfg.layer_4_filter_num,\n",
        "      \"filter_size\": wcfg.layer_4_filter_size,\n",
        "      \"activation\": wcfg.layer_4_activation\n",
        "    },\n",
        "    {\n",
        "      \"type\": \"pool\",\n",
        "      \"size\": wcfg.layer_4_pool_size\n",
        "    },\n",
        "    {\n",
        "      \"type\": \"conv\",\n",
        "      \"filter_num\": wcfg.layer_5_filter_num,\n",
        "      \"filter_size\": wcfg.layer_5_filter_size,\n",
        "      \"activation\": wcfg.layer_5_activation\n",
        "    },\n",
        "    {\n",
        "      \"type\": \"pool\",\n",
        "      \"size\": wcfg.layer_5_pool_size\n",
        "    },\n",
        "    {\n",
        "      \"type\": \"flatten\"\n",
        "    },\n",
        "    {\n",
        "      \"type\": \"fc\",\n",
        "      \"size\": wcfg.layer_6_size,\n",
        "      \"activation\": wcfg.layer_6_activation\n",
        "    },\n",
        "    {\n",
        "      \"type\": \"fc\",\n",
        "      \"size\": wcfg.layer_7_size,\n",
        "      \"activation\": wcfg.layer_7_activation\n",
        "    }\n",
        "    #* add dropout at strategic location\n",
        "    ],\n",
        "    \"opt\": wcfg.optimizer,\n",
        "    \"loss\": wcfg.loss,\n",
        "    \"trainparams\": {\n",
        "      \"epochs\": wcfg.epochs,\n",
        "      \"batch_size\": wcfg.btch_size,\n",
        "      \"val_split\": wcfg.val_split\n",
        "    },\n",
        "    \"wandb\": 1\n",
        "  }\n",
        "\n",
        "# create config object from JSON file\n",
        "def configFromJSON(arg):\n",
        "  # input checks\n",
        "  argtype = type(arg).__name__\n",
        "  config = None\n",
        "  if   argtype==\"str\":\n",
        "    config = json_load(open(arg,'r')) #* add failsafe\n",
        "  elif argtype==\"TextIOWrapper\":\n",
        "    config = json_load(arg)\n",
        "  elif argtype==\"dict\":\n",
        "    config = arg\n",
        "  return config\n",
        "\n",
        "# initialize model from JSON-style config object\n",
        "def initModel(config):\n",
        "  # create layer list\n",
        "  layers = []\n",
        "\n",
        "  for lconf in config[\"layers\"]:\n",
        "    ltype = lconf[\"type\"]\n",
        "    if   ltype==\"input\":\n",
        "      layers.append(ksInp( \n",
        "        shape = lconf[\"size\"]\n",
        "      ) )\n",
        "    \n",
        "    elif ltype==\"conv\":\n",
        "      layers.append( ksl.Conv2D( \n",
        "        lconf[\"filter_num\"],\n",
        "        lconf[\"filter_size\"], \n",
        "        activation = lconf[\"activation\"] \n",
        "      ) )\n",
        "    \n",
        "    elif ltype==\"pool\":\n",
        "      layers.append( ksl.MaxPooling2D( \n",
        "        pool_size=lconf[\"size\"] \n",
        "      ) )\n",
        "    \n",
        "    elif ltype==\"fc\":\n",
        "      layers.append( ksl.Dense( \n",
        "        lconf[\"size\"], \n",
        "        activation = lconf[\"activation\"]\n",
        "      ) )\n",
        "    \n",
        "    elif ltype==\"flatten\":\n",
        "      layers.append( ksl.Flatten() )\n",
        "    \n",
        "    elif ltype==\"dropout\":\n",
        "      layers.append( ksl.Dropout(\n",
        "        lconf[\"fraction\"]\n",
        "      ) )\n",
        "\n",
        "  model = ksSeq( layers )\n",
        "\n",
        "  # compile and return model for given hyperparameters\n",
        "  opt = None\n",
        "  exec( \"opt=kso.\" + config[\"optimizer\"] ) #* revise based on final storage pattern used\n",
        "  model.compile( optimizer = opt, loss = config[\"loss\"], metrics = [\"accuracy\"])\n",
        "  return model\n",
        "\n",
        "def trainingRun(config, xdata, ydata):\n",
        "  model = initModel(config)\n",
        "  tp = config[\"trainparams\"]\n",
        "\n",
        "  # set up WandB callback to train function\n",
        "  callbacks=[]\n",
        "  \n",
        "  try:\n",
        "    if config[\"wandb\"]:\n",
        "      callbacks.append(\n",
        "        WandbCallback(\n",
        "          monitor=\"val_loss\" #* add generator for dataset-aug. and batch normalization\n",
        "        )\n",
        "      )\n",
        "    else: print(\"Warning: not using WandB\")\n",
        "  except KeyError: print(\"Warning: not using WandB\")\n",
        "  \n",
        "  # run training loop for given number of epochs\n",
        "  model.train(xdata, ydata, batch_size = tp[\"batch_size\"], epochs = tp[\"epochs\"], validation_split = tp[\"val_split\"], callbacks = callbacks)\n",
        "\n",
        "def runWandbSweep(sweep=True):\n",
        "  run_config = configForWandbSweep()# if sweep else configFromJSON(\"nn.json\")\n",
        "  trainingRun(run_config)\n",
        "#* add data flattening/reshaping functions"
      ],
      "execution_count": null,
      "outputs": []
    },
    {
      "cell_type": "markdown",
      "metadata": {
        "id": "QU7R576ERx9m"
      },
      "source": [
        "# 3. Dataset Initialization and Reshaping"
      ]
    },
    {
      "cell_type": "code",
      "metadata": {
        "id": "9ROfcPYHRx9p"
      },
      "source": [
        "pass"
      ],
      "execution_count": null,
      "outputs": []
    },
    {
      "cell_type": "markdown",
      "metadata": {
        "id": "XxS8QbK1Rx9v"
      },
      "source": [
        "# 4. Running A Configuration"
      ]
    },
    {
      "cell_type": "code",
      "metadata": {
        "id": "RYFxn_7TRx9w"
      },
      "source": [
        "wandb.init() #* put project name\n",
        "run_config = configFromJSON(\"nn.json\")\n",
        "trainingRun(run_config)"
      ],
      "execution_count": null,
      "outputs": []
    },
    {
      "cell_type": "markdown",
      "metadata": {
        "id": "JDdKfRtDRx9x"
      },
      "source": [
        "# 5. Sweeps"
      ]
    },
    {
      "cell_type": "code",
      "metadata": {
        "id": "JxVtVxNlRx9y"
      },
      "source": [
        "wandbSweepCfg = {\n",
        "  \"name\":\"iNaturalist Parameter Sweep\", \n",
        "  \"metric\":{\n",
        "    \"name\":\"val_loss\",\n",
        "    \"goal\":\"minimize\"\n",
        "  }, \n",
        "  \"method\": \"bayes\", \n",
        "  \"parameters\":{\n",
        "    # input parameters\n",
        "    \"input_size\": { \"values\" : [[217, 217]] },\n",
        "\n",
        "    # layer parameters\n",
        "    \"layer_1_filter_num\": { \"values\": [5,10,20] },\n",
        "    \"layer_1_filter_size\": { \"values\": [3,5,7] },\n",
        "    \"layer_1_activation\": { \"values\": [\"relu\"] },\n",
        "    \"layer_1_pool_size\": { \"values\": [2,3,4] },\n",
        "\n",
        "    \"layer_2_filter_num\": { \"values\": [5,10,20] },\n",
        "    \"layer_2_filter_size\": { \"values\": [3,5,7] },\n",
        "    \"layer_2_activation\": { \"values\": [\"relu\"] },\n",
        "    \"layer_2_pool_size\": { \"values\": [2,3,4] },\n",
        "\n",
        "    \"layer_3_filter_num\": { \"values\": [5,10,20] },\n",
        "    \"layer_3_filter_size\": { \"values\": [3,5,7] },\n",
        "    \"layer_3_activation\": { \"values\": [\"relu\"] },\n",
        "    \"layer_3_pool_size\": { \"values\": [2,3,4] },\n",
        "\n",
        "    \"layer_4_filter_num\": { \"values\": [5,10,20] },\n",
        "    \"layer_4_filter_size\": { \"values\": [3,5,7] },\n",
        "    \"layer_4_activation\": { \"values\": [\"relu\"] },\n",
        "    \"layer_4_pool_size\": { \"values\": [2,3,4] },\n",
        "\n",
        "    \"layer_5_filter_num\": { \"values\": [5,10,20] },\n",
        "    \"layer_5_filter_size\": { \"values\": [3,5,7] },\n",
        "    \"layer_5_activation\": { \"values\": [\"relu\"] },\n",
        "    \"layer_5_pool_size\": { \"values\": [2,3,4] },\n",
        "\n",
        "    \"layer_6_size\": { \"values\": [256, 512, 1024] },\n",
        "    \"layer_6_activation\": { \"values\": [\"tanh\"] },\n",
        "\n",
        "    \"layer_7_size\": { \"values\": [10] },\n",
        "    \"layer_7_activation\": { \"values\": [\"softmax\"] },\n",
        "\n",
        "    # optimizer and loss\n",
        "    \"optimizer\": { \"values\": [\"SGD(lr=0.01, momentum=0.9)\"] },\n",
        "    \"loss\": { \"values\": [\"categorical_crossentropy\"] },\n",
        "\n",
        "    # training parameters\n",
        "    \"epochs\": { \"values\":[25] },\n",
        "    \"batch_size\": { \"values\":[32, 64] },\n",
        "    \"val_split\": { \"values\": [0.1] },\n",
        "  }\n",
        "}\n",
        "\n",
        "sweepId = wandb.sweep(wandbSweepCfg)\n",
        "wandb.agent(sweepId, function = runWandbSweep)"
      ],
      "execution_count": null,
      "outputs": []
    }
  ]
}