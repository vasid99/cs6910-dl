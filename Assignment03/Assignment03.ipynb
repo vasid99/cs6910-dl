{
  "nbformat": 4,
  "nbformat_minor": 0,
  "metadata": {
    "colab": {
      "name": "Assignment03_Krish.ipynb",
      "provenance": [],
      "collapsed_sections": []
    },
    "kernelspec": {
      "name": "python3",
      "display_name": "Python 3"
    },
    "language_info": {
      "name": "python"
    }
  },
  "cells": [
    {
      "cell_type": "code",
      "metadata": {
        "id": "PATZzAYvjFKg"
      },
      "source": [
        "import pandas as pd\n",
        "import numpy as np\n",
        "import tensorflow as tf\n",
        "ks = tf.keras"
      ],
      "execution_count": 82,
      "outputs": []
    },
    {
      "cell_type": "code",
      "metadata": {
        "id": "Zi5rn-e7m25n"
      },
      "source": [
        "from google.colab import drive\n",
        "drive.mount(\"/content/drive\")"
      ],
      "execution_count": null,
      "outputs": []
    },
    {
      "cell_type": "code",
      "metadata": {
        "id": "M3fjeYakm8cl"
      },
      "source": [
        "basepath = \"/content/drive/MyDrive/Sem_8/dl-datasets/dakshina_dataset_v1.0/hi/lexicons\"\n",
        "\n",
        "col_names = ['Dev.','Roman','att.']\n",
        "STARTCHAR = '\\t'\n",
        "ENDCHAR   = '\\n'\n",
        "\n",
        "def read_as_array(path):\n",
        "  data = pd.read_csv(path, sep='\\t', names=col_names).drop_duplicates(subset=\"Dev.\").dropna()\n",
        "  data['Dev.'] = STARTCHAR + data['Dev.'] + ENDCHAR\n",
        "  return np.array(data)[:,:2]\n",
        "\n",
        "train_data = read_as_array(basepath+\"/hi.translit.sampled.train.tsv\")\n",
        "val_data   = read_as_array(basepath+\"/hi.translit.sampled.dev.tsv\")\n",
        "test_data  = read_as_array(basepath+\"/hi.translit.sampled.test.tsv\")"
      ],
      "execution_count": 84,
      "outputs": []
    },
    {
      "cell_type": "code",
      "metadata": {
        "id": "FBFXE2gbv9tw"
      },
      "source": [
        "input_vocab = set()\n",
        "target_vocab = set()\n",
        "\n",
        "for i in range(len(train_data)):\n",
        "  for char in train_data[i,1]:\n",
        "    input_vocab.add(char)\n",
        "  for char in train_data[i,0]:\n",
        "    target_vocab.add(char)\n",
        "\n",
        "input_vocab  = [''] + sorted(list(input_vocab))\n",
        "target_vocab = [''] + sorted(list(target_vocab))\n",
        "\n",
        "len_input_vocab  = len(input_vocab)\n",
        "len_target_vocab = len(target_vocab)\n",
        "\n",
        "input_dict  = dict([ (char, i) for i, char in enumerate(input_vocab)])\n",
        "target_dict = dict([ (char, i) for i, char in enumerate(target_vocab)])\n",
        "\n",
        "max_len_input  = max([ len(word) for data in [train_data[:,1], val_data[:,1], test_data[:,1]] for word in data ])\n",
        "max_len_target = max([ len(word) for data in [train_data[:,0], val_data[:,0], test_data[:,0]] for word in data ])"
      ],
      "execution_count": 85,
      "outputs": []
    },
    {
      "cell_type": "code",
      "metadata": {
        "id": "0Mi7OBsT8hDA"
      },
      "source": [
        "def encode_char_to_num(data):\n",
        "  enc_inp = np.zeros((data.shape[0], max_len_input), dtype=\"float32\")\n",
        "  dec_inp = np.zeros((data.shape[0], max_len_target), dtype=\"float32\")\n",
        "  dec_tgt = np.zeros((data.shape[0], max_len_target), dtype=\"float32\")\n",
        "  dec_tgt_onehot = np.zeros((data.shape[0], max_len_target, len_target_vocab), dtype=\"float32\")\n",
        "\n",
        "  for i, (target_word, input_word) in enumerate(data):\n",
        "      for j, ch in enumerate(input_word):\n",
        "          enc_inp[i,j] = input_dict[ch]\n",
        "      for j, ch in enumerate(target_word):\n",
        "          dec_inp[i,j] = target_dict[ch]\n",
        "  dec_tgt[:,:-1] = dec_inp[:,1:]\n",
        "  for i in range(len_target_vocab): dec_tgt_onehot[:,:,i] = dec_tgt[:,:]==i\n",
        "\n",
        "  return enc_inp, dec_inp, dec_tgt_onehot\n",
        "\n",
        "enc_in_train_idxd, dec_in_train_idxd, dec_targ_train_idxd = encode_char_to_num(train_data)\n",
        "enc_in_val_idxd, dec_in_val_idxd, dec_targ_val_idxd       = encode_char_to_num(val_data)\n",
        "enc_in_test_idxd, dec_in_test_idxd, dec_targ_test_idxd    = encode_char_to_num(test_data)"
      ],
      "execution_count": 93,
      "outputs": []
    },
    {
      "cell_type": "code",
      "metadata": {
        "id": "qjhsuXPfDS4m"
      },
      "source": [
        "epochs = 100\n",
        "latent_dim = 256\n",
        "batch_size = 32\n",
        "embed_size = 16\n",
        "\n",
        "#Building the model\n",
        "\n",
        "# Encoder\n",
        "encoder_input = ks.Input(shape=(None,))\n",
        "encoder_embedded = ks.layers.Embedding(len_input_vocab+1, embed_size, mask_zero=True)(encoder_input)\n",
        "encoder_output, state_h, state_c = ks.layers.LSTM(latent_dim, return_state=True)(encoder_embedded)\n",
        "\n",
        "encoder_states = [state_h, state_c]\n",
        "\n",
        "# Decoder\n",
        "decoder_input = ks.Input(shape=(None,))\n",
        "decoder_embedded = ks.layers.Embedding(len_target_vocab+1, embed_size, mask_zero=True)(decoder_input)\n",
        "decoder_lstm, _, _ = ks.layers.LSTM(latent_dim, return_sequences=True, return_state=True)(\n",
        "    decoder_embedded, initial_state=encoder_states\n",
        ")\n",
        "decoder_output = ks.layers.Dense(len_target_vocab, activation=\"softmax\")(decoder_lstm)\n",
        "\n",
        "# The Model\n",
        "model = ks.Model([encoder_input, decoder_input], decoder_output)"
      ],
      "execution_count": 94,
      "outputs": []
    },
    {
      "cell_type": "code",
      "metadata": {
        "colab": {
          "base_uri": "https://localhost:8080/"
        },
        "id": "DyJ49BAKXDQu",
        "outputId": "36148363-edc8-44d5-e07d-ed52273ea53d"
      },
      "source": [
        "model.summary()"
      ],
      "execution_count": 95,
      "outputs": [
        {
          "output_type": "stream",
          "text": [
            "Model: \"model_8\"\n",
            "__________________________________________________________________________________________________\n",
            "Layer (type)                    Output Shape         Param #     Connected to                     \n",
            "==================================================================================================\n",
            "input_20 (InputLayer)           [(None, None)]       0                                            \n",
            "__________________________________________________________________________________________________\n",
            "input_21 (InputLayer)           [(None, None)]       0                                            \n",
            "__________________________________________________________________________________________________\n",
            "embedding_19 (Embedding)        (None, None, 16)     448         input_20[0][0]                   \n",
            "__________________________________________________________________________________________________\n",
            "embedding_20 (Embedding)        (None, None, 16)     1072        input_21[0][0]                   \n",
            "__________________________________________________________________________________________________\n",
            "lstm_19 (LSTM)                  [(None, 256), (None, 279552      embedding_19[0][0]               \n",
            "__________________________________________________________________________________________________\n",
            "lstm_20 (LSTM)                  [(None, None, 256),  279552      embedding_20[0][0]               \n",
            "                                                                 lstm_19[0][1]                    \n",
            "                                                                 lstm_19[0][2]                    \n",
            "__________________________________________________________________________________________________\n",
            "dense_8 (Dense)                 (None, None, 66)     16962       lstm_20[0][0]                    \n",
            "==================================================================================================\n",
            "Total params: 577,586\n",
            "Trainable params: 577,586\n",
            "Non-trainable params: 0\n",
            "__________________________________________________________________________________________________\n"
          ],
          "name": "stdout"
        }
      ]
    },
    {
      "cell_type": "code",
      "metadata": {
        "id": "ET4ji9GkYz0W"
      },
      "source": [
        "#Training the model\n",
        "model.compile(\n",
        "    optimizer=\"rmsprop\", loss=\"categorical_crossentropy\", metrics=[\"accuracy\"]\n",
        ")\n",
        "\n",
        "model.fit(\n",
        "    [enc_in_train_idxd, dec_in_train_idxd],\n",
        "    dec_targ_train_idxd,\n",
        "    batch_size=batch_size,\n",
        "    epochs=epochs,\n",
        "    validation_data=( [enc_in_val_idxd, dec_in_val_idxd], dec_targ_val_idxd )\n",
        ")"
      ],
      "execution_count": null,
      "outputs": []
    }
  ]
}