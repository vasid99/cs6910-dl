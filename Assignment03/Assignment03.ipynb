{
  "nbformat": 4,
  "nbformat_minor": 0,
  "metadata": {
    "colab": {
      "name": "Assignment03_5_post_beam_search_xat.ipynb",
      "provenance": [],
      "collapsed_sections": [
        "3DhFtI8H5AIC",
        "3-NFLIXk51NL",
        "HR2_cz6vUimT",
        "Z8_vhwvv7W4y",
        "L9C9Owb48Fe9"
      ]
    },
    "kernelspec": {
      "display_name": "Python 3",
      "name": "python3"
    },
    "language_info": {
      "name": "python"
    }
  },
  "cells": [
    {
      "cell_type": "markdown",
      "metadata": {
        "id": "0idENJUy464K"
      },
      "source": [
        "# Imports"
      ]
    },
    {
      "cell_type": "code",
      "metadata": {
        "id": "BOuJdDvYDbv8"
      },
      "source": [
        "!pip install -q wandb"
      ],
      "execution_count": null,
      "outputs": []
    },
    {
      "cell_type": "code",
      "metadata": {
        "id": "PATZzAYvjFKg"
      },
      "source": [
        "import numpy as np\n",
        "import pandas as pd\n",
        "\n",
        "import json\n",
        "import datetime\n",
        "tz_ist = datetime.timezone(datetime.timedelta(hours=5, minutes=30))\n",
        "timestr = lambda fmt:datetime.datetime.now(tz=tz_ist).strftime(fmt)\n",
        "\n",
        "import tensorflow as tf\n",
        "ks = tf.keras\n",
        "\n",
        "import matplotlib.pyplot as plt\n",
        "\n",
        "#import wandb"
      ],
      "execution_count": null,
      "outputs": []
    },
    {
      "cell_type": "code",
      "metadata": {
        "id": "Zi5rn-e7m25n"
      },
      "source": [
        "from google.colab import drive\n",
        "drive.mount(\"/content/drive\")"
      ],
      "execution_count": null,
      "outputs": []
    },
    {
      "cell_type": "markdown",
      "metadata": {
        "id": "3DhFtI8H5AIC"
      },
      "source": [
        "# Dataset Loading, Characteristic Extraction and Reshaping"
      ]
    },
    {
      "cell_type": "code",
      "metadata": {
        "id": "M3fjeYakm8cl"
      },
      "source": [
        "basepath = \"/content/drive/MyDrive/Sem_8/dl-datasets/dakshina_dataset_v1.0/hi/lexicons\"\n",
        "\n",
        "col_names = ['Dev.','Roman','att.']\n",
        "STARTCHAR = '\\t'\n",
        "ENDCHAR   = '\\n'\n",
        "\n",
        "def read_as_array(path):\n",
        "  data = pd.read_csv(path, sep='\\t', names=col_names).drop_duplicates(subset=\"Dev.\").dropna()\n",
        "  data['Dev.'] = STARTCHAR + data['Dev.'] + ENDCHAR\n",
        "  return np.array(data)[:,:2]\n",
        "\n",
        "train_data = read_as_array(basepath+\"/hi.translit.sampled.train.tsv\")\n",
        "val_data   = read_as_array(basepath+\"/hi.translit.sampled.dev.tsv\")\n",
        "test_data  = read_as_array(basepath+\"/hi.translit.sampled.test.tsv\")"
      ],
      "execution_count": null,
      "outputs": []
    },
    {
      "cell_type": "code",
      "metadata": {
        "id": "FBFXE2gbv9tw"
      },
      "source": [
        "input_vocab = set()\n",
        "target_vocab = set()\n",
        "\n",
        "for i in range(len(train_data)):\n",
        "  for char in train_data[i,1]:\n",
        "    input_vocab.add(char)\n",
        "  for char in train_data[i,0]:\n",
        "    target_vocab.add(char)\n",
        "\n",
        "input_vocab  = [''] + sorted(list(input_vocab))\n",
        "target_vocab = [''] + sorted(list(target_vocab))\n",
        "\n",
        "len_input_vocab  = len(input_vocab)\n",
        "len_target_vocab = len(target_vocab)\n",
        "\n",
        "input_dict  = dict([ (char, i) for i, char in enumerate(input_vocab)])\n",
        "target_dict = dict([ (char, i) for i, char in enumerate(target_vocab)])\n",
        "\n",
        "max_len_input  = max([ len(word) for data in [train_data[:,1], val_data[:,1], test_data[:,1]] for word in data ])\n",
        "max_len_target = max([ len(word) for data in [train_data[:,0], val_data[:,0], test_data[:,0]] for word in data ])"
      ],
      "execution_count": null,
      "outputs": []
    },
    {
      "cell_type": "code",
      "metadata": {
        "id": "0Mi7OBsT8hDA"
      },
      "source": [
        "def str_to_numarray(strs, output_size, charmap):\n",
        "  ret = np.zeros((len(strs), output_size), dtype=\"float32\")\n",
        "  for i, s in enumerate(strs):\n",
        "    for j, ch in enumerate(s): ret[i,j] = charmap[ch]\n",
        "  return ret\n",
        "\n",
        "def vectorize_dataset(data):\n",
        "  # inputs\n",
        "  enc_inp = str_to_numarray(data[:,1], max_len_input, input_dict)\n",
        "  dec_inp = str_to_numarray(data[:,0], max_len_target, target_dict)\n",
        "  \n",
        "  # targets\n",
        "  dec_tgt = np.pad(dec_inp[:,1:],((0,0),(0,1)))\n",
        "  dec_tgt_onehot = np.zeros((data.shape[0], max_len_target, len_target_vocab), dtype=\"float32\")\n",
        "  for i in range(len_target_vocab): dec_tgt_onehot[:,:,i] = dec_tgt[:,:]==i\n",
        "  \n",
        "  return enc_inp, dec_inp, dec_tgt_onehot\n",
        "\n",
        "enc_inp_train, dec_inp_train, dec_tgt_train_onehot = vectorize_dataset(train_data)\n",
        "enc_inp_val,   dec_inp_val,   dec_tgt_val_onehot   = vectorize_dataset(val_data)\n",
        "enc_inp_test,  dec_inp_test,  dec_tgt_test_onehot  = vectorize_dataset(test_data)"
      ],
      "execution_count": null,
      "outputs": []
    },
    {
      "cell_type": "markdown",
      "metadata": {
        "id": "3-NFLIXk51NL"
      },
      "source": [
        "# Functions"
      ]
    },
    {
      "cell_type": "markdown",
      "metadata": {
        "id": "OYGzxCwa5asf"
      },
      "source": [
        "## Model Handling"
      ]
    },
    {
      "cell_type": "code",
      "metadata": {
        "id": "mKGB3v7LqKn0"
      },
      "source": [
        "DEFAULT_NETPARAMS = {\n",
        "    \"embed_size\": 16, \n",
        "    \"latent_dim\": 256, \n",
        "    \"enc_layers\": 1, \n",
        "    \"dec_layers\": 1, \n",
        "    \"recurrent_cell\": \"SimpleRNN\",\n",
        "    \"dec_attention\": False,\n",
        "    \"dropout\": 0, \n",
        "    \"beam_size\": 1, \n",
        "    \"enc_state_dep\": \"first\"\n",
        "}"
      ],
      "execution_count": null,
      "outputs": []
    },
    {
      "cell_type": "code",
      "metadata": {
        "id": "qjhsuXPfDS4m"
      },
      "source": [
        "def fresh_seq2seq_model(netparams):\n",
        "  \"\"\"\n",
        "  Creates and returns a randomly initialized model for the given set of network parameters\n",
        "  Input(s):\n",
        "    netparams: dictionary-like object containing network parameters\n",
        "  Output(s):\n",
        "    training_model: keras.Model object initialised for the passed network parameters\n",
        "  \"\"\"\n",
        "\n",
        "  # unpack network parameters\n",
        "  embed_size = netparams[\"embed_size\"]\n",
        "  latent_dim = netparams[\"latent_dim\"]\n",
        "  enc_layers = netparams[\"enc_layers\"]\n",
        "  dec_layers = netparams[\"dec_layers\"]\n",
        "  exec(\"rlexec=ks.layers.\"+netparams[\"recurrent_cell\"]); recurrent_cell = locals()[\"rlexec\"]\n",
        "  dec_attention = netparams[\"dec_attention\"]\n",
        "  dropout    = netparams[\"dropout\"]\n",
        "  enc_state_dep = netparams[\"enc_state_dep\"]\n",
        "\n",
        "  # encoder layers\n",
        "  encoder_input = ks.Input(shape=(None,), name=\"encoder_input\")\n",
        "  encoder_embedding = ks.layers.Embedding(len_input_vocab+1, embed_size, mask_zero=True, name=\"encoder_embedding\")\n",
        "  encoder_rnns = [recurrent_cell(latent_dim, return_sequences=True, return_state=True, dropout=dropout, name=\"encoder_rnn_\"+str(i)) for i in range(1,enc_layers+1)]\n",
        "\n",
        "  # encoder feedforward path\n",
        "  encoder_output = encoder_embedding(encoder_input)\n",
        "  for encoder_rnn in encoder_rnns:\n",
        "    encoder_ret = encoder_rnn(encoder_output)\n",
        "    encoder_output, encoder_state = encoder_ret[0], list(encoder_ret[1:])\n",
        "\n",
        "  # decoder layers\n",
        "  decoder_input = ks.Input(shape=(None,), name=\"decoder_input\")\n",
        "  decoder_embedding = ks.layers.Embedding(len_target_vocab+1, embed_size, mask_zero=True, name=\"decoder_embedding\")\n",
        "  decoder_rnns = [recurrent_cell(latent_dim, return_sequences=True, return_state=True, dropout=dropout, name=\"decoder_rnn_\"+str(i)) for i in range(1,dec_layers+1)]\n",
        "  if dec_attention:\n",
        "    decoder_attention = ks.layers.AdditiveAttention(name=\"decoder_attention\")\n",
        "    decoder_concat    = ks.layers.Concatenate(name=\"decoder_concat\")\n",
        "  decoder_dropout = ks.layers.Dropout(dropout, name=\"decoder_dropout\")\n",
        "  decoder_dense = ks.layers.Dense(len_target_vocab, activation=\"softmax\", name=\"decoder_dense\")\n",
        "\n",
        "  # decoder feedforward path\n",
        "  decoder_rnn_out = decoder_embedding(decoder_input)\n",
        "  for i,decoder_rnn in enumerate(decoder_rnns):\n",
        "    if enc_state_dep=='first':\n",
        "      decoder_state_input = encoder_state if i==0 else None\n",
        "    elif enc_state_dep=='all':\n",
        "      decoder_state_input = encoder_state\n",
        "    else:\n",
        "      decoder_state_input = None\n",
        "    decoder_ret = decoder_rnn(decoder_rnn_out, initial_state=decoder_state_input)\n",
        "    decoder_rnn_out = decoder_ret[0]\n",
        "  if dec_attention:\n",
        "    context_vec, attn_weights = decoder_attention([decoder_rnn_out, encoder_output], return_attention_scores=True)\n",
        "    decoder_dense_input = decoder_concat([decoder_rnn_out, context_vec])\n",
        "  else:\n",
        "    decoder_dense_input = decoder_rnn_out\n",
        "  decoder_dense_input = decoder_dropout(decoder_dense_input, training=True)\n",
        "  decoder_output = decoder_dense(decoder_dense_input)\n",
        "\n",
        "  model = ks.Model([encoder_input, decoder_input], decoder_output, name=\"training_model\")\n",
        "  model.netparams = netparams\n",
        "  return model"
      ],
      "execution_count": null,
      "outputs": []
    },
    {
      "cell_type": "code",
      "metadata": {
        "id": "3yPQp7N4mjoJ"
      },
      "source": [
        "def extract_inference_submodels(model):\n",
        "  \"\"\"\n",
        "  Extracts and reconstructs encoder and decoder models and returns them\n",
        "  Input(s):\n",
        "    inference_model: keras.Model object to perform inference on\n",
        "  Output(s):\n",
        "    encoder_model: keras.Model object for encoder part of input model\n",
        "    decoder_model: keras.Model object for decoder part of input model\n",
        "  \"\"\"\n",
        "  # get layer from name\n",
        "  layer_idxs = dict([(l.name,i) for i,l in enumerate(model.layers)])\n",
        "  layer_from_name = lambda s: model.layers[layer_idxs[s]]\n",
        "  \n",
        "  # unpack network parameters\n",
        "  netparams  = model.netparams\n",
        "  latent_dim = netparams[\"latent_dim\"]\n",
        "  enc_layers = netparams[\"enc_layers\"]\n",
        "  dec_layers = netparams[\"dec_layers\"]\n",
        "  dec_attention = netparams[\"dec_attention\"]\n",
        "  recurrent_cell_name = netparams[\"recurrent_cell\"]\n",
        "\n",
        "  # reconstructing encoder model\n",
        "    # inputs\n",
        "  encoder_model_input = layer_from_name(\"encoder_input\").input\n",
        "    # outputs\n",
        "  encoder_model_ret = layer_from_name(\"encoder_rnn_\"+str(enc_layers)).output\n",
        "  encoder_model_output, encoder_model_state_output = encoder_model_ret[0], list(encoder_model_ret[1:])\n",
        "    # model reconstruction\n",
        "  encoder_model = ks.Model(\n",
        "    encoder_model_input, \n",
        "    [encoder_model_output, encoder_model_state_output], \n",
        "    name=\"encoder_model\"\n",
        "  )\n",
        "\n",
        "  # reconstructing decoder model\n",
        "    # inputs\n",
        "  decoder_model_input  = layer_from_name(\"decoder_input\").input\n",
        "  decoder_model_encoder_output = ks.Input(shape=(max_len_input,latent_dim,), name=\"decoder_encoder_output\")\n",
        "  decoder_model_state_input  = []\n",
        "    # outputs\n",
        "  decoder_model_output = layer_from_name(\"decoder_embedding\")(decoder_model_input)\n",
        "  decoder_model_state_output = []\n",
        "    # model reconstruction\n",
        "  for dec_layer in range(1,dec_layers+1):\n",
        "    decoder_model_state_input.append(\n",
        "        [ks.Input(shape=(latent_dim,), name=\"decoder_state_h_\"+str(dec_layer)), ks.Input(shape=(latent_dim,), name=\"decoder_state_c_\"+str(dec_layer))] \n",
        "        if recurrent_cell_name==\"LSTM\" else [ks.Input(shape=(latent_dim,), name=\"decoder_state_\"+str(dec_layer))]\n",
        "    )\n",
        "    decoder_ret = layer_from_name(\"decoder_rnn_\"+str(dec_layer))(decoder_model_output, initial_state = decoder_model_state_input[-1])\n",
        "    decoder_model_output, decoder_model_state = decoder_ret[0], list(decoder_ret[1:])\n",
        "    decoder_model_state_output.append(decoder_model_state)\n",
        "    dec_layer += 1\n",
        "  if dec_attention:\n",
        "    decoder_model_context_vec, decoder_model_attention_weights = layer_from_name(\"decoder_attention\")([decoder_model_output, decoder_model_encoder_output], return_attention_scores=True)\n",
        "    decoder_model_output = layer_from_name(\"decoder_concat\")([decoder_model_output, decoder_model_context_vec])\n",
        "  decoder_model_output = layer_from_name(\"decoder_dropout\")(decoder_model_output, training=False)\n",
        "  decoder_model_output = layer_from_name(\"decoder_dense\")(decoder_model_output)\n",
        "  if dec_attention:\n",
        "    decoder_model = ks.Model(\n",
        "      [decoder_model_input, decoder_model_encoder_output, decoder_model_state_input], \n",
        "      [decoder_model_output, decoder_model_state_output, decoder_model_attention_weights], \n",
        "      name=\"decoder_model\"\n",
        "    )\n",
        "  else:\n",
        "    decoder_model = ks.Model(\n",
        "      [decoder_model_input, decoder_model_state_input], \n",
        "      [decoder_model_output, decoder_model_state_output], \n",
        "      name=\"decoder_model\"\n",
        "    )\n",
        "\n",
        "  encoder_model.netparams = netparams\n",
        "  decoder_model.netparams = netparams\n",
        "\n",
        "  return encoder_model, decoder_model"
      ],
      "execution_count": null,
      "outputs": []
    },
    {
      "cell_type": "markdown",
      "metadata": {
        "id": "wr5NvjJQmpRI"
      },
      "source": [
        "## Sequence Inference"
      ]
    },
    {
      "cell_type": "code",
      "metadata": {
        "id": "pPlBMUSgmxX6"
      },
      "source": [
        "def seq2seq(input_seq, models, **kwargs):\n",
        "  \"\"\"\n",
        "  Performs the seq2seq operation using trained models\n",
        "  Input(s):\n",
        "    input_seq: input sequences to be transformed\n",
        "    models: encoder and decoder models to be used\n",
        "  Output(s):\n",
        "    output_seq: transformed sequences\n",
        "    attn_weights: attention weights; pass return_attention_weights=True to return\n",
        "  \"\"\"\n",
        "  # Convert string input to numerical array\n",
        "  encoded_input_seq = str_to_numarray(input_seq, max_len_input, input_dict)\n",
        "  input_num = len(input_seq)\n",
        "\n",
        "  # Unpack testing model and its network parameters\n",
        "  encoder_model, decoder_model = models\n",
        "  netparams = decoder_model.netparams\n",
        "  latent_dim = netparams[\"latent_dim\"]\n",
        "  recurrent_cell_name = netparams[\"recurrent_cell\"]\n",
        "  dec_attention = netparams[\"dec_attention\"]\n",
        "  dec_layers = netparams[\"dec_layers\"]\n",
        "  enc_state_dep = netparams[\"enc_state_dep\"]\n",
        "  \n",
        "  # Run encoder model and create initial state for decoder\n",
        "  encoder_layer_out, encoder_states_out = encoder_model.predict(encoded_input_seq)\n",
        "  default_initial_state = [np.zeros((input_num,latent_dim))]*(2 if recurrent_cell_name==\"LSTM\" else 1)\n",
        "  if enc_state_dep=='first':\n",
        "    decoder_state = [encoder_states_out] + [default_initial_state]*(dec_layers-1)\n",
        "  elif enc_state_dep=='all':\n",
        "    decoder_state = [encoder_states_out] * dec_layers\n",
        "  else:\n",
        "    decoder_state = [default_initial_state] * dec_layers\n",
        "\n",
        "  # Sampling loop objects\n",
        "  target_seq = np.repeat(target_dict[STARTCHAR],input_num)\n",
        "  output_seq = ['']*input_num\n",
        "  attn_weights_lst = []\n",
        "\n",
        "  # Sampling loop for a batch of sequences\n",
        "  for i in range(max_len_target):\n",
        "    # Run decoder model to obtain output tokens data (and attention weights, if required)\n",
        "    if dec_attention:\n",
        "        output_tokens, decoder_state, attn_weights = decoder_model.predict([target_seq, encoder_layer_out, decoder_state])\n",
        "        attn_weights_lst.append(attn_weights)\n",
        "    else:\n",
        "        output_tokens, decoder_state = decoder_model.predict([target_seq, decoder_state])\n",
        "\n",
        "    # Sample a token for each output sequence\n",
        "    sampled_token_index = np.argmax(output_tokens[:, -1, :],axis=1) ## BEAM SEARCH GOES HERE\n",
        "    output_seq = list(map(lambda i:output_seq[i]+target_vocab[sampled_token_index[i]],range(input_num)))\n",
        "\n",
        "    # Update the target sequences\n",
        "    target_seq = np.array(sampled_token_index)\n",
        "  \n",
        "  # Remove extra characters (after first end character), and add start and end characters if requested\n",
        "  startchar = ''\n",
        "  if \"add_startchar\" in kwargs and kwargs[\"add_startchar\"]==True:\n",
        "    startchar = STARTCHAR\n",
        "  endchar = ''\n",
        "  if \"add_endchar\" in kwargs and kwargs[\"add_endchar\"]==True:\n",
        "    endchar = ENDCHAR\n",
        "  output_seq = np.array(list(map(lambda s:startchar+s.split(ENDCHAR)[0]+endchar,output_seq)),dtype='str')\n",
        "  \n",
        "  # Return outputs (and attention weights, if required)\n",
        "  if \"return_attention_weights\" in kwargs and kwargs[\"return_attention_weights\"]==True:\n",
        "    assert dec_attention, \"ERROR: given model does not contain attention layer(s)\"\n",
        "    return output_seq, attn_weights_lst\n",
        "  else:\n",
        "    return output_seq"
      ],
      "execution_count": null,
      "outputs": []
    },
    {
      "cell_type": "code",
      "metadata": {
        "id": "ELUqPzKXnAHV"
      },
      "source": [
        "def prediction_accuracy(data_pred, data_tgt):\n",
        "  \"\"\"\n",
        "  Calculates and returns accuracy of prediction based on teacher forcing\n",
        "  \"\"\"\n",
        "  assert len(data_pred)==len(data_tgt), \"predicted and target data dimensions don't match\"\n",
        "  correct_pred = np.zeros(len(data_pred), dtype=\"int\")\n",
        "  \n",
        "  correct_pred= data_pred==data_tgt\n",
        "\n",
        "  return np.sum(correct_pred)/len(data_pred)\n",
        "\n",
        "def transliterate_sentence(sentence, models):\n",
        "  \"\"\"\n",
        "  Transliterates sentence (letters+spaces) for the given inference models\n",
        "  Input(s):\n",
        "    sentence: input sentence to be transliterated\n",
        "    models: encoder and decoder models to be used\n",
        "  Output(s):\n",
        "    transliterated_sentence: transliterated output sentence\n",
        "  \"\"\"\n",
        "  inwords = np.array(sentence.split(' '))\n",
        "  outwords = seq2seq(inwords, inference_submodels)\n",
        "  \n",
        "  translated_sentence = ''\n",
        "  for word in outwords: translated_sentence += word+' '\n",
        "  \n",
        "  return translated_sentence[:-1]"
      ],
      "execution_count": null,
      "outputs": []
    },
    {
      "cell_type": "markdown",
      "metadata": {
        "id": "TITfjs6n5kh_"
      },
      "source": [
        "# Sample Runs"
      ]
    },
    {
      "cell_type": "markdown",
      "metadata": {
        "id": "HR2_cz6vUimT"
      },
      "source": [
        "## Training a model for a particular network configuration"
      ]
    },
    {
      "cell_type": "code",
      "metadata": {
        "id": "_OEEPxLutm-Q"
      },
      "source": [
        "# initialize training model\n",
        "netparams = DEFAULT_NETPARAMS.copy()\n",
        "netparams.update({\n",
        "  \"embed_size\": 16, \n",
        "  \"latent_dim\": 256, \n",
        "  \"enc_layers\": 3, \n",
        "  \"dec_layers\": 2, \n",
        "  \"recurrent_cell\": \"LSTM\",\n",
        "  \"dec_attention\": True,\n",
        "  \"dropout\": 0.05, \n",
        "  \"beam_size\": 1, \n",
        "  \"enc_state_dep\": \"first\"\n",
        "})\n",
        "training_model = fresh_training_model(netparams) # ks.models.load_model(savedModelPath)\n",
        "training_model.summary()"
      ],
      "execution_count": null,
      "outputs": []
    },
    {
      "cell_type": "code",
      "metadata": {
        "id": "ET4ji9GkYz0W"
      },
      "source": [
        "# training parameters\n",
        "epochs = 30\n",
        "batch_size = 32\n",
        "\n",
        "# compile training model\n",
        "training_model.compile(\n",
        "    optimizer=\"rmsprop\", loss=\"categorical_crossentropy\", metrics=[\"accuracy\"]\n",
        ")\n",
        "\n",
        "# Create callbacks\n",
        "wandb=True\n",
        "patience=5\n",
        "\n",
        "callbacks=[ks.callbacks.EarlyStopping(\n",
        "  patience=patience,\n",
        "  restore_best_weights=True\n",
        ")]\n",
        "if wandb:\n",
        "  wandb.init(project=\"Dakshina HI Test 1\")\n",
        "  callbacks.append([wandb.keras.WandbCallback(monitor=\"val_accuracy\")])\n",
        "\n",
        "# train seq2seq model\n",
        "training_model.fit(\n",
        "    [enc_inp_train, dec_inp_train],\n",
        "    dec_tgt_train_onehot,\n",
        "    batch_size=batch_size,\n",
        "    epochs=epochs,\n",
        "    validation_data=( [enc_inp_val, dec_inp_val], dec_tgt_val_onehot ),\n",
        "    callbacks=callbacks\n",
        ")"
      ],
      "execution_count": null,
      "outputs": []
    },
    {
      "cell_type": "code",
      "metadata": {
        "id": "Ohl7khBRXUTc"
      },
      "source": [
        "training_model.evaluate(x=[enc_inp_test, dec_inp_test], y=dec_tgt_test_onehot)"
      ],
      "execution_count": null,
      "outputs": []
    },
    {
      "cell_type": "code",
      "metadata": {
        "id": "5skFP9OyVWPQ"
      },
      "source": [
        "training_model.save(\"/content/drive/MyDrive/Sem_8/s2s_samplerun.h5\")\n",
        "json.dump(netparams, open(\"/content/drive/MyDrive/Sem_8/s2s_samplerun.json\",'w'))"
      ],
      "execution_count": null,
      "outputs": []
    },
    {
      "cell_type": "markdown",
      "metadata": {
        "id": "s6NseynqUvH1"
      },
      "source": [
        "## Testing trained model"
      ]
    },
    {
      "cell_type": "code",
      "metadata": {
        "id": "sHwFkyuoIfd7"
      },
      "source": [
        "use_trained_model = False\n",
        "load_timestamp = \"20210507_154802\"\n",
        "\n",
        "if use_trained_model:\n",
        "  test_model = training_model\n",
        "else:\n",
        "  test_model = ks.models.load_model(\"/content/drive/MyDrive/Sem_8/trained-models/s2s_sweep_\"+load_timestamp+\".h5\")\n",
        "  test_model.netparams = json.load(open(\"/content/drive/MyDrive/Sem_8/trained-models/s2s_sweep_\"+load_timestamp+\".json\",'r'))"
      ],
      "execution_count": null,
      "outputs": []
    },
    {
      "cell_type": "code",
      "metadata": {
        "id": "-VrhZZk4i6rB"
      },
      "source": [
        "test_model.evaluate(x=[enc_inp_test, dec_inp_test], y=dec_tgt_test_onehot)"
      ],
      "execution_count": null,
      "outputs": []
    },
    {
      "cell_type": "code",
      "metadata": {
        "id": "J2XkoCqBfiQa"
      },
      "source": [
        "encoder_model, decoder_model = gen_enc_dec_models(test_model)\n",
        "encoder_model.summary()\n",
        "decoder_model.summary()"
      ],
      "execution_count": null,
      "outputs": []
    },
    {
      "cell_type": "code",
      "metadata": {
        "id": "QNdOBVzwTYM1"
      },
      "source": [
        "print(decode_sequence(\"rani\", [encoder_model, decoder_model]))"
      ],
      "execution_count": null,
      "outputs": []
    },
    {
      "cell_type": "markdown",
      "metadata": {
        "id": "Z8_vhwvv7W4y"
      },
      "source": [
        "# Training Sweep"
      ]
    },
    {
      "cell_type": "code",
      "metadata": {
        "id": "7Vtz3Qo0Ca7v"
      },
      "source": [
        "sweeplog_path = \"/content/drive/MyDrive/Sem_8/sweep/sweeplog.txt\"\n",
        "savemodel_path = \"/content/drive/MyDrive/Sem_8/sweep/trained-models\"\n",
        "run_sep = '-='*30+'-'\n",
        "\n",
        "!mkdir -p $savemodel_path\n",
        "!touch $sweeplog_path"
      ],
      "execution_count": null,
      "outputs": []
    },
    {
      "cell_type": "code",
      "metadata": {
        "id": "gOWMrRtOFF8-"
      },
      "source": [
        "def runWandbSweep():\n",
        "  wandb.init(project=\"dakshina_sweep\")\n",
        "  \n",
        "  tcr_wandb_format     = timestr(\"%b %d '%y %H:%M\")\n",
        "  tcr_savemodel_format = timestr(\"%Y%m%d_%H%M%S\")\n",
        "\n",
        "  cfg = wandb.config\n",
        "  netparams = DEFAULT_NETPARAMS.copy()\n",
        "  netparams.update({\n",
        "    \"embed_size\": cfg.embedding_size, \n",
        "    \"latent_dim\": cfg.hidden_layer_size,\n",
        "    \"enc_layers\": cfg.num_encoder_layers,\n",
        "    \"dec_layers\": cfg.num_decoder_layers,\n",
        "    \"recurrent_cell\": cfg.a1_recurrent_cell,\n",
        "    \"dec_attention\": cfg.decoder_attention,\n",
        "    \"dropout\": cfg.dropout,\n",
        "    \"enc_state_dep\": cfg.encoder_state_dependencies\n",
        "  })\n",
        "  \n",
        "  log_output = \"Sweep run created on \"+tcr_wandb_format+\" (\"+tcr_savemodel_format+\") with following sweep parameters:\\n\"\n",
        "  for i,k in enumerate(netparams):\n",
        "    log_output += str(i+1)+\". \"+k+\" = \"+str(netparams[k])+'\\n'\n",
        "  log_output += \"\\n\\n\"\n",
        "  open(sweeplog_path,'a').write(log_output)\n",
        "  \n",
        "  model = fresh_training_model(netparams)\n",
        "  model.compile(optimizer=\"rmsprop\", loss=\"categorical_crossentropy\", metrics=[\"accuracy\"])\n",
        "  \n",
        "  model.fit(\n",
        "      [enc_inp_train, dec_inp_train],\n",
        "      dec_tgt_train_onehot,\n",
        "      batch_size=cfg.batch_size,\n",
        "      epochs=cfg.epochs,\n",
        "      validation_data=( [enc_inp_val, dec_inp_val], dec_tgt_val_onehot ),\n",
        "      callbacks=[\n",
        "                  ks.callbacks.EarlyStopping(monitor=\"val_loss\", patience=10, restore_best_weights=True)\n",
        "                , wandb.keras.WandbCallback(monitor=\"val_accuracy\")\n",
        "                ]\n",
        "  )\n",
        "\n",
        "  model.save(savemodel_path+\"/s2s_sweep_\"+tcr_savemodel_format+\".h5\")\n",
        "  json.dump(netparams, open(savemodel_path+\"/s2s_sweep_\"+tcr_savemodel_format+\".json\",'w'))\n",
        "  open(sweeplog_path,'a').write(\"Sweep run completed, model saved with timestamp: \"+tcr_savemodel_format+\"\\n\\n\"+run_sep+\"\\n\\n\")"
      ],
      "execution_count": null,
      "outputs": []
    },
    {
      "cell_type": "code",
      "metadata": {
        "id": "71HRcdIeY5uU"
      },
      "source": [
        "use_attention = True # False for Q2, True for Q5\n",
        "wandbSweepCfg = {\n",
        "  \"name\":\"Dakshina Parameter Grid Sweep (xAttention)\", \n",
        "  \"metric\":{\n",
        "    \"name\":\"val_accuracy\",\n",
        "    \"goal\":\"maximize\"\n",
        "  }, \n",
        "  \"method\": \"grid\", \n",
        "  \"parameters\":{\n",
        "    # network parameters\n",
        "    \"embedding_size\": {\"values\":[128, 256]},\n",
        "    \"hidden_layer_size\": {\"values\":[128, 256]},\n",
        "    \"num_encoder_layers\": {\"values\":[1, 2]},\n",
        "    \"num_decoder_layers\": {\"values\":[1]},\n",
        "    \"a1_recurrent_cell\": {\"values\":[\"GRU\", \"LSTM\", \"SimpleRNN\"]},\n",
        "    \"decoder_attention\": {\"values\":[use_attention]},\n",
        "    \"dropout\": {\"values\":[0.2, 0.4]},\n",
        "    \"encoder_state_dependencies\":{\"values\":[\"first\"]},\n",
        "    \n",
        "    # training parameters\n",
        "    \"epochs\": { \"values\":[30] },\n",
        "    \"batch_size\": { \"values\":[32] }\n",
        "  }\n",
        "}\n",
        "\n",
        "open(sweeplog_path,'a').write(run_sep+\"\\n\\nStarted sweep at \"+timestr(\"%H:%M:%S on %b %d, %Y\")+'\\n\\n')\n",
        "\n",
        "sweepId = wandb.sweep(wandbSweepCfg)#\"vasid99/uncategorized/uklnmska\"\n",
        "wandb.agent(sweepId, function = runWandbSweep)"
      ],
      "execution_count": null,
      "outputs": []
    },
    {
      "cell_type": "markdown",
      "metadata": {
        "id": "L9C9Owb48Fe9"
      },
      "source": [
        "# Testing with attention"
      ]
    },
    {
      "cell_type": "code",
      "metadata": {
        "id": "GzcKpC8-8JNm"
      },
      "source": [
        "# initialize training model\n",
        "netparams = DEFAULT_NETPARAMS.copy()\n",
        "netparams.update({\n",
        "  \"embed_size\": 64, \n",
        "  \"latent_dim\": 256, \n",
        "  \"enc_layers\": 1, \n",
        "  \"dec_layers\": 1, \n",
        "  \"recurrent_cell\": \"LSTM\",\n",
        "  \"dec_attention\": True,\n",
        "  \"dropout\": 0.2, \n",
        "  \"beam_size\": 1, \n",
        "  \"enc_state_dep\": \"first\"\n",
        "})\n",
        "training_model = fresh_training_model(netparams) # ks.models.load_model(savedModelPath)\n",
        "#training_model.summary()\n",
        "\n",
        "\n",
        "# training parameters\n",
        "epochs = 30\n",
        "batch_size = 32\n",
        "\n",
        "# compile training model\n",
        "training_model.compile(\n",
        "    optimizer=\"rmsprop\", loss=\"categorical_crossentropy\", metrics=[\"accuracy\"]\n",
        ")\n",
        "\n",
        "# Create callbacks\n",
        "wandb=False\n",
        "patience=5\n",
        "\n",
        "callbacks=[ks.callbacks.EarlyStopping(\n",
        "  patience=patience,\n",
        "  restore_best_weights=True\n",
        ")]\n",
        "if wandb:\n",
        "  wandb.init(project=\"Dakshina HI Test 1\")\n",
        "  callbacks.append([wandb.keras.WandbCallback(monitor=\"val_accuracy\")])\n",
        "\n",
        "# train seq2seq model\n",
        "training_model.fit(\n",
        "    [enc_inp_train, dec_inp_train],\n",
        "    dec_tgt_train_onehot,\n",
        "    batch_size=batch_size,\n",
        "    epochs=epochs,\n",
        "    validation_data=( [enc_inp_val, dec_inp_val], dec_tgt_val_onehot ),\n",
        "    callbacks=callbacks\n",
        ")"
      ],
      "execution_count": null,
      "outputs": []
    },
    {
      "cell_type": "code",
      "metadata": {
        "id": "KietThFr_HR6"
      },
      "source": [
        "encoder_model, decoder_model = gen_enc_dec_models(training_model)\n",
        "encoder_model.summary()\n",
        "decoder_model.summary()"
      ],
      "execution_count": null,
      "outputs": []
    },
    {
      "cell_type": "code",
      "metadata": {
        "id": "Kbn-CNvh_RCY"
      },
      "source": [
        "seq_pred, attn_weights = decode_sequence(\"asambhav\", [encoder_model, decoder_model])\n",
        "seq_pred"
      ],
      "execution_count": null,
      "outputs": []
    },
    {
      "cell_type": "code",
      "metadata": {
        "id": "HEeIwn_RAlIC"
      },
      "source": [
        "len(attn_weights)"
      ],
      "execution_count": null,
      "outputs": []
    },
    {
      "cell_type": "code",
      "metadata": {
        "id": "TdH6B7TQA3ni"
      },
      "source": [
        "len(seq_pred)"
      ],
      "execution_count": null,
      "outputs": []
    },
    {
      "cell_type": "code",
      "metadata": {
        "id": "szoC3SdOA8_s"
      },
      "source": [
        "attn_weights[0].shape"
      ],
      "execution_count": null,
      "outputs": []
    },
    {
      "cell_type": "code",
      "metadata": {
        "id": "qd3QWyYhByiw"
      },
      "source": [
        "len_input = len('asambhav')"
      ],
      "execution_count": null,
      "outputs": []
    },
    {
      "cell_type": "code",
      "metadata": {
        "id": "hySzdlxHBDH4"
      },
      "source": [
        "attn_weights = np.array([ element[0,0,:len_input] for element in attn_weights ])\n",
        "attn_weights.shape"
      ],
      "execution_count": null,
      "outputs": []
    },
    {
      "cell_type": "code",
      "metadata": {
        "id": "UuZM3fMEB_Rq"
      },
      "source": [
        "attn_weights"
      ],
      "execution_count": null,
      "outputs": []
    },
    {
      "cell_type": "code",
      "metadata": {
        "id": "U7zq7RpaCc-4"
      },
      "source": [
        "plt.imshow(attn_weights, cmap='hot', interpolation='nearest')\n",
        "plt.show()"
      ],
      "execution_count": null,
      "outputs": []
    },
    {
      "cell_type": "markdown",
      "metadata": {
        "id": "9DvfjHaKii3U"
      },
      "source": [
        "# Inference on model with attention"
      ]
    },
    {
      "cell_type": "code",
      "metadata": {
        "id": "7JIx_tT4inmW"
      },
      "source": [
        "load_timestamp = \"20210507_200906\"# with attention: \"20210507_200906\"; without attention: \"20210507_130939\"\n",
        "inference_model = ks.models.load_model(\"/content/drive/MyDrive/Sem_8/sweep_attn/trained-models/s2s_sweep_\"+load_timestamp+\".h5\")\n",
        "inference_model.netparams = json.load(open(\"/content/drive/MyDrive/Sem_8/sweep_attn/trained-models/s2s_sweep_\"+load_timestamp+\".json\",'r'))"
      ],
      "execution_count": null,
      "outputs": []
    },
    {
      "cell_type": "code",
      "metadata": {
        "id": "VeqpFu6en3XQ"
      },
      "source": [
        "print(\"INFERENCE MODEL\")\n",
        "inference_model.summary()\n",
        "ks.utils.plot_model(inference_model)"
      ],
      "execution_count": null,
      "outputs": []
    },
    {
      "cell_type": "code",
      "metadata": {
        "id": "kchno753DbZX"
      },
      "source": [
        "inference_model.evaluate(x=[enc_inp_test, dec_inp_test], y=dec_tgt_test_onehot)"
      ],
      "execution_count": null,
      "outputs": []
    },
    {
      "cell_type": "code",
      "metadata": {
        "id": "lWqYWbbqp2Xp"
      },
      "source": [
        "encoder_model, decoder_model = extract_inference_submodels(inference_model)\n",
        "inference_submodels = [encoder_model, decoder_model]"
      ],
      "execution_count": null,
      "outputs": []
    },
    {
      "cell_type": "code",
      "metadata": {
        "id": "sCg6xbr8DBSL"
      },
      "source": [
        "datamask = range(len(test_data))\n",
        "if inference_model.netparams[\"dec_attention\"]:\n",
        "  test_pred, attn_weights_lst = seq2seq(test_data[datamask,1], inference_submodels, return_attention_weights=True, add_startchar=True, add_endchar=True)\n",
        "else:\n",
        "  test_pred = seq2seq(test_data[datamask,1], inference_submodels, add_startchar=True, add_endchar=True)\n",
        "\n",
        "acc = prediction_accuracy(test_pred, test_data[datamask,0])\n",
        "print(\"Prediction accuracy on test dataset = \",acc)"
      ],
      "execution_count": null,
      "outputs": []
    },
    {
      "cell_type": "code",
      "metadata": {
        "colab": {
          "base_uri": "https://localhost:8080/",
          "height": 187
        },
        "id": "ZHOH9XJSEpQr",
        "outputId": "16ec44bd-6dd2-4ea4-fb35-6a00cc76d819"
      },
      "source": [
        "test_df = pd.DataFrame(list(zip(test_data[:,1], test_data[:,0], test_pred)), columns=['Input', 'Actual', 'Predicted'])\n",
        "test_df.head()"
      ],
      "execution_count": null,
      "outputs": [
        {
          "output_type": "execute_result",
          "data": {
            "text/html": [
              "<div>\n",
              "<style scoped>\n",
              "    .dataframe tbody tr th:only-of-type {\n",
              "        vertical-align: middle;\n",
              "    }\n",
              "\n",
              "    .dataframe tbody tr th {\n",
              "        vertical-align: top;\n",
              "    }\n",
              "\n",
              "    .dataframe thead th {\n",
              "        text-align: right;\n",
              "    }\n",
              "</style>\n",
              "<table border=\"1\" class=\"dataframe\">\n",
              "  <thead>\n",
              "    <tr style=\"text-align: right;\">\n",
              "      <th></th>\n",
              "      <th>Input</th>\n",
              "      <th>Actual</th>\n",
              "      <th>Predicted</th>\n",
              "    </tr>\n",
              "  </thead>\n",
              "  <tbody>\n",
              "    <tr>\n",
              "      <th>0</th>\n",
              "      <td>ank</td>\n",
              "      <td>\\tअंक\\n</td>\n",
              "      <td>\\tअंक\\n</td>\n",
              "    </tr>\n",
              "    <tr>\n",
              "      <th>1</th>\n",
              "      <td>ankit</td>\n",
              "      <td>\\tअंकित\\n</td>\n",
              "      <td>\\tअंकित\\n</td>\n",
              "    </tr>\n",
              "    <tr>\n",
              "      <th>2</th>\n",
              "      <td>anakon</td>\n",
              "      <td>\\tअंकों\\n</td>\n",
              "      <td>\\tअनाकों\\n</td>\n",
              "    </tr>\n",
              "    <tr>\n",
              "      <th>3</th>\n",
              "      <td>angkor</td>\n",
              "      <td>\\tअंकोर\\n</td>\n",
              "      <td>\\tअंगकर\\n</td>\n",
              "    </tr>\n",
              "    <tr>\n",
              "      <th>4</th>\n",
              "      <td>angaarak</td>\n",
              "      <td>\\tअंगारक\\n</td>\n",
              "      <td>\\tअंगारक\\n</td>\n",
              "    </tr>\n",
              "  </tbody>\n",
              "</table>\n",
              "</div>"
            ],
            "text/plain": [
              "      Input      Actual   Predicted\n",
              "0       ank     \\tअंक\\n     \\tअंक\\n\n",
              "1     ankit   \\tअंकित\\n   \\tअंकित\\n\n",
              "2    anakon   \\tअंकों\\n  \\tअनाकों\\n\n",
              "3    angkor   \\tअंकोर\\n   \\tअंगकर\\n\n",
              "4  angaarak  \\tअंगारक\\n  \\tअंगारक\\n"
            ]
          },
          "metadata": {
            "tags": []
          },
          "execution_count": 29
        }
      ]
    },
    {
      "cell_type": "code",
      "metadata": {
        "id": "pcY-QFjNBJQ_"
      },
      "source": [
        "test_df.to_csv(\"/content/drive/MyDrive/Sem_8/test_df.csv\",index=False)"
      ],
      "execution_count": null,
      "outputs": []
    },
    {
      "cell_type": "code",
      "metadata": {
        "colab": {
          "base_uri": "https://localhost:8080/"
        },
        "id": "S_0aISJNLv6b",
        "outputId": "c7227e57-5a8c-4cb7-d76e-643718332a60"
      },
      "source": [
        "attn_weights_arr = np.squeeze(np.array(attn_weights_lst))\n",
        "attn_weights_arr = np.array([ attn_weights_arr[:,i,:] for i in range(attn_weights_arr.shape[1]) ])\n",
        "attn_weights_arr.shape"
      ],
      "execution_count": null,
      "outputs": [
        {
          "output_type": "execute_result",
          "data": {
            "text/plain": [
              "(2500, 21, 20)"
            ]
          },
          "metadata": {
            "tags": []
          },
          "execution_count": 30
        }
      ]
    },
    {
      "cell_type": "code",
      "metadata": {
        "id": "r-mnMoQIti6-"
      },
      "source": [
        "from matplotlib.font_manager import FontProperties\n",
        "\n",
        "font_prop = FontProperties(fname=\"/content/drive/MyDrive/Sem_8/Akshar_Unicode.ttf\", size=18)"
      ],
      "execution_count": null,
      "outputs": []
    },
    {
      "cell_type": "code",
      "metadata": {
        "colab": {
          "base_uri": "https://localhost:8080/",
          "height": 971
        },
        "id": "GQ_faflsGpQG",
        "outputId": "0b8dc0fb-4580-45fe-b901-8a383ffeed99"
      },
      "source": [
        "ids_sub = np.sort(np.random.randint(len(test_pred), size=9))\n",
        "test_in_sub = test_data[ids_sub, 1]\n",
        "test_pred_sub = test_pred[ids_sub]\n",
        "attn_weights_sub = attn_weights_arr[ids_sub]\n",
        "\n",
        "fig, ax = plt.subplots(3, 3, figsize=(20,15))\n",
        "fig.suptitle('Attention Heatmaps')\n",
        "for i in range(9):\n",
        "  pos = (i//3, i%3)\n",
        "  input_word, len_in   = test_in_sub[i]  , len(test_in_sub[i])\n",
        "  pred_word, len_pred  = test_pred_sub[i], len(test_pred_sub[i])\n",
        "  attn_grid = attn_weights_sub[i][:len_pred, :len_in]\n",
        "  xticks_ch = [ch for ch in input_word]\n",
        "  yticks_ch = [ch for ch in pred_word[1:]]\n",
        "  im = ax[pos].imshow(attn_grid, cmap='hot', interpolation='nearest')\n",
        "  ax[pos].set_xticks(range(len_in))\n",
        "  ax[pos].set_yticks(range(len_pred))\n",
        "  ax[pos].set_xticklabels(xticks_ch)\n",
        "  ax[pos].set_yticklabels(yticks_ch, fontproperties=font_prop)\n",
        "fig.subplots_adjust(right=0.8)\n",
        "cbar_ax = fig.add_axes([0.85, 0.15, 0.05, 0.7])\n",
        "fig.colorbar(im, cax=cbar_ax)\n",
        "plt.show()"
      ],
      "execution_count": null,
      "outputs": [
        {
          "output_type": "display_data",
          "data": {
            "image/png": "[encoded data removed]",
            "text/plain": [
              "<Figure size 1440x1080 with 10 Axes>"
            ]
          },
          "metadata": {
            "tags": [],
            "needs_background": "light"
          }
        }
      ]
    },
    {
      "cell_type": "code",
      "metadata": {
        "id": "6GwdXO3ONUm1"
      },
      "source": [
        "wandb.init(project=\"DL Assignment03 Transliteration\")\n",
        "wandb.log({\"Attention Heatmaps\": wandb.Image(fig)})"
      ],
      "execution_count": null,
      "outputs": []
    },
    {
      "cell_type": "markdown",
      "metadata": {
        "id": "UekRXsI5OcBx"
      },
      "source": [
        "# Connectivity"
      ]
    },
    {
      "cell_type": "code",
      "metadata": {
        "id": "jaxrIZjKcCcR"
      },
      "source": [
        "from IPython.display import HTML as html_print\n",
        "from IPython.display import display\n",
        "\n",
        "import matplotlib\n",
        "import matplotlib.cm as cm\n",
        "\n",
        "from time import sleep\n",
        "\n",
        "from IPython.display import clear_output"
      ],
      "execution_count": null,
      "outputs": []
    },
    {
      "cell_type": "code",
      "metadata": {
        "id": "w2minxUSSB1a"
      },
      "source": [
        "#Map values to rgba\n",
        "def map_val_to_color(input_arr):\n",
        "    minima = min(input_arr)\n",
        "    maxima = max(input_arr)\n",
        "\n",
        "    norm = matplotlib.colors.Normalize(vmin=minima, vmax=maxima, clip=True)\n",
        "    mapper = cm.ScalarMappable(norm=norm, cmap=cm.Greens)\n",
        "\n",
        "    mapped_lst = []\n",
        "    for v in input_arr:\n",
        "        color_rgba = (np.array(mapper.to_rgba(v))*255).astype(int)\n",
        "        mapped_lst.append('#{:02x}{:02x}{:02x}'.format(*color_rgba))\n",
        "    return np.array(mapped_lst)\n",
        "\n",
        "# get html element\n",
        "def cstr(s, color='black'):\n",
        "\tif s == ' ':\n",
        "\t\treturn \"<text style=color:#000;padding-left:10px;background-color:{}> </text>\".format(color, s)\n",
        "\telse:\n",
        "\t\treturn \"<text style=color:#000;background-color:{}>{} </text>\".format(color, s)\n",
        "\n",
        "# print html\n",
        "parse_color = lambda t:''.join([cstr(ti, color=ci) for ti,ci in t])\n",
        "print_color = lambda t:display(html_print(parse_color(t)))"
      ],
      "execution_count": null,
      "outputs": []
    },
    {
      "cell_type": "code",
      "metadata": {
        "id": "lEpGDm7JnPp0"
      },
      "source": [
        "wandb.init(project=\"A3 Connectivity\")\n",
        "html_full_log = \"<center>\"\n",
        "numwords = 6\n",
        "\n",
        "for id_word in np.random.randint([len(test_data)]*numwords):\n",
        "  html_log = \"<table><tr><th>Predicted Word</th><th> </th><th>Input Word</th></tr>\"\n",
        "  input_word, len_in   = test_data[id_word,1], len(test_data[id_word,1])\n",
        "  pred_word, len_pred  = test_pred[id_word][1:-1]  , len(test_pred[id_word][1:-1])\n",
        "\n",
        "  input_chars = np.array([ch for ch in input_word])\n",
        "  pred_chars  = np.array([ch for ch in pred_word])\n",
        "  for i in range(len_pred):\n",
        "      color_vals_pred = np.zeros(len_pred)\n",
        "      color_vals_pred[i] = 1\n",
        "\n",
        "      color_vals_in = attn_weights_arr[id_word, i, :len_in]\n",
        "\n",
        "      colors_mappd_pred = map_val_to_color(color_vals_pred)\n",
        "      colors_mappd_in   = map_val_to_color(color_vals_in)\n",
        "\n",
        "      char_color_lst_pred = list(zip(pred_chars, colors_mappd_pred))\n",
        "      char_color_lst_in   = list(zip(input_chars, colors_mappd_in))\n",
        "\n",
        "      html_log += '<tr><td>'+parse_color(char_color_lst_pred)+'</td><td> </td><td>'+parse_color(char_color_lst_in)+'</td></tr>'\n",
        "  html_log += \"</table>\"\n",
        "  html_full_log += html_log+\"<br>\"\n",
        "html_full_log += \"</center>\"\n",
        "wandb.log({\"Connections\":wandb.Html(html_full_log)})"
      ],
      "execution_count": null,
      "outputs": []
    },
    {
      "cell_type": "code",
      "metadata": {
        "id": "Hk96TrZwK-jm"
      },
      "source": [
        "# Code to calculate gradient of output w.r.t. input, did not work properly\n",
        "'''\n",
        "encoder_model3, decoder_model3 = extract_inference_submodels_2(inference_model)\n",
        "inference_submodels3 = [encoder_model3, decoder_model3]\n",
        "\n",
        "id = np.random.randint(len(test_data))\n",
        "X = tf.constant(str_to_numarray([test_data[id,1]], max_len_input, input_dict))\n",
        "\n",
        "Y = numseq2numseq(X, inference_submodels3)\n",
        "\n",
        "\n",
        "with tf.GradientTape() as t:\n",
        "  t.watch(X)\n",
        "  Y = numseq2numseq(X, inference_submodels_2)\n",
        "\n",
        "dy_dx = np.absolute(t.jacobian(Y,X).numpy())\n",
        "'''"
      ],
      "execution_count": null,
      "outputs": []
    },
    {
      "cell_type": "markdown",
      "metadata": {
        "id": "1tWIleLVWmgu"
      },
      "source": [
        "# Comparing predictions with and without attention"
      ]
    },
    {
      "cell_type": "code",
      "metadata": {
        "id": "bCyzWjlxV7ya"
      },
      "source": [
        "pred_attn = np.array(pd.read_csv(\"/content/drive/MyDrive/Sem_8/predictions_attention.csv\"))[:,-1]\n",
        "pred_no_attn = np.array(pd.read_csv(\"/content/drive/MyDrive/Sem_8/predictions_no_attention.csv\"))[:,-1]\n",
        "\n",
        "acc_attn = prediction_accuracy(pred_attn, test_data[:,0])\n",
        "acc_no_attn = prediction_accuracy(pred_no_attn, test_data[:,0])\n",
        "\n",
        "print(\"Prediction accuracy on test dataset without attention = \",acc_no_attn)\n",
        "print(\"Prediction accuracy on test dataset with attention = \",acc_attn)"
      ],
      "execution_count": null,
      "outputs": []
    },
    {
      "cell_type": "code",
      "metadata": {
        "id": "MPK_av9XYq4Q"
      },
      "source": [
        "ids_attn_corr_no_attn_incorr = (pred_attn==test_data[:,0])&(pred_no_attn!=test_data[:,0])\n",
        "pred_attn_attn_corr_no_attn_incorr    = pred_attn[ids_attn_corr_no_attn_incorr]\n",
        "pred_no_attn_attn_corr_no_attn_incorr = pred_no_attn[ids_attn_corr_no_attn_incorr]\n",
        "target_attn_corr_no_attn_incorr       = test_data[ids_attn_corr_no_attn_incorr,0]\n",
        "\n",
        "attn_corr_no_attn_incorr_df = pd.DataFrame(list(zip(target_attn_corr_no_attn_incorr,\n",
        "                                                    pred_no_attn_attn_corr_no_attn_incorr,\n",
        "                                                    pred_attn_attn_corr_no_attn_incorr)), \n",
        "                                           columns=['Actual', 'Prediction w/o Attention', 'Prediction w Attention'])"
      ],
      "execution_count": null,
      "outputs": []
    },
    {
      "cell_type": "code",
      "metadata": {
        "id": "EFWsZ6oPJJ69"
      },
      "source": [
        "attn_corr_no_attn_incorr_df.to_csv(\"/content/drive/MyDrive/Sem_8/Correct_w_attention_incorrect_wo_attention.csv\",index=False)"
      ],
      "execution_count": null,
      "outputs": []
    }
  ]
}